{
 "cells": [
  {
   "cell_type": "markdown",
   "metadata": {},
   "source": [
    "# EPA112A - Programming for Data Science - Group 31\n",
    "\n",
    "- Georges Puttaert - 4686160\n",
    "- Thijs Roolvink\n",
    "- Gijs de Werd"
   ]
  },
  {
   "cell_type": "markdown",
   "metadata": {},
   "source": [
    "## Research Question\n",
    "\n",
    " **Income Inequality and Social Welfare: What is the impact of income inequality on social welfare indicators, such as life expectancy, education access, and healthcare quality for countries in the low, lower middle, upper middle and high income categories?**\n",
    "\n",
    "Link to countries per income category:\n",
    "<br>\n",
    "https://datatopics.worldbank.org/world-development-indicators/the-world-by-income-and-region.html"
   ]
  },
  {
   "cell_type": "markdown",
   "metadata": {},
   "source": [
    "Chosen Countries per category:\n",
    "- **Upper income**: United States of America (USA)\n",
    "- **Upper middle income**: Argentina (ARG)\n",
    "- **Lower middle income**: India (IND)\n",
    "- **Low income**: Ethiopia (ETH)"
   ]
  },
  {
   "cell_type": "markdown",
   "metadata": {},
   "source": [
    "### Packages"
   ]
  },
  {
   "cell_type": "code",
   "execution_count": 35,
   "metadata": {},
   "outputs": [],
   "source": [
    "import wbdata\n",
    "import plotly.express as px\n",
    "from sklearn.ensemble import RandomForestRegressor\n",
    "from sklearn.metrics import mean_absolute_error, mean_squared_error, r2_score\n",
    "from sklearn.model_selection import train_test_split\n",
    "import matplotlib.pyplot as plt\n",
    "import numpy as np\n"
   ]
  },
  {
   "cell_type": "markdown",
   "metadata": {},
   "source": [
    "### Indicators from the World Bank"
   ]
  },
  {
   "cell_type": "code",
   "execution_count": 36,
   "metadata": {},
   "outputs": [],
   "source": [
    "# Define indicators\n",
    "health_indicators = {'SH.XPD.CHEX.GD.ZS': \"Health Expenditure as a Percentage of GDP\", \"SH.IMM.IDPT\": \"Immunization\"}\n",
    "GDP_indicator = {'NY.GDP.PCAP.CD': 'gdppc'}\n",
    "life_exp_indicator = {'SP.DYN.LE00.IN': 'Life Expectancy at Birth', 'SH.DYN.MORT': 'Child Mortality'}\n",
    "immuni_childmortality_indicator = {\"SH.IMM.IDPT\": \"Immunization\", 'SH.STA.MMRT': 'Maternal Mortality Rate'}"
   ]
  },
  {
   "cell_type": "markdown",
   "metadata": {},
   "source": [
    "### DataFrames for chosen indicators and countries from the World Bank"
   ]
  },
  {
   "cell_type": "code",
   "execution_count": 37,
   "metadata": {},
   "outputs": [],
   "source": [
    "#United States of America\n",
    "df_health_usa = wbdata.get_dataframe(health_indicators, country=['USA'], convert_date=True)\n",
    "df_gdp_usa = wbdata.get_dataframe(GDP_indicator, country=['USA'], convert_date=True)\n",
    "df_life_exp_usa = wbdata.get_dataframe(life_exp_indicator, country=['USA'], convert_date=True)\n",
    "df_immuni_childmortality_usa = wbdata.get_dataframe(immuni_childmortality_indicator, country=['USA'], convert_date=True)\n",
    "\n",
    "#Argentina\n",
    "df_health_arg = wbdata.get_dataframe(health_indicators, country=['ARG'], convert_date=True)\n",
    "df_gdp_arg = wbdata.get_dataframe(GDP_indicator, country=['ARG'], convert_date=True)\n",
    "df_life_exp_arg = wbdata.get_dataframe(life_exp_indicator, country=['ARG'], convert_date=True)\n",
    "df_immuni_childmortality_arg = wbdata.get_dataframe(immuni_childmortality_indicator, country=['ARG'], convert_date=True)\n",
    "\n",
    "#India\n",
    "df_health_ind = wbdata.get_dataframe(health_indicators, country=['IND'], convert_date=True)\n",
    "df_gdp_ind = wbdata.get_dataframe(GDP_indicator, country=['IND'], convert_date=True)\n",
    "df_life_exp_ind = wbdata.get_dataframe(life_exp_indicator, country=['IND'], convert_date=True)\n",
    "df_immuni_childmortality_ind = wbdata.get_dataframe(immuni_childmortality_indicator, country=['IND'], convert_date=True)\n",
    "\n",
    "#Ethiopia\n",
    "df_health_eth = wbdata.get_dataframe(health_indicators, country=['ETH'], convert_date=True)\n",
    "df_gdp_eth = wbdata.get_dataframe(GDP_indicator, country=['ETH'], convert_date=True)\n",
    "df_life_exp_eth = wbdata.get_dataframe(life_exp_indicator, country=['ETH'], convert_date=True)\n",
    "df_immuni_childmortality_eth = wbdata.get_dataframe(immuni_childmortality_indicator, country=['ETH'], convert_date=True)"
   ]
  },
  {
   "cell_type": "code",
   "execution_count": 38,
   "metadata": {},
   "outputs": [
    {
     "data": {
      "application/vnd.plotly.v1+json": {
       "config": {
        "plotlyServerURL": "https://plot.ly"
       },
       "data": [
        {
         "mode": "lines",
         "name": "Income Inequality (Gini Index)",
         "type": "scatter",
         "x": [
          "2020-01-01T00:00:00",
          "2019-01-01T00:00:00",
          "2018-01-01T00:00:00",
          "2017-01-01T00:00:00",
          "2016-01-01T00:00:00",
          "2015-01-01T00:00:00",
          "2014-01-01T00:00:00",
          "2013-01-01T00:00:00",
          "2012-01-01T00:00:00",
          "2011-01-01T00:00:00",
          "2010-01-01T00:00:00",
          "2009-01-01T00:00:00",
          "2008-01-01T00:00:00",
          "2007-01-01T00:00:00",
          "2006-01-01T00:00:00",
          "2005-01-01T00:00:00",
          "2004-01-01T00:00:00",
          "2003-01-01T00:00:00",
          "2002-01-01T00:00:00",
          "2001-01-01T00:00:00",
          "2000-01-01T00:00:00"
         ],
         "y": [
          39.7,
          41.5,
          41.4,
          41.2,
          41.1,
          41.2,
          41.5,
          40.7,
          40.9,
          40.9,
          40,
          40.6,
          40.8,
          40.8,
          41.4,
          41,
          40.3,
          40.8,
          40.4,
          40.6,
          40.1
         ]
        },
        {
         "mode": "lines",
         "name": "Life Expectancy",
         "type": "scatter",
         "x": [
          "2020-01-01T00:00:00",
          "2019-01-01T00:00:00",
          "2018-01-01T00:00:00",
          "2017-01-01T00:00:00",
          "2016-01-01T00:00:00",
          "2015-01-01T00:00:00",
          "2014-01-01T00:00:00",
          "2013-01-01T00:00:00",
          "2012-01-01T00:00:00",
          "2011-01-01T00:00:00",
          "2010-01-01T00:00:00",
          "2009-01-01T00:00:00",
          "2008-01-01T00:00:00",
          "2007-01-01T00:00:00",
          "2006-01-01T00:00:00",
          "2005-01-01T00:00:00",
          "2004-01-01T00:00:00",
          "2003-01-01T00:00:00",
          "2002-01-01T00:00:00",
          "2001-01-01T00:00:00",
          "2000-01-01T00:00:00"
         ],
         "y": [
          76.9804878048781,
          78.7878048780488,
          78.6390243902439,
          78.5390243902439,
          78.5390243902439,
          78.690243902439,
          78.8414634146341,
          78.7414634146342,
          78.7414634146342,
          78.6414634146341,
          78.5414634146342,
          78.390243902439,
          78.0390243902439,
          77.9878048780488,
          77.6878048780488,
          77.4878048780488,
          77.4878048780488,
          77.0365853658537,
          76.9365853658537,
          76.8365853658537,
          76.6365853658537
         ]
        },
        {
         "mode": "lines",
         "name": "Poverty headcount",
         "type": "scatter",
         "x": [
          "2020-01-01T00:00:00",
          "2019-01-01T00:00:00",
          "2018-01-01T00:00:00",
          "2017-01-01T00:00:00",
          "2016-01-01T00:00:00",
          "2015-01-01T00:00:00",
          "2014-01-01T00:00:00",
          "2013-01-01T00:00:00",
          "2012-01-01T00:00:00",
          "2011-01-01T00:00:00",
          "2010-01-01T00:00:00",
          "2009-01-01T00:00:00",
          "2008-01-01T00:00:00",
          "2007-01-01T00:00:00",
          "2006-01-01T00:00:00",
          "2005-01-01T00:00:00",
          "2004-01-01T00:00:00",
          "2003-01-01T00:00:00",
          "2002-01-01T00:00:00",
          "2001-01-01T00:00:00",
          "2000-01-01T00:00:00"
         ],
         "y": [
          0.2,
          1,
          1,
          1.2,
          1,
          1.2,
          1.2,
          1,
          1,
          1,
          1,
          1,
          1,
          1,
          1,
          1,
          1,
          1,
          0.7,
          0.7,
          0.7
         ]
        },
        {
         "mode": "lines",
         "name": "Acces to electricity (percentage of pop)",
         "type": "scatter",
         "x": [
          "2020-01-01T00:00:00",
          "2019-01-01T00:00:00",
          "2018-01-01T00:00:00",
          "2017-01-01T00:00:00",
          "2016-01-01T00:00:00",
          "2015-01-01T00:00:00",
          "2014-01-01T00:00:00",
          "2013-01-01T00:00:00",
          "2012-01-01T00:00:00",
          "2011-01-01T00:00:00",
          "2010-01-01T00:00:00",
          "2009-01-01T00:00:00",
          "2008-01-01T00:00:00",
          "2007-01-01T00:00:00",
          "2006-01-01T00:00:00",
          "2005-01-01T00:00:00",
          "2004-01-01T00:00:00",
          "2003-01-01T00:00:00",
          "2002-01-01T00:00:00",
          "2001-01-01T00:00:00",
          "2000-01-01T00:00:00"
         ],
         "y": [
          100,
          100,
          100,
          100,
          100,
          100,
          100,
          100,
          100,
          100,
          100,
          100,
          100,
          100,
          100,
          100,
          100,
          100,
          100,
          100,
          100
         ]
        },
        {
         "mode": "lines",
         "name": "Immunization",
         "type": "scatter",
         "x": [
          "2020-01-01T00:00:00",
          "2019-01-01T00:00:00",
          "2018-01-01T00:00:00",
          "2017-01-01T00:00:00",
          "2016-01-01T00:00:00",
          "2015-01-01T00:00:00",
          "2014-01-01T00:00:00",
          "2013-01-01T00:00:00",
          "2012-01-01T00:00:00",
          "2011-01-01T00:00:00",
          "2010-01-01T00:00:00",
          "2009-01-01T00:00:00",
          "2008-01-01T00:00:00",
          "2007-01-01T00:00:00",
          "2006-01-01T00:00:00",
          "2005-01-01T00:00:00",
          "2004-01-01T00:00:00",
          "2003-01-01T00:00:00",
          "2002-01-01T00:00:00",
          "2001-01-01T00:00:00",
          "2000-01-01T00:00:00"
         ],
         "y": [
          93,
          94,
          94,
          94,
          95,
          95,
          95,
          94,
          94,
          96,
          95,
          95,
          96,
          96,
          96,
          96,
          96,
          96,
          94,
          94,
          94
         ]
        },
        {
         "mode": "lines",
         "name": "Maternal Mortality Rate",
         "type": "scatter",
         "x": [
          "2020-01-01T00:00:00",
          "2019-01-01T00:00:00",
          "2018-01-01T00:00:00",
          "2017-01-01T00:00:00",
          "2016-01-01T00:00:00",
          "2015-01-01T00:00:00",
          "2014-01-01T00:00:00",
          "2013-01-01T00:00:00",
          "2012-01-01T00:00:00",
          "2011-01-01T00:00:00",
          "2010-01-01T00:00:00",
          "2009-01-01T00:00:00",
          "2008-01-01T00:00:00",
          "2007-01-01T00:00:00",
          "2006-01-01T00:00:00",
          "2005-01-01T00:00:00",
          "2004-01-01T00:00:00",
          "2003-01-01T00:00:00",
          "2002-01-01T00:00:00",
          "2001-01-01T00:00:00",
          "2000-01-01T00:00:00"
         ],
         "y": [
          21,
          20,
          19,
          19,
          18,
          17,
          17,
          16,
          16,
          15,
          14,
          15,
          14,
          13,
          13,
          13,
          13,
          13,
          13,
          13,
          12
         ]
        }
       ],
       "layout": {
        "template": {
         "data": {
          "bar": [
           {
            "error_x": {
             "color": "#2a3f5f"
            },
            "error_y": {
             "color": "#2a3f5f"
            },
            "marker": {
             "line": {
              "color": "#E5ECF6",
              "width": 0.5
             },
             "pattern": {
              "fillmode": "overlay",
              "size": 10,
              "solidity": 0.2
             }
            },
            "type": "bar"
           }
          ],
          "barpolar": [
           {
            "marker": {
             "line": {
              "color": "#E5ECF6",
              "width": 0.5
             },
             "pattern": {
              "fillmode": "overlay",
              "size": 10,
              "solidity": 0.2
             }
            },
            "type": "barpolar"
           }
          ],
          "carpet": [
           {
            "aaxis": {
             "endlinecolor": "#2a3f5f",
             "gridcolor": "white",
             "linecolor": "white",
             "minorgridcolor": "white",
             "startlinecolor": "#2a3f5f"
            },
            "baxis": {
             "endlinecolor": "#2a3f5f",
             "gridcolor": "white",
             "linecolor": "white",
             "minorgridcolor": "white",
             "startlinecolor": "#2a3f5f"
            },
            "type": "carpet"
           }
          ],
          "choropleth": [
           {
            "colorbar": {
             "outlinewidth": 0,
             "ticks": ""
            },
            "type": "choropleth"
           }
          ],
          "contour": [
           {
            "colorbar": {
             "outlinewidth": 0,
             "ticks": ""
            },
            "colorscale": [
             [
              0,
              "#0d0887"
             ],
             [
              0.1111111111111111,
              "#46039f"
             ],
             [
              0.2222222222222222,
              "#7201a8"
             ],
             [
              0.3333333333333333,
              "#9c179e"
             ],
             [
              0.4444444444444444,
              "#bd3786"
             ],
             [
              0.5555555555555556,
              "#d8576b"
             ],
             [
              0.6666666666666666,
              "#ed7953"
             ],
             [
              0.7777777777777778,
              "#fb9f3a"
             ],
             [
              0.8888888888888888,
              "#fdca26"
             ],
             [
              1,
              "#f0f921"
             ]
            ],
            "type": "contour"
           }
          ],
          "contourcarpet": [
           {
            "colorbar": {
             "outlinewidth": 0,
             "ticks": ""
            },
            "type": "contourcarpet"
           }
          ],
          "heatmap": [
           {
            "colorbar": {
             "outlinewidth": 0,
             "ticks": ""
            },
            "colorscale": [
             [
              0,
              "#0d0887"
             ],
             [
              0.1111111111111111,
              "#46039f"
             ],
             [
              0.2222222222222222,
              "#7201a8"
             ],
             [
              0.3333333333333333,
              "#9c179e"
             ],
             [
              0.4444444444444444,
              "#bd3786"
             ],
             [
              0.5555555555555556,
              "#d8576b"
             ],
             [
              0.6666666666666666,
              "#ed7953"
             ],
             [
              0.7777777777777778,
              "#fb9f3a"
             ],
             [
              0.8888888888888888,
              "#fdca26"
             ],
             [
              1,
              "#f0f921"
             ]
            ],
            "type": "heatmap"
           }
          ],
          "heatmapgl": [
           {
            "colorbar": {
             "outlinewidth": 0,
             "ticks": ""
            },
            "colorscale": [
             [
              0,
              "#0d0887"
             ],
             [
              0.1111111111111111,
              "#46039f"
             ],
             [
              0.2222222222222222,
              "#7201a8"
             ],
             [
              0.3333333333333333,
              "#9c179e"
             ],
             [
              0.4444444444444444,
              "#bd3786"
             ],
             [
              0.5555555555555556,
              "#d8576b"
             ],
             [
              0.6666666666666666,
              "#ed7953"
             ],
             [
              0.7777777777777778,
              "#fb9f3a"
             ],
             [
              0.8888888888888888,
              "#fdca26"
             ],
             [
              1,
              "#f0f921"
             ]
            ],
            "type": "heatmapgl"
           }
          ],
          "histogram": [
           {
            "marker": {
             "pattern": {
              "fillmode": "overlay",
              "size": 10,
              "solidity": 0.2
             }
            },
            "type": "histogram"
           }
          ],
          "histogram2d": [
           {
            "colorbar": {
             "outlinewidth": 0,
             "ticks": ""
            },
            "colorscale": [
             [
              0,
              "#0d0887"
             ],
             [
              0.1111111111111111,
              "#46039f"
             ],
             [
              0.2222222222222222,
              "#7201a8"
             ],
             [
              0.3333333333333333,
              "#9c179e"
             ],
             [
              0.4444444444444444,
              "#bd3786"
             ],
             [
              0.5555555555555556,
              "#d8576b"
             ],
             [
              0.6666666666666666,
              "#ed7953"
             ],
             [
              0.7777777777777778,
              "#fb9f3a"
             ],
             [
              0.8888888888888888,
              "#fdca26"
             ],
             [
              1,
              "#f0f921"
             ]
            ],
            "type": "histogram2d"
           }
          ],
          "histogram2dcontour": [
           {
            "colorbar": {
             "outlinewidth": 0,
             "ticks": ""
            },
            "colorscale": [
             [
              0,
              "#0d0887"
             ],
             [
              0.1111111111111111,
              "#46039f"
             ],
             [
              0.2222222222222222,
              "#7201a8"
             ],
             [
              0.3333333333333333,
              "#9c179e"
             ],
             [
              0.4444444444444444,
              "#bd3786"
             ],
             [
              0.5555555555555556,
              "#d8576b"
             ],
             [
              0.6666666666666666,
              "#ed7953"
             ],
             [
              0.7777777777777778,
              "#fb9f3a"
             ],
             [
              0.8888888888888888,
              "#fdca26"
             ],
             [
              1,
              "#f0f921"
             ]
            ],
            "type": "histogram2dcontour"
           }
          ],
          "mesh3d": [
           {
            "colorbar": {
             "outlinewidth": 0,
             "ticks": ""
            },
            "type": "mesh3d"
           }
          ],
          "parcoords": [
           {
            "line": {
             "colorbar": {
              "outlinewidth": 0,
              "ticks": ""
             }
            },
            "type": "parcoords"
           }
          ],
          "pie": [
           {
            "automargin": true,
            "type": "pie"
           }
          ],
          "scatter": [
           {
            "fillpattern": {
             "fillmode": "overlay",
             "size": 10,
             "solidity": 0.2
            },
            "type": "scatter"
           }
          ],
          "scatter3d": [
           {
            "line": {
             "colorbar": {
              "outlinewidth": 0,
              "ticks": ""
             }
            },
            "marker": {
             "colorbar": {
              "outlinewidth": 0,
              "ticks": ""
             }
            },
            "type": "scatter3d"
           }
          ],
          "scattercarpet": [
           {
            "marker": {
             "colorbar": {
              "outlinewidth": 0,
              "ticks": ""
             }
            },
            "type": "scattercarpet"
           }
          ],
          "scattergeo": [
           {
            "marker": {
             "colorbar": {
              "outlinewidth": 0,
              "ticks": ""
             }
            },
            "type": "scattergeo"
           }
          ],
          "scattergl": [
           {
            "marker": {
             "colorbar": {
              "outlinewidth": 0,
              "ticks": ""
             }
            },
            "type": "scattergl"
           }
          ],
          "scattermapbox": [
           {
            "marker": {
             "colorbar": {
              "outlinewidth": 0,
              "ticks": ""
             }
            },
            "type": "scattermapbox"
           }
          ],
          "scatterpolar": [
           {
            "marker": {
             "colorbar": {
              "outlinewidth": 0,
              "ticks": ""
             }
            },
            "type": "scatterpolar"
           }
          ],
          "scatterpolargl": [
           {
            "marker": {
             "colorbar": {
              "outlinewidth": 0,
              "ticks": ""
             }
            },
            "type": "scatterpolargl"
           }
          ],
          "scatterternary": [
           {
            "marker": {
             "colorbar": {
              "outlinewidth": 0,
              "ticks": ""
             }
            },
            "type": "scatterternary"
           }
          ],
          "surface": [
           {
            "colorbar": {
             "outlinewidth": 0,
             "ticks": ""
            },
            "colorscale": [
             [
              0,
              "#0d0887"
             ],
             [
              0.1111111111111111,
              "#46039f"
             ],
             [
              0.2222222222222222,
              "#7201a8"
             ],
             [
              0.3333333333333333,
              "#9c179e"
             ],
             [
              0.4444444444444444,
              "#bd3786"
             ],
             [
              0.5555555555555556,
              "#d8576b"
             ],
             [
              0.6666666666666666,
              "#ed7953"
             ],
             [
              0.7777777777777778,
              "#fb9f3a"
             ],
             [
              0.8888888888888888,
              "#fdca26"
             ],
             [
              1,
              "#f0f921"
             ]
            ],
            "type": "surface"
           }
          ],
          "table": [
           {
            "cells": {
             "fill": {
              "color": "#EBF0F8"
             },
             "line": {
              "color": "white"
             }
            },
            "header": {
             "fill": {
              "color": "#C8D4E3"
             },
             "line": {
              "color": "white"
             }
            },
            "type": "table"
           }
          ]
         },
         "layout": {
          "annotationdefaults": {
           "arrowcolor": "#2a3f5f",
           "arrowhead": 0,
           "arrowwidth": 1
          },
          "autotypenumbers": "strict",
          "coloraxis": {
           "colorbar": {
            "outlinewidth": 0,
            "ticks": ""
           }
          },
          "colorscale": {
           "diverging": [
            [
             0,
             "#8e0152"
            ],
            [
             0.1,
             "#c51b7d"
            ],
            [
             0.2,
             "#de77ae"
            ],
            [
             0.3,
             "#f1b6da"
            ],
            [
             0.4,
             "#fde0ef"
            ],
            [
             0.5,
             "#f7f7f7"
            ],
            [
             0.6,
             "#e6f5d0"
            ],
            [
             0.7,
             "#b8e186"
            ],
            [
             0.8,
             "#7fbc41"
            ],
            [
             0.9,
             "#4d9221"
            ],
            [
             1,
             "#276419"
            ]
           ],
           "sequential": [
            [
             0,
             "#0d0887"
            ],
            [
             0.1111111111111111,
             "#46039f"
            ],
            [
             0.2222222222222222,
             "#7201a8"
            ],
            [
             0.3333333333333333,
             "#9c179e"
            ],
            [
             0.4444444444444444,
             "#bd3786"
            ],
            [
             0.5555555555555556,
             "#d8576b"
            ],
            [
             0.6666666666666666,
             "#ed7953"
            ],
            [
             0.7777777777777778,
             "#fb9f3a"
            ],
            [
             0.8888888888888888,
             "#fdca26"
            ],
            [
             1,
             "#f0f921"
            ]
           ],
           "sequentialminus": [
            [
             0,
             "#0d0887"
            ],
            [
             0.1111111111111111,
             "#46039f"
            ],
            [
             0.2222222222222222,
             "#7201a8"
            ],
            [
             0.3333333333333333,
             "#9c179e"
            ],
            [
             0.4444444444444444,
             "#bd3786"
            ],
            [
             0.5555555555555556,
             "#d8576b"
            ],
            [
             0.6666666666666666,
             "#ed7953"
            ],
            [
             0.7777777777777778,
             "#fb9f3a"
            ],
            [
             0.8888888888888888,
             "#fdca26"
            ],
            [
             1,
             "#f0f921"
            ]
           ]
          },
          "colorway": [
           "#636efa",
           "#EF553B",
           "#00cc96",
           "#ab63fa",
           "#FFA15A",
           "#19d3f3",
           "#FF6692",
           "#B6E880",
           "#FF97FF",
           "#FECB52"
          ],
          "font": {
           "color": "#2a3f5f"
          },
          "geo": {
           "bgcolor": "white",
           "lakecolor": "white",
           "landcolor": "#E5ECF6",
           "showlakes": true,
           "showland": true,
           "subunitcolor": "white"
          },
          "hoverlabel": {
           "align": "left"
          },
          "hovermode": "closest",
          "mapbox": {
           "style": "light"
          },
          "paper_bgcolor": "white",
          "plot_bgcolor": "#E5ECF6",
          "polar": {
           "angularaxis": {
            "gridcolor": "white",
            "linecolor": "white",
            "ticks": ""
           },
           "bgcolor": "#E5ECF6",
           "radialaxis": {
            "gridcolor": "white",
            "linecolor": "white",
            "ticks": ""
           }
          },
          "scene": {
           "xaxis": {
            "backgroundcolor": "#E5ECF6",
            "gridcolor": "white",
            "gridwidth": 2,
            "linecolor": "white",
            "showbackground": true,
            "ticks": "",
            "zerolinecolor": "white"
           },
           "yaxis": {
            "backgroundcolor": "#E5ECF6",
            "gridcolor": "white",
            "gridwidth": 2,
            "linecolor": "white",
            "showbackground": true,
            "ticks": "",
            "zerolinecolor": "white"
           },
           "zaxis": {
            "backgroundcolor": "#E5ECF6",
            "gridcolor": "white",
            "gridwidth": 2,
            "linecolor": "white",
            "showbackground": true,
            "ticks": "",
            "zerolinecolor": "white"
           }
          },
          "shapedefaults": {
           "line": {
            "color": "#2a3f5f"
           }
          },
          "ternary": {
           "aaxis": {
            "gridcolor": "white",
            "linecolor": "white",
            "ticks": ""
           },
           "baxis": {
            "gridcolor": "white",
            "linecolor": "white",
            "ticks": ""
           },
           "bgcolor": "#E5ECF6",
           "caxis": {
            "gridcolor": "white",
            "linecolor": "white",
            "ticks": ""
           }
          },
          "title": {
           "x": 0.05
          },
          "xaxis": {
           "automargin": true,
           "gridcolor": "white",
           "linecolor": "white",
           "ticks": "",
           "title": {
            "standoff": 15
           },
           "zerolinecolor": "white",
           "zerolinewidth": 2
          },
          "yaxis": {
           "automargin": true,
           "gridcolor": "white",
           "linecolor": "white",
           "ticks": "",
           "title": {
            "standoff": 15
           },
           "zerolinecolor": "white",
           "zerolinewidth": 2
          }
         }
        },
        "title": {
         "text": "Social Welfare Indicators Over Time"
        },
        "xaxis": {
         "title": {
          "text": "Year"
         }
        },
        "yaxis": {
         "title": {
          "text": "Value"
         }
        }
       }
      }
     },
     "metadata": {},
     "output_type": "display_data"
    },
    {
     "data": {
      "application/vnd.plotly.v1+json": {
       "config": {
        "plotlyServerURL": "https://plot.ly"
       },
       "data": [
        {
         "mode": "lines",
         "name": "GDP per Capita",
         "type": "scatter",
         "x": [
          "2020-01-01T00:00:00",
          "2019-01-01T00:00:00",
          "2018-01-01T00:00:00",
          "2017-01-01T00:00:00",
          "2016-01-01T00:00:00",
          "2015-01-01T00:00:00",
          "2014-01-01T00:00:00",
          "2013-01-01T00:00:00",
          "2012-01-01T00:00:00",
          "2011-01-01T00:00:00",
          "2010-01-01T00:00:00",
          "2009-01-01T00:00:00",
          "2008-01-01T00:00:00",
          "2007-01-01T00:00:00",
          "2006-01-01T00:00:00",
          "2005-01-01T00:00:00",
          "2004-01-01T00:00:00",
          "2003-01-01T00:00:00",
          "2002-01-01T00:00:00",
          "2001-01-01T00:00:00",
          "2000-01-01T00:00:00"
         ],
         "y": [
          63528.6343027508,
          65120.3946628653,
          62823.309438197,
          59907.754260885,
          57866.7449341091,
          56762.7294515989,
          55123.8497869046,
          53291.1276891406,
          51784.4185738837,
          50065.9665041742,
          48650.6431283336,
          47194.9433547336,
          48570.0459804586,
          48050.2237771135,
          46302.0008800056,
          44123.4070679055,
          41724.6316287624,
          39490.2749557007,
          37997.7596573051,
          37133.623113437,
          36329.9560727102
         ]
        }
       ],
       "layout": {
        "template": {
         "data": {
          "bar": [
           {
            "error_x": {
             "color": "#2a3f5f"
            },
            "error_y": {
             "color": "#2a3f5f"
            },
            "marker": {
             "line": {
              "color": "#E5ECF6",
              "width": 0.5
             },
             "pattern": {
              "fillmode": "overlay",
              "size": 10,
              "solidity": 0.2
             }
            },
            "type": "bar"
           }
          ],
          "barpolar": [
           {
            "marker": {
             "line": {
              "color": "#E5ECF6",
              "width": 0.5
             },
             "pattern": {
              "fillmode": "overlay",
              "size": 10,
              "solidity": 0.2
             }
            },
            "type": "barpolar"
           }
          ],
          "carpet": [
           {
            "aaxis": {
             "endlinecolor": "#2a3f5f",
             "gridcolor": "white",
             "linecolor": "white",
             "minorgridcolor": "white",
             "startlinecolor": "#2a3f5f"
            },
            "baxis": {
             "endlinecolor": "#2a3f5f",
             "gridcolor": "white",
             "linecolor": "white",
             "minorgridcolor": "white",
             "startlinecolor": "#2a3f5f"
            },
            "type": "carpet"
           }
          ],
          "choropleth": [
           {
            "colorbar": {
             "outlinewidth": 0,
             "ticks": ""
            },
            "type": "choropleth"
           }
          ],
          "contour": [
           {
            "colorbar": {
             "outlinewidth": 0,
             "ticks": ""
            },
            "colorscale": [
             [
              0,
              "#0d0887"
             ],
             [
              0.1111111111111111,
              "#46039f"
             ],
             [
              0.2222222222222222,
              "#7201a8"
             ],
             [
              0.3333333333333333,
              "#9c179e"
             ],
             [
              0.4444444444444444,
              "#bd3786"
             ],
             [
              0.5555555555555556,
              "#d8576b"
             ],
             [
              0.6666666666666666,
              "#ed7953"
             ],
             [
              0.7777777777777778,
              "#fb9f3a"
             ],
             [
              0.8888888888888888,
              "#fdca26"
             ],
             [
              1,
              "#f0f921"
             ]
            ],
            "type": "contour"
           }
          ],
          "contourcarpet": [
           {
            "colorbar": {
             "outlinewidth": 0,
             "ticks": ""
            },
            "type": "contourcarpet"
           }
          ],
          "heatmap": [
           {
            "colorbar": {
             "outlinewidth": 0,
             "ticks": ""
            },
            "colorscale": [
             [
              0,
              "#0d0887"
             ],
             [
              0.1111111111111111,
              "#46039f"
             ],
             [
              0.2222222222222222,
              "#7201a8"
             ],
             [
              0.3333333333333333,
              "#9c179e"
             ],
             [
              0.4444444444444444,
              "#bd3786"
             ],
             [
              0.5555555555555556,
              "#d8576b"
             ],
             [
              0.6666666666666666,
              "#ed7953"
             ],
             [
              0.7777777777777778,
              "#fb9f3a"
             ],
             [
              0.8888888888888888,
              "#fdca26"
             ],
             [
              1,
              "#f0f921"
             ]
            ],
            "type": "heatmap"
           }
          ],
          "heatmapgl": [
           {
            "colorbar": {
             "outlinewidth": 0,
             "ticks": ""
            },
            "colorscale": [
             [
              0,
              "#0d0887"
             ],
             [
              0.1111111111111111,
              "#46039f"
             ],
             [
              0.2222222222222222,
              "#7201a8"
             ],
             [
              0.3333333333333333,
              "#9c179e"
             ],
             [
              0.4444444444444444,
              "#bd3786"
             ],
             [
              0.5555555555555556,
              "#d8576b"
             ],
             [
              0.6666666666666666,
              "#ed7953"
             ],
             [
              0.7777777777777778,
              "#fb9f3a"
             ],
             [
              0.8888888888888888,
              "#fdca26"
             ],
             [
              1,
              "#f0f921"
             ]
            ],
            "type": "heatmapgl"
           }
          ],
          "histogram": [
           {
            "marker": {
             "pattern": {
              "fillmode": "overlay",
              "size": 10,
              "solidity": 0.2
             }
            },
            "type": "histogram"
           }
          ],
          "histogram2d": [
           {
            "colorbar": {
             "outlinewidth": 0,
             "ticks": ""
            },
            "colorscale": [
             [
              0,
              "#0d0887"
             ],
             [
              0.1111111111111111,
              "#46039f"
             ],
             [
              0.2222222222222222,
              "#7201a8"
             ],
             [
              0.3333333333333333,
              "#9c179e"
             ],
             [
              0.4444444444444444,
              "#bd3786"
             ],
             [
              0.5555555555555556,
              "#d8576b"
             ],
             [
              0.6666666666666666,
              "#ed7953"
             ],
             [
              0.7777777777777778,
              "#fb9f3a"
             ],
             [
              0.8888888888888888,
              "#fdca26"
             ],
             [
              1,
              "#f0f921"
             ]
            ],
            "type": "histogram2d"
           }
          ],
          "histogram2dcontour": [
           {
            "colorbar": {
             "outlinewidth": 0,
             "ticks": ""
            },
            "colorscale": [
             [
              0,
              "#0d0887"
             ],
             [
              0.1111111111111111,
              "#46039f"
             ],
             [
              0.2222222222222222,
              "#7201a8"
             ],
             [
              0.3333333333333333,
              "#9c179e"
             ],
             [
              0.4444444444444444,
              "#bd3786"
             ],
             [
              0.5555555555555556,
              "#d8576b"
             ],
             [
              0.6666666666666666,
              "#ed7953"
             ],
             [
              0.7777777777777778,
              "#fb9f3a"
             ],
             [
              0.8888888888888888,
              "#fdca26"
             ],
             [
              1,
              "#f0f921"
             ]
            ],
            "type": "histogram2dcontour"
           }
          ],
          "mesh3d": [
           {
            "colorbar": {
             "outlinewidth": 0,
             "ticks": ""
            },
            "type": "mesh3d"
           }
          ],
          "parcoords": [
           {
            "line": {
             "colorbar": {
              "outlinewidth": 0,
              "ticks": ""
             }
            },
            "type": "parcoords"
           }
          ],
          "pie": [
           {
            "automargin": true,
            "type": "pie"
           }
          ],
          "scatter": [
           {
            "fillpattern": {
             "fillmode": "overlay",
             "size": 10,
             "solidity": 0.2
            },
            "type": "scatter"
           }
          ],
          "scatter3d": [
           {
            "line": {
             "colorbar": {
              "outlinewidth": 0,
              "ticks": ""
             }
            },
            "marker": {
             "colorbar": {
              "outlinewidth": 0,
              "ticks": ""
             }
            },
            "type": "scatter3d"
           }
          ],
          "scattercarpet": [
           {
            "marker": {
             "colorbar": {
              "outlinewidth": 0,
              "ticks": ""
             }
            },
            "type": "scattercarpet"
           }
          ],
          "scattergeo": [
           {
            "marker": {
             "colorbar": {
              "outlinewidth": 0,
              "ticks": ""
             }
            },
            "type": "scattergeo"
           }
          ],
          "scattergl": [
           {
            "marker": {
             "colorbar": {
              "outlinewidth": 0,
              "ticks": ""
             }
            },
            "type": "scattergl"
           }
          ],
          "scattermapbox": [
           {
            "marker": {
             "colorbar": {
              "outlinewidth": 0,
              "ticks": ""
             }
            },
            "type": "scattermapbox"
           }
          ],
          "scatterpolar": [
           {
            "marker": {
             "colorbar": {
              "outlinewidth": 0,
              "ticks": ""
             }
            },
            "type": "scatterpolar"
           }
          ],
          "scatterpolargl": [
           {
            "marker": {
             "colorbar": {
              "outlinewidth": 0,
              "ticks": ""
             }
            },
            "type": "scatterpolargl"
           }
          ],
          "scatterternary": [
           {
            "marker": {
             "colorbar": {
              "outlinewidth": 0,
              "ticks": ""
             }
            },
            "type": "scatterternary"
           }
          ],
          "surface": [
           {
            "colorbar": {
             "outlinewidth": 0,
             "ticks": ""
            },
            "colorscale": [
             [
              0,
              "#0d0887"
             ],
             [
              0.1111111111111111,
              "#46039f"
             ],
             [
              0.2222222222222222,
              "#7201a8"
             ],
             [
              0.3333333333333333,
              "#9c179e"
             ],
             [
              0.4444444444444444,
              "#bd3786"
             ],
             [
              0.5555555555555556,
              "#d8576b"
             ],
             [
              0.6666666666666666,
              "#ed7953"
             ],
             [
              0.7777777777777778,
              "#fb9f3a"
             ],
             [
              0.8888888888888888,
              "#fdca26"
             ],
             [
              1,
              "#f0f921"
             ]
            ],
            "type": "surface"
           }
          ],
          "table": [
           {
            "cells": {
             "fill": {
              "color": "#EBF0F8"
             },
             "line": {
              "color": "white"
             }
            },
            "header": {
             "fill": {
              "color": "#C8D4E3"
             },
             "line": {
              "color": "white"
             }
            },
            "type": "table"
           }
          ]
         },
         "layout": {
          "annotationdefaults": {
           "arrowcolor": "#2a3f5f",
           "arrowhead": 0,
           "arrowwidth": 1
          },
          "autotypenumbers": "strict",
          "coloraxis": {
           "colorbar": {
            "outlinewidth": 0,
            "ticks": ""
           }
          },
          "colorscale": {
           "diverging": [
            [
             0,
             "#8e0152"
            ],
            [
             0.1,
             "#c51b7d"
            ],
            [
             0.2,
             "#de77ae"
            ],
            [
             0.3,
             "#f1b6da"
            ],
            [
             0.4,
             "#fde0ef"
            ],
            [
             0.5,
             "#f7f7f7"
            ],
            [
             0.6,
             "#e6f5d0"
            ],
            [
             0.7,
             "#b8e186"
            ],
            [
             0.8,
             "#7fbc41"
            ],
            [
             0.9,
             "#4d9221"
            ],
            [
             1,
             "#276419"
            ]
           ],
           "sequential": [
            [
             0,
             "#0d0887"
            ],
            [
             0.1111111111111111,
             "#46039f"
            ],
            [
             0.2222222222222222,
             "#7201a8"
            ],
            [
             0.3333333333333333,
             "#9c179e"
            ],
            [
             0.4444444444444444,
             "#bd3786"
            ],
            [
             0.5555555555555556,
             "#d8576b"
            ],
            [
             0.6666666666666666,
             "#ed7953"
            ],
            [
             0.7777777777777778,
             "#fb9f3a"
            ],
            [
             0.8888888888888888,
             "#fdca26"
            ],
            [
             1,
             "#f0f921"
            ]
           ],
           "sequentialminus": [
            [
             0,
             "#0d0887"
            ],
            [
             0.1111111111111111,
             "#46039f"
            ],
            [
             0.2222222222222222,
             "#7201a8"
            ],
            [
             0.3333333333333333,
             "#9c179e"
            ],
            [
             0.4444444444444444,
             "#bd3786"
            ],
            [
             0.5555555555555556,
             "#d8576b"
            ],
            [
             0.6666666666666666,
             "#ed7953"
            ],
            [
             0.7777777777777778,
             "#fb9f3a"
            ],
            [
             0.8888888888888888,
             "#fdca26"
            ],
            [
             1,
             "#f0f921"
            ]
           ]
          },
          "colorway": [
           "#636efa",
           "#EF553B",
           "#00cc96",
           "#ab63fa",
           "#FFA15A",
           "#19d3f3",
           "#FF6692",
           "#B6E880",
           "#FF97FF",
           "#FECB52"
          ],
          "font": {
           "color": "#2a3f5f"
          },
          "geo": {
           "bgcolor": "white",
           "lakecolor": "white",
           "landcolor": "#E5ECF6",
           "showlakes": true,
           "showland": true,
           "subunitcolor": "white"
          },
          "hoverlabel": {
           "align": "left"
          },
          "hovermode": "closest",
          "mapbox": {
           "style": "light"
          },
          "paper_bgcolor": "white",
          "plot_bgcolor": "#E5ECF6",
          "polar": {
           "angularaxis": {
            "gridcolor": "white",
            "linecolor": "white",
            "ticks": ""
           },
           "bgcolor": "#E5ECF6",
           "radialaxis": {
            "gridcolor": "white",
            "linecolor": "white",
            "ticks": ""
           }
          },
          "scene": {
           "xaxis": {
            "backgroundcolor": "#E5ECF6",
            "gridcolor": "white",
            "gridwidth": 2,
            "linecolor": "white",
            "showbackground": true,
            "ticks": "",
            "zerolinecolor": "white"
           },
           "yaxis": {
            "backgroundcolor": "#E5ECF6",
            "gridcolor": "white",
            "gridwidth": 2,
            "linecolor": "white",
            "showbackground": true,
            "ticks": "",
            "zerolinecolor": "white"
           },
           "zaxis": {
            "backgroundcolor": "#E5ECF6",
            "gridcolor": "white",
            "gridwidth": 2,
            "linecolor": "white",
            "showbackground": true,
            "ticks": "",
            "zerolinecolor": "white"
           }
          },
          "shapedefaults": {
           "line": {
            "color": "#2a3f5f"
           }
          },
          "ternary": {
           "aaxis": {
            "gridcolor": "white",
            "linecolor": "white",
            "ticks": ""
           },
           "baxis": {
            "gridcolor": "white",
            "linecolor": "white",
            "ticks": ""
           },
           "bgcolor": "#E5ECF6",
           "caxis": {
            "gridcolor": "white",
            "linecolor": "white",
            "ticks": ""
           }
          },
          "title": {
           "x": 0.05
          },
          "xaxis": {
           "automargin": true,
           "gridcolor": "white",
           "linecolor": "white",
           "ticks": "",
           "title": {
            "standoff": 15
           },
           "zerolinecolor": "white",
           "zerolinewidth": 2
          },
          "yaxis": {
           "automargin": true,
           "gridcolor": "white",
           "linecolor": "white",
           "ticks": "",
           "title": {
            "standoff": 15
           },
           "zerolinecolor": "white",
           "zerolinewidth": 2
          }
         }
        },
        "title": {
         "text": "GDP per Capita over Time"
        },
        "xaxis": {
         "title": {
          "text": "Year"
         }
        },
        "yaxis": {
         "title": {
          "text": "Euros (x1000)"
         }
        }
       }
      }
     },
     "metadata": {},
     "output_type": "display_data"
    }
   ],
   "source": [
    "import plotly.graph_objs as go\n",
    "\n",
    "indicators = {\n",
    "    'NY.GDP.PCAP.CD': 'GDP per Capita',\n",
    "    'SI.POV.GINI': 'Income Inequality (Gini Index)',\n",
    "    'SP.DYN.LE00.IN': 'Life Expectancy',\n",
    "    'SI.POV.DDAY': 'Poverty headcount',\n",
    "    'EG.ELC.ACCS.ZS': 'Acces to electricity (percentage of pop)',\n",
    "    'SH.IMM.IDPT': 'Immunization',\n",
    "    'SH.STA.MMRT': 'Maternal Mortality Rate'\n",
    "}\n",
    "\n",
    "countries = ['USA', 'ARG', 'IND','ETH'] \n",
    "# Choose which country \n",
    "countries = countries[0]\n",
    "\n",
    "# Get the specific dates we want\n",
    "df = wbdata.get_dataframe(indicators, country=countries, convert_date=True)\n",
    "df = df.loc['2000-01-01':'2020-01-01']\n",
    "\n",
    "columns_to_interpolate = ['Income Inequality (Gini Index)', 'Life Expectancy',\n",
    "       'Poverty headcount', 'Acces to electricity (percentage of pop)'\n",
    "       , 'Immunization', 'Maternal Mortality Rate']\n",
    "\n",
    "# interpolate the NAN values \n",
    "for column in columns_to_interpolate:\n",
    "    df[column] = df[column].interpolate()\n",
    "\n",
    "\n",
    "fig = go.Figure()\n",
    "fig2 = go.Figure()\n",
    "\n",
    "for indicator_code, indicator_name in indicators.items():\n",
    "    if indicator_name == 'GDP per Capita':\n",
    "        continue\n",
    "    fig.add_trace(go.Scatter(x=df.index, y=df[indicator_name], mode='lines', name=indicator_name))\n",
    "\n",
    "fig2.add_trace(go.Scatter(x=df.index, y=df['GDP per Capita'], mode='lines', name='GDP per Capita'))\n",
    "\n",
    "fig.update_layout(title=\"Social Welfare Indicators Over Time\", xaxis_title=\"Year\", yaxis_title=\"Value\")\n",
    "fig2.update_layout(title=\"GDP per Capita over Time\", xaxis_title=\"Year\", yaxis_title=\"Euros (x1000)\")\n",
    "\n",
    "fig.show()\n",
    "fig2.show()"
   ]
  },
  {
   "cell_type": "markdown",
   "metadata": {},
   "source": [
    "### first random forest model"
   ]
  },
  {
   "cell_type": "code",
   "execution_count": 39,
   "metadata": {},
   "outputs": [
    {
     "name": "stdout",
     "output_type": "stream",
     "text": [
      "Mean Absolute Error: 4542.974453728505\n",
      "Mean Squared Error: 48209919.53646867\n",
      "R-squared (R2) Score: 0.536762648970819\n"
     ]
    },
    {
     "data": {
      "image/png": "[encoded data removed]",
      "text/plain": [
       "<Figure size 640x480 with 1 Axes>"
      ]
     },
     "metadata": {},
     "output_type": "display_data"
    }
   ],
   "source": [
    "X = df[['Income Inequality (Gini Index)', 'Life Expectancy',\n",
    "       'Poverty headcount', 'Acces to electricity (percentage of pop)',\n",
    "       'Immunization', 'Maternal Mortality Rate']]\n",
    "y = df['GDP per Capita']\n",
    "\n",
    "X_train, X_test, y_train, y_test = train_test_split(X, y, test_size=0.2, random_state=42)\n",
    "\n",
    "# Implementing the random forest model\n",
    "rf_model = RandomForestRegressor(n_estimators=100, random_state=42)\n",
    "rf_model.fit(X_train, y_train)\n",
    "y_pred = rf_model.predict(X_test)\n",
    "\n",
    "mae = mean_absolute_error(y_test, y_pred)\n",
    "mse = mean_squared_error(y_test, y_pred)\n",
    "r2 = r2_score(y_test, y_pred)\n",
    "\n",
    "print(f\"Mean Absolute Error: {mae}\")\n",
    "print(f\"Mean Squared Error: {mse}\")\n",
    "print(f\"R-squared (R2) Score: {r2}\")\n",
    "\n",
    "\n",
    "\n",
    "plt.scatter(y_test, y_pred, alpha=0.5)\n",
    "\n",
    "regression_line = np.polyfit(y_test, y_pred, 1)\n",
    "y_fit = np.polyval(regression_line, y_test)\n",
    "plt.plot(y_test, y_fit)\n",
    "\n",
    "plt.xlabel('Actual GDP per Capita')\n",
    "plt.ylabel('Predicted GDP per Capita')\n",
    "plt.title('Actual vs. Predicted GDP per Capita')\n",
    "plt.show()\n"
   ]
  },
  {
   "cell_type": "markdown",
   "metadata": {},
   "source": [
    "### Plots of all indicators"
   ]
  },
  {
   "cell_type": "code",
   "execution_count": 40,
   "metadata": {},
   "outputs": [],
   "source": [
    "countries = ['USA', 'ARG', 'IND', 'ETH']\n",
    "\n",
    "df_health = wbdata.get_dataframe(health_indicators, country=countries, convert_date=True)\n",
    "df_gdp = wbdata.get_dataframe(GDP_indicator, country=countries, convert_date=True)\n",
    "df_life_exp = wbdata.get_dataframe(life_exp_indicator, country=countries, convert_date=True)\n",
    "df_immuni_childmortality = wbdata.get_dataframe(immuni_childmortality_indicator, country=countries, convert_date=True)\n",
    "\n",
    "#Reset index of the dataframes\n",
    "df_health = df_health.reset_index()\n",
    "df_gdp = df_gdp.reset_index()\n",
    "df_life_exp = df_life_exp.reset_index()\n",
    "df_immuni_childmortality = df_immuni_childmortality.reset_index()\n",
    "\n",
    "#Dataframes with dates starting in 2000 unitll 2020\n",
    "df_health_filtered = df_health[(df_health['date'] >= str(2000)) & (df_health['date'] <= str(2020))]\n",
    "df_gdp_filtered = df_gdp[(df_gdp['date'] >= str(2000)) & (df_gdp['date'] <= str(2020))]\n",
    "df_life_exp_filtered = df_life_exp[(df_life_exp['date'] >= str(2000)) & (df_life_exp['date'] <= str(2020))]\n",
    "df_immuni_childmortality_filtered = df_immuni_childmortality[(df_immuni_childmortality['date'] >= str(2000)) & (df_immuni_childmortality['date'] <= str(2020))]"
   ]
  },
  {
   "cell_type": "code",
   "execution_count": 41,
   "metadata": {},
   "outputs": [
    {
     "data": {
      "application/vnd.plotly.v1+json": {
       "config": {
        "plotlyServerURL": "https://plot.ly"
       },
       "data": [
        {
         "hovertemplate": "country=Argentina<br>date=%{x}<br>gdppc=%{y}<extra></extra>",
         "legendgroup": "Argentina",
         "line": {
          "color": "#636efa",
          "dash": "solid"
         },
         "marker": {
          "symbol": "circle"
         },
         "mode": "lines",
         "name": "Argentina",
         "orientation": "v",
         "showlegend": true,
         "type": "scatter",
         "x": [
          "2022-01-01T00:00:00",
          "2021-01-01T00:00:00",
          "2020-01-01T00:00:00",
          "2019-01-01T00:00:00",
          "2018-01-01T00:00:00",
          "2017-01-01T00:00:00",
          "2016-01-01T00:00:00",
          "2015-01-01T00:00:00",
          "2014-01-01T00:00:00",
          "2013-01-01T00:00:00",
          "2012-01-01T00:00:00",
          "2011-01-01T00:00:00",
          "2010-01-01T00:00:00",
          "2009-01-01T00:00:00",
          "2008-01-01T00:00:00",
          "2007-01-01T00:00:00",
          "2006-01-01T00:00:00",
          "2005-01-01T00:00:00",
          "2004-01-01T00:00:00",
          "2003-01-01T00:00:00",
          "2002-01-01T00:00:00",
          "2001-01-01T00:00:00",
          "2000-01-01T00:00:00",
          "1999-01-01T00:00:00",
          "1998-01-01T00:00:00",
          "1997-01-01T00:00:00",
          "1996-01-01T00:00:00",
          "1995-01-01T00:00:00",
          "1994-01-01T00:00:00",
          "1993-01-01T00:00:00",
          "1992-01-01T00:00:00",
          "1991-01-01T00:00:00",
          "1990-01-01T00:00:00",
          "1989-01-01T00:00:00",
          "1988-01-01T00:00:00",
          "1987-01-01T00:00:00",
          "1986-01-01T00:00:00",
          "1985-01-01T00:00:00",
          "1984-01-01T00:00:00",
          "1983-01-01T00:00:00",
          "1982-01-01T00:00:00",
          "1981-01-01T00:00:00",
          "1980-01-01T00:00:00",
          "1979-01-01T00:00:00",
          "1978-01-01T00:00:00",
          "1977-01-01T00:00:00",
          "1976-01-01T00:00:00",
          "1975-01-01T00:00:00",
          "1974-01-01T00:00:00",
          "1973-01-01T00:00:00",
          "1972-01-01T00:00:00",
          "1971-01-01T00:00:00",
          "1970-01-01T00:00:00",
          "1969-01-01T00:00:00",
          "1968-01-01T00:00:00",
          "1967-01-01T00:00:00",
          "1966-01-01T00:00:00",
          "1965-01-01T00:00:00",
          "1964-01-01T00:00:00",
          "1963-01-01T00:00:00",
          "1962-01-01T00:00:00",
          "1961-01-01T00:00:00",
          "1960-01-01T00:00:00"
         ],
         "xaxis": "x",
         "y": [
          13686.0086737317,
          10636.1155301986,
          8496.428156755,
          9963.67423069626,
          11795.1628852236,
          14613.035714704,
          12790.2640639201,
          13789.060424772,
          12334.7982453893,
          13080.2547323367,
          13082.664325572,
          12848.7404762598,
          10385.9644319555,
          8184.38988923991,
          8977.50685093365,
          7210.59554755899,
          5890.97800169795,
          5086.62776073134,
          4258.16026060875,
          3333.15290388997,
          2579.48876933284,
          7168.97587232911,
          7666.51783423783,
          7735.32208018486,
          8250.67317414321,
          8176.77119517435,
          7690.15700254783,
          7383.70450960064,
          7464.4747368819,
          6957.41749889251,
          6815.33162293557,
          5730.72380988423,
          4330.96745108666,
          2382.33806588418,
          4004.00958893967,
          3485.69023204695,
          3443.19143142482,
          2910.50832869461,
          3919.08956980375,
          3539.45678157511,
          2914.91825147004,
          2763.37518192638,
          2746.20748417286,
          2510.58557617376,
          3280.37486786153,
          2125.53221974145,
          1946.32939085275,
          2026.57070900355,
          2846.26630742503,
          2100.03058748674,
          1411.17666431069,
          1374.42423270049,
          1324.68528828362,
          1331.6397093432,
          1143.81042781121,
          1065.89852048502,
          1277.96841867454,
          1285.26079940373,
          1179.50409817873,
          855.275656468141,
          1163.18683603872,
          null,
          null
         ],
         "yaxis": "y"
        },
        {
         "hovertemplate": "country=Ethiopia<br>date=%{x}<br>gdppc=%{y}<extra></extra>",
         "legendgroup": "Ethiopia",
         "line": {
          "color": "#EF553B",
          "dash": "solid"
         },
         "marker": {
          "symbol": "circle"
         },
         "mode": "lines",
         "name": "Ethiopia",
         "orientation": "v",
         "showlegend": true,
         "type": "scatter",
         "x": [
          "2022-01-01T00:00:00",
          "2021-01-01T00:00:00",
          "2020-01-01T00:00:00",
          "2019-01-01T00:00:00",
          "2018-01-01T00:00:00",
          "2017-01-01T00:00:00",
          "2016-01-01T00:00:00",
          "2015-01-01T00:00:00",
          "2014-01-01T00:00:00",
          "2013-01-01T00:00:00",
          "2012-01-01T00:00:00",
          "2011-01-01T00:00:00",
          "2010-01-01T00:00:00",
          "2009-01-01T00:00:00",
          "2008-01-01T00:00:00",
          "2007-01-01T00:00:00",
          "2006-01-01T00:00:00",
          "2005-01-01T00:00:00",
          "2004-01-01T00:00:00",
          "2003-01-01T00:00:00",
          "2002-01-01T00:00:00",
          "2001-01-01T00:00:00",
          "2000-01-01T00:00:00",
          "1999-01-01T00:00:00",
          "1998-01-01T00:00:00",
          "1997-01-01T00:00:00",
          "1996-01-01T00:00:00",
          "1995-01-01T00:00:00",
          "1994-01-01T00:00:00",
          "1993-01-01T00:00:00",
          "1992-01-01T00:00:00",
          "1991-01-01T00:00:00",
          "1990-01-01T00:00:00",
          "1989-01-01T00:00:00",
          "1988-01-01T00:00:00",
          "1987-01-01T00:00:00",
          "1986-01-01T00:00:00",
          "1985-01-01T00:00:00",
          "1984-01-01T00:00:00",
          "1983-01-01T00:00:00",
          "1982-01-01T00:00:00",
          "1981-01-01T00:00:00",
          "1980-01-01T00:00:00",
          "1979-01-01T00:00:00",
          "1978-01-01T00:00:00",
          "1977-01-01T00:00:00",
          "1976-01-01T00:00:00",
          "1975-01-01T00:00:00",
          "1974-01-01T00:00:00",
          "1973-01-01T00:00:00",
          "1972-01-01T00:00:00",
          "1971-01-01T00:00:00",
          "1970-01-01T00:00:00",
          "1969-01-01T00:00:00",
          "1968-01-01T00:00:00",
          "1967-01-01T00:00:00",
          "1966-01-01T00:00:00",
          "1965-01-01T00:00:00",
          "1964-01-01T00:00:00",
          "1963-01-01T00:00:00",
          "1962-01-01T00:00:00",
          "1961-01-01T00:00:00",
          "1960-01-01T00:00:00"
         ],
         "xaxis": "x",
         "y": [
          1027.58591828225,
          925.000697216762,
          918.652594077418,
          840.449603427131,
          758.297690230677,
          755.752645114994,
          705.617512258288,
          630.312627132481,
          557.534148360438,
          490.792474148698,
          458.550920793057,
          348.001348291465,
          335.438495270931,
          373.893958712145,
          320.861089711683,
          240.347971955032,
          191.75129245508,
          160.076791772058,
          134.542486332684,
          117.860164733528,
          110.460874721483,
          119.261857260772,
          122.961664711668,
          118.333127942669,
          123.830222429401,
          140.270215241631,
          144.03164867784,
          133.341100582353,
          124.558149636587,
          164.165053540403,
          201.743502561167,
          269.614763064257,
          254.295254599846,
          248.432684802376,
          245.081084231988,
          245.667628373262,
          237.571522372809,
          235.338547384723,
          206.523099973882,
          224.083926290072,
          207.121076625482,
          204.498592750352,
          null,
          null,
          null,
          null,
          null,
          null,
          null,
          null,
          null,
          null,
          null,
          null,
          null,
          null,
          null,
          null,
          null,
          null,
          null,
          null,
          null
         ],
         "yaxis": "y"
        },
        {
         "hovertemplate": "country=India<br>date=%{x}<br>gdppc=%{y}<extra></extra>",
         "legendgroup": "India",
         "line": {
          "color": "#00cc96",
          "dash": "solid"
         },
         "marker": {
          "symbol": "circle"
         },
         "mode": "lines",
         "name": "India",
         "orientation": "v",
         "showlegend": true,
         "type": "scatter",
         "x": [
          "2022-01-01T00:00:00",
          "2021-01-01T00:00:00",
          "2020-01-01T00:00:00",
          "2019-01-01T00:00:00",
          "2018-01-01T00:00:00",
          "2017-01-01T00:00:00",
          "2016-01-01T00:00:00",
          "2015-01-01T00:00:00",
          "2014-01-01T00:00:00",
          "2013-01-01T00:00:00",
          "2012-01-01T00:00:00",
          "2011-01-01T00:00:00",
          "2010-01-01T00:00:00",
          "2009-01-01T00:00:00",
          "2008-01-01T00:00:00",
          "2007-01-01T00:00:00",
          "2006-01-01T00:00:00",
          "2005-01-01T00:00:00",
          "2004-01-01T00:00:00",
          "2003-01-01T00:00:00",
          "2002-01-01T00:00:00",
          "2001-01-01T00:00:00",
          "2000-01-01T00:00:00",
          "1999-01-01T00:00:00",
          "1998-01-01T00:00:00",
          "1997-01-01T00:00:00",
          "1996-01-01T00:00:00",
          "1995-01-01T00:00:00",
          "1994-01-01T00:00:00",
          "1993-01-01T00:00:00",
          "1992-01-01T00:00:00",
          "1991-01-01T00:00:00",
          "1990-01-01T00:00:00",
          "1989-01-01T00:00:00",
          "1988-01-01T00:00:00",
          "1987-01-01T00:00:00",
          "1986-01-01T00:00:00",
          "1985-01-01T00:00:00",
          "1984-01-01T00:00:00",
          "1983-01-01T00:00:00",
          "1982-01-01T00:00:00",
          "1981-01-01T00:00:00",
          "1980-01-01T00:00:00",
          "1979-01-01T00:00:00",
          "1978-01-01T00:00:00",
          "1977-01-01T00:00:00",
          "1976-01-01T00:00:00",
          "1975-01-01T00:00:00",
          "1974-01-01T00:00:00",
          "1973-01-01T00:00:00",
          "1972-01-01T00:00:00",
          "1971-01-01T00:00:00",
          "1970-01-01T00:00:00",
          "1969-01-01T00:00:00",
          "1968-01-01T00:00:00",
          "1967-01-01T00:00:00",
          "1966-01-01T00:00:00",
          "1965-01-01T00:00:00",
          "1964-01-01T00:00:00",
          "1963-01-01T00:00:00",
          "1962-01-01T00:00:00",
          "1961-01-01T00:00:00",
          "1960-01-01T00:00:00"
         ],
         "xaxis": "x",
         "y": [
          2388.62119776762,
          2238.12713873311,
          1913.21972103493,
          2050.16378973235,
          1974.37773014516,
          1957.96981368095,
          1714.2795405846,
          1590.17432166504,
          1559.86377161811,
          1438.05699513067,
          1434.01797842656,
          1449.60330101065,
          1350.63445681517,
          1096.63613605864,
          993.503412459599,
          1022.73247550475,
          802.01374204738,
          710.509344850714,
          624.105094371897,
          543.843798893951,
          468.84442830518,
          449.911124933268,
          442.034778917695,
          440.961454614021,
          412.509355760123,
          414.898683481559,
          399.577306551262,
          373.628233796392,
          346.227393126043,
          301.500786402084,
          317.558734692935,
          303.850437957407,
          368.749759408129,
          347.46203694908,
          355.738417959806,
          342.071923724964,
          312.059843944546,
          297.999256830726,
          278.095407433944,
          292.644658253572,
          275.26609786591,
          271.426155947875,
          267.390578652535,
          224.575437698719,
          206.073749258556,
          186.419095944098,
          161.137236080759,
          157.929385028241,
          163.231615579564,
          143.456124984427,
          122.612453445976,
          118.160535251032,
          111.968318080332,
          107.182143049037,
          99.5168360366295,
          96.0463297617622,
          89.7575826115815,
          119.082475942029,
          115.487608265464,
          101.315164901321,
          90.2768688575718,
          85.9697041171847,
          83.0351017584916
         ],
         "yaxis": "y"
        },
        {
         "hovertemplate": "country=United States<br>date=%{x}<br>gdppc=%{y}<extra></extra>",
         "legendgroup": "United States",
         "line": {
          "color": "#ab63fa",
          "dash": "solid"
         },
         "marker": {
          "symbol": "circle"
         },
         "mode": "lines",
         "name": "United States",
         "orientation": "v",
         "showlegend": true,
         "type": "scatter",
         "x": [
          "2022-01-01T00:00:00",
          "2021-01-01T00:00:00",
          "2020-01-01T00:00:00",
          "2019-01-01T00:00:00",
          "2018-01-01T00:00:00",
          "2017-01-01T00:00:00",
          "2016-01-01T00:00:00",
          "2015-01-01T00:00:00",
          "2014-01-01T00:00:00",
          "2013-01-01T00:00:00",
          "2012-01-01T00:00:00",
          "2011-01-01T00:00:00",
          "2010-01-01T00:00:00",
          "2009-01-01T00:00:00",
          "2008-01-01T00:00:00",
          "2007-01-01T00:00:00",
          "2006-01-01T00:00:00",
          "2005-01-01T00:00:00",
          "2004-01-01T00:00:00",
          "2003-01-01T00:00:00",
          "2002-01-01T00:00:00",
          "2001-01-01T00:00:00",
          "2000-01-01T00:00:00",
          "1999-01-01T00:00:00",
          "1998-01-01T00:00:00",
          "1997-01-01T00:00:00",
          "1996-01-01T00:00:00",
          "1995-01-01T00:00:00",
          "1994-01-01T00:00:00",
          "1993-01-01T00:00:00",
          "1992-01-01T00:00:00",
          "1991-01-01T00:00:00",
          "1990-01-01T00:00:00",
          "1989-01-01T00:00:00",
          "1988-01-01T00:00:00",
          "1987-01-01T00:00:00",
          "1986-01-01T00:00:00",
          "1985-01-01T00:00:00",
          "1984-01-01T00:00:00",
          "1983-01-01T00:00:00",
          "1982-01-01T00:00:00",
          "1981-01-01T00:00:00",
          "1980-01-01T00:00:00",
          "1979-01-01T00:00:00",
          "1978-01-01T00:00:00",
          "1977-01-01T00:00:00",
          "1976-01-01T00:00:00",
          "1975-01-01T00:00:00",
          "1974-01-01T00:00:00",
          "1973-01-01T00:00:00",
          "1972-01-01T00:00:00",
          "1971-01-01T00:00:00",
          "1970-01-01T00:00:00",
          "1969-01-01T00:00:00",
          "1968-01-01T00:00:00",
          "1967-01-01T00:00:00",
          "1966-01-01T00:00:00",
          "1965-01-01T00:00:00",
          "1964-01-01T00:00:00",
          "1963-01-01T00:00:00",
          "1962-01-01T00:00:00",
          "1961-01-01T00:00:00",
          "1960-01-01T00:00:00"
         ],
         "xaxis": "x",
         "y": [
          76398.5917422054,
          70219.472454115,
          63528.6343027508,
          65120.3946628653,
          62823.309438197,
          59907.754260885,
          57866.7449341091,
          56762.7294515989,
          55123.8497869046,
          53291.1276891406,
          51784.4185738837,
          50065.9665041742,
          48650.6431283336,
          47194.9433547336,
          48570.0459804586,
          48050.2237771135,
          46302.0008800056,
          44123.4070679055,
          41724.6316287624,
          39490.2749557007,
          37997.7596573051,
          37133.623113437,
          36329.9560727102,
          34515.3902272076,
          32853.6769523009,
          31459.1389804773,
          29967.7127181749,
          28690.8757013347,
          27694.853416234,
          26387.2937338171,
          25418.9907763319,
          24342.2589048189,
          23888.6000088133,
          22857.1544330056,
          21417.0119305191,
          20038.9410992658,
          19071.2271949295,
          18236.8277265009,
          17121.2254849995,
          15543.8937174925,
          14433.787727053,
          13976.10539252,
          12574.7915062163,
          11674.1818666548,
          10564.9482220275,
          9452.57651914511,
          8592.25353727612,
          7801.45666356443,
          7225.69135952566,
          6726.35895596695,
          6094.01798986165,
          5609.38259952519,
          5234.2966662115,
          5032.14474262003,
          4695.92339043178,
          4336.42658722171,
          4146.31664631665,
          3827.52710972039,
          3573.94118474743,
          3374.51517105082,
          3243.84307754988,
          3066.56286916615,
          3007.12344537862
         ],
         "yaxis": "y"
        }
       ],
       "layout": {
        "legend": {
         "title": {
          "text": "country"
         },
         "tracegroupgap": 0
        },
        "template": {
         "data": {
          "bar": [
           {
            "error_x": {
             "color": "#2a3f5f"
            },
            "error_y": {
             "color": "#2a3f5f"
            },
            "marker": {
             "line": {
              "color": "#E5ECF6",
              "width": 0.5
             },
             "pattern": {
              "fillmode": "overlay",
              "size": 10,
              "solidity": 0.2
             }
            },
            "type": "bar"
           }
          ],
          "barpolar": [
           {
            "marker": {
             "line": {
              "color": "#E5ECF6",
              "width": 0.5
             },
             "pattern": {
              "fillmode": "overlay",
              "size": 10,
              "solidity": 0.2
             }
            },
            "type": "barpolar"
           }
          ],
          "carpet": [
           {
            "aaxis": {
             "endlinecolor": "#2a3f5f",
             "gridcolor": "white",
             "linecolor": "white",
             "minorgridcolor": "white",
             "startlinecolor": "#2a3f5f"
            },
            "baxis": {
             "endlinecolor": "#2a3f5f",
             "gridcolor": "white",
             "linecolor": "white",
             "minorgridcolor": "white",
             "startlinecolor": "#2a3f5f"
            },
            "type": "carpet"
           }
          ],
          "choropleth": [
           {
            "colorbar": {
             "outlinewidth": 0,
             "ticks": ""
            },
            "type": "choropleth"
           }
          ],
          "contour": [
           {
            "colorbar": {
             "outlinewidth": 0,
             "ticks": ""
            },
            "colorscale": [
             [
              0,
              "#0d0887"
             ],
             [
              0.1111111111111111,
              "#46039f"
             ],
             [
              0.2222222222222222,
              "#7201a8"
             ],
             [
              0.3333333333333333,
              "#9c179e"
             ],
             [
              0.4444444444444444,
              "#bd3786"
             ],
             [
              0.5555555555555556,
              "#d8576b"
             ],
             [
              0.6666666666666666,
              "#ed7953"
             ],
             [
              0.7777777777777778,
              "#fb9f3a"
             ],
             [
              0.8888888888888888,
              "#fdca26"
             ],
             [
              1,
              "#f0f921"
             ]
            ],
            "type": "contour"
           }
          ],
          "contourcarpet": [
           {
            "colorbar": {
             "outlinewidth": 0,
             "ticks": ""
            },
            "type": "contourcarpet"
           }
          ],
          "heatmap": [
           {
            "colorbar": {
             "outlinewidth": 0,
             "ticks": ""
            },
            "colorscale": [
             [
              0,
              "#0d0887"
             ],
             [
              0.1111111111111111,
              "#46039f"
             ],
             [
              0.2222222222222222,
              "#7201a8"
             ],
             [
              0.3333333333333333,
              "#9c179e"
             ],
             [
              0.4444444444444444,
              "#bd3786"
             ],
             [
              0.5555555555555556,
              "#d8576b"
             ],
             [
              0.6666666666666666,
              "#ed7953"
             ],
             [
              0.7777777777777778,
              "#fb9f3a"
             ],
             [
              0.8888888888888888,
              "#fdca26"
             ],
             [
              1,
              "#f0f921"
             ]
            ],
            "type": "heatmap"
           }
          ],
          "heatmapgl": [
           {
            "colorbar": {
             "outlinewidth": 0,
             "ticks": ""
            },
            "colorscale": [
             [
              0,
              "#0d0887"
             ],
             [
              0.1111111111111111,
              "#46039f"
             ],
             [
              0.2222222222222222,
              "#7201a8"
             ],
             [
              0.3333333333333333,
              "#9c179e"
             ],
             [
              0.4444444444444444,
              "#bd3786"
             ],
             [
              0.5555555555555556,
              "#d8576b"
             ],
             [
              0.6666666666666666,
              "#ed7953"
             ],
             [
              0.7777777777777778,
              "#fb9f3a"
             ],
             [
              0.8888888888888888,
              "#fdca26"
             ],
             [
              1,
              "#f0f921"
             ]
            ],
            "type": "heatmapgl"
           }
          ],
          "histogram": [
           {
            "marker": {
             "pattern": {
              "fillmode": "overlay",
              "size": 10,
              "solidity": 0.2
             }
            },
            "type": "histogram"
           }
          ],
          "histogram2d": [
           {
            "colorbar": {
             "outlinewidth": 0,
             "ticks": ""
            },
            "colorscale": [
             [
              0,
              "#0d0887"
             ],
             [
              0.1111111111111111,
              "#46039f"
             ],
             [
              0.2222222222222222,
              "#7201a8"
             ],
             [
              0.3333333333333333,
              "#9c179e"
             ],
             [
              0.4444444444444444,
              "#bd3786"
             ],
             [
              0.5555555555555556,
              "#d8576b"
             ],
             [
              0.6666666666666666,
              "#ed7953"
             ],
             [
              0.7777777777777778,
              "#fb9f3a"
             ],
             [
              0.8888888888888888,
              "#fdca26"
             ],
             [
              1,
              "#f0f921"
             ]
            ],
            "type": "histogram2d"
           }
          ],
          "histogram2dcontour": [
           {
            "colorbar": {
             "outlinewidth": 0,
             "ticks": ""
            },
            "colorscale": [
             [
              0,
              "#0d0887"
             ],
             [
              0.1111111111111111,
              "#46039f"
             ],
             [
              0.2222222222222222,
              "#7201a8"
             ],
             [
              0.3333333333333333,
              "#9c179e"
             ],
             [
              0.4444444444444444,
              "#bd3786"
             ],
             [
              0.5555555555555556,
              "#d8576b"
             ],
             [
              0.6666666666666666,
              "#ed7953"
             ],
             [
              0.7777777777777778,
              "#fb9f3a"
             ],
             [
              0.8888888888888888,
              "#fdca26"
             ],
             [
              1,
              "#f0f921"
             ]
            ],
            "type": "histogram2dcontour"
           }
          ],
          "mesh3d": [
           {
            "colorbar": {
             "outlinewidth": 0,
             "ticks": ""
            },
            "type": "mesh3d"
           }
          ],
          "parcoords": [
           {
            "line": {
             "colorbar": {
              "outlinewidth": 0,
              "ticks": ""
             }
            },
            "type": "parcoords"
           }
          ],
          "pie": [
           {
            "automargin": true,
            "type": "pie"
           }
          ],
          "scatter": [
           {
            "fillpattern": {
             "fillmode": "overlay",
             "size": 10,
             "solidity": 0.2
            },
            "type": "scatter"
           }
          ],
          "scatter3d": [
           {
            "line": {
             "colorbar": {
              "outlinewidth": 0,
              "ticks": ""
             }
            },
            "marker": {
             "colorbar": {
              "outlinewidth": 0,
              "ticks": ""
             }
            },
            "type": "scatter3d"
           }
          ],
          "scattercarpet": [
           {
            "marker": {
             "colorbar": {
              "outlinewidth": 0,
              "ticks": ""
             }
            },
            "type": "scattercarpet"
           }
          ],
          "scattergeo": [
           {
            "marker": {
             "colorbar": {
              "outlinewidth": 0,
              "ticks": ""
             }
            },
            "type": "scattergeo"
           }
          ],
          "scattergl": [
           {
            "marker": {
             "colorbar": {
              "outlinewidth": 0,
              "ticks": ""
             }
            },
            "type": "scattergl"
           }
          ],
          "scattermapbox": [
           {
            "marker": {
             "colorbar": {
              "outlinewidth": 0,
              "ticks": ""
             }
            },
            "type": "scattermapbox"
           }
          ],
          "scatterpolar": [
           {
            "marker": {
             "colorbar": {
              "outlinewidth": 0,
              "ticks": ""
             }
            },
            "type": "scatterpolar"
           }
          ],
          "scatterpolargl": [
           {
            "marker": {
             "colorbar": {
              "outlinewidth": 0,
              "ticks": ""
             }
            },
            "type": "scatterpolargl"
           }
          ],
          "scatterternary": [
           {
            "marker": {
             "colorbar": {
              "outlinewidth": 0,
              "ticks": ""
             }
            },
            "type": "scatterternary"
           }
          ],
          "surface": [
           {
            "colorbar": {
             "outlinewidth": 0,
             "ticks": ""
            },
            "colorscale": [
             [
              0,
              "#0d0887"
             ],
             [
              0.1111111111111111,
              "#46039f"
             ],
             [
              0.2222222222222222,
              "#7201a8"
             ],
             [
              0.3333333333333333,
              "#9c179e"
             ],
             [
              0.4444444444444444,
              "#bd3786"
             ],
             [
              0.5555555555555556,
              "#d8576b"
             ],
             [
              0.6666666666666666,
              "#ed7953"
             ],
             [
              0.7777777777777778,
              "#fb9f3a"
             ],
             [
              0.8888888888888888,
              "#fdca26"
             ],
             [
              1,
              "#f0f921"
             ]
            ],
            "type": "surface"
           }
          ],
          "table": [
           {
            "cells": {
             "fill": {
              "color": "#EBF0F8"
             },
             "line": {
              "color": "white"
             }
            },
            "header": {
             "fill": {
              "color": "#C8D4E3"
             },
             "line": {
              "color": "white"
             }
            },
            "type": "table"
           }
          ]
         },
         "layout": {
          "annotationdefaults": {
           "arrowcolor": "#2a3f5f",
           "arrowhead": 0,
           "arrowwidth": 1
          },
          "autotypenumbers": "strict",
          "coloraxis": {
           "colorbar": {
            "outlinewidth": 0,
            "ticks": ""
           }
          },
          "colorscale": {
           "diverging": [
            [
             0,
             "#8e0152"
            ],
            [
             0.1,
             "#c51b7d"
            ],
            [
             0.2,
             "#de77ae"
            ],
            [
             0.3,
             "#f1b6da"
            ],
            [
             0.4,
             "#fde0ef"
            ],
            [
             0.5,
             "#f7f7f7"
            ],
            [
             0.6,
             "#e6f5d0"
            ],
            [
             0.7,
             "#b8e186"
            ],
            [
             0.8,
             "#7fbc41"
            ],
            [
             0.9,
             "#4d9221"
            ],
            [
             1,
             "#276419"
            ]
           ],
           "sequential": [
            [
             0,
             "#0d0887"
            ],
            [
             0.1111111111111111,
             "#46039f"
            ],
            [
             0.2222222222222222,
             "#7201a8"
            ],
            [
             0.3333333333333333,
             "#9c179e"
            ],
            [
             0.4444444444444444,
             "#bd3786"
            ],
            [
             0.5555555555555556,
             "#d8576b"
            ],
            [
             0.6666666666666666,
             "#ed7953"
            ],
            [
             0.7777777777777778,
             "#fb9f3a"
            ],
            [
             0.8888888888888888,
             "#fdca26"
            ],
            [
             1,
             "#f0f921"
            ]
           ],
           "sequentialminus": [
            [
             0,
             "#0d0887"
            ],
            [
             0.1111111111111111,
             "#46039f"
            ],
            [
             0.2222222222222222,
             "#7201a8"
            ],
            [
             0.3333333333333333,
             "#9c179e"
            ],
            [
             0.4444444444444444,
             "#bd3786"
            ],
            [
             0.5555555555555556,
             "#d8576b"
            ],
            [
             0.6666666666666666,
             "#ed7953"
            ],
            [
             0.7777777777777778,
             "#fb9f3a"
            ],
            [
             0.8888888888888888,
             "#fdca26"
            ],
            [
             1,
             "#f0f921"
            ]
           ]
          },
          "colorway": [
           "#636efa",
           "#EF553B",
           "#00cc96",
           "#ab63fa",
           "#FFA15A",
           "#19d3f3",
           "#FF6692",
           "#B6E880",
           "#FF97FF",
           "#FECB52"
          ],
          "font": {
           "color": "#2a3f5f"
          },
          "geo": {
           "bgcolor": "white",
           "lakecolor": "white",
           "landcolor": "#E5ECF6",
           "showlakes": true,
           "showland": true,
           "subunitcolor": "white"
          },
          "hoverlabel": {
           "align": "left"
          },
          "hovermode": "closest",
          "mapbox": {
           "style": "light"
          },
          "paper_bgcolor": "white",
          "plot_bgcolor": "#E5ECF6",
          "polar": {
           "angularaxis": {
            "gridcolor": "white",
            "linecolor": "white",
            "ticks": ""
           },
           "bgcolor": "#E5ECF6",
           "radialaxis": {
            "gridcolor": "white",
            "linecolor": "white",
            "ticks": ""
           }
          },
          "scene": {
           "xaxis": {
            "backgroundcolor": "#E5ECF6",
            "gridcolor": "white",
            "gridwidth": 2,
            "linecolor": "white",
            "showbackground": true,
            "ticks": "",
            "zerolinecolor": "white"
           },
           "yaxis": {
            "backgroundcolor": "#E5ECF6",
            "gridcolor": "white",
            "gridwidth": 2,
            "linecolor": "white",
            "showbackground": true,
            "ticks": "",
            "zerolinecolor": "white"
           },
           "zaxis": {
            "backgroundcolor": "#E5ECF6",
            "gridcolor": "white",
            "gridwidth": 2,
            "linecolor": "white",
            "showbackground": true,
            "ticks": "",
            "zerolinecolor": "white"
           }
          },
          "shapedefaults": {
           "line": {
            "color": "#2a3f5f"
           }
          },
          "ternary": {
           "aaxis": {
            "gridcolor": "white",
            "linecolor": "white",
            "ticks": ""
           },
           "baxis": {
            "gridcolor": "white",
            "linecolor": "white",
            "ticks": ""
           },
           "bgcolor": "#E5ECF6",
           "caxis": {
            "gridcolor": "white",
            "linecolor": "white",
            "ticks": ""
           }
          },
          "title": {
           "x": 0.05
          },
          "xaxis": {
           "automargin": true,
           "gridcolor": "white",
           "linecolor": "white",
           "ticks": "",
           "title": {
            "standoff": 15
           },
           "zerolinecolor": "white",
           "zerolinewidth": 2
          },
          "yaxis": {
           "automargin": true,
           "gridcolor": "white",
           "linecolor": "white",
           "ticks": "",
           "title": {
            "standoff": 15
           },
           "zerolinecolor": "white",
           "zerolinewidth": 2
          }
         }
        },
        "title": {
         "text": "GDP per Capita"
        },
        "xaxis": {
         "anchor": "y",
         "domain": [
          0,
          1
         ],
         "title": {
          "text": "date"
         }
        },
        "yaxis": {
         "anchor": "x",
         "domain": [
          0,
          1
         ],
         "title": {
          "text": "gdppc"
         }
        }
       }
      }
     },
     "metadata": {},
     "output_type": "display_data"
    },
    {
     "data": {
      "application/vnd.plotly.v1+json": {
       "config": {
        "plotlyServerURL": "https://plot.ly"
       },
       "data": [
        {
         "hovertemplate": "country=Argentina<br>date=%{x}<br>Health Expenditure as a Percentage of GDP=%{y}<extra></extra>",
         "legendgroup": "Argentina",
         "line": {
          "color": "#636efa",
          "dash": "solid"
         },
         "marker": {
          "symbol": "circle"
         },
         "mode": "lines",
         "name": "Argentina",
         "orientation": "v",
         "showlegend": true,
         "type": "scatter",
         "x": [
          "2022-01-01T00:00:00",
          "2021-01-01T00:00:00",
          "2020-01-01T00:00:00",
          "2019-01-01T00:00:00",
          "2018-01-01T00:00:00",
          "2017-01-01T00:00:00",
          "2016-01-01T00:00:00",
          "2015-01-01T00:00:00",
          "2014-01-01T00:00:00",
          "2013-01-01T00:00:00",
          "2012-01-01T00:00:00",
          "2011-01-01T00:00:00",
          "2010-01-01T00:00:00",
          "2009-01-01T00:00:00",
          "2008-01-01T00:00:00",
          "2007-01-01T00:00:00",
          "2006-01-01T00:00:00",
          "2005-01-01T00:00:00",
          "2004-01-01T00:00:00",
          "2003-01-01T00:00:00",
          "2002-01-01T00:00:00",
          "2001-01-01T00:00:00",
          "2000-01-01T00:00:00",
          "1999-01-01T00:00:00",
          "1998-01-01T00:00:00",
          "1997-01-01T00:00:00",
          "1996-01-01T00:00:00",
          "1995-01-01T00:00:00",
          "1994-01-01T00:00:00",
          "1993-01-01T00:00:00",
          "1992-01-01T00:00:00",
          "1991-01-01T00:00:00",
          "1990-01-01T00:00:00",
          "1989-01-01T00:00:00",
          "1988-01-01T00:00:00",
          "1987-01-01T00:00:00",
          "1986-01-01T00:00:00",
          "1985-01-01T00:00:00",
          "1984-01-01T00:00:00",
          "1983-01-01T00:00:00",
          "1982-01-01T00:00:00",
          "1981-01-01T00:00:00",
          "1980-01-01T00:00:00",
          "1979-01-01T00:00:00",
          "1978-01-01T00:00:00",
          "1977-01-01T00:00:00",
          "1976-01-01T00:00:00",
          "1975-01-01T00:00:00",
          "1974-01-01T00:00:00",
          "1973-01-01T00:00:00",
          "1972-01-01T00:00:00",
          "1971-01-01T00:00:00",
          "1970-01-01T00:00:00",
          "1969-01-01T00:00:00",
          "1968-01-01T00:00:00",
          "1967-01-01T00:00:00",
          "1966-01-01T00:00:00",
          "1965-01-01T00:00:00",
          "1964-01-01T00:00:00",
          "1963-01-01T00:00:00",
          "1962-01-01T00:00:00",
          "1961-01-01T00:00:00",
          "1960-01-01T00:00:00"
         ],
         "xaxis": "x",
         "y": [
          null,
          null,
          9.98438072,
          9.47170544,
          9.49909592,
          10.44225693,
          9.00189781,
          10.22933674,
          9.67129993,
          9.78097916,
          9.82726669,
          9.41819859,
          9.44546413,
          9.45599556,
          8.1826973,
          7.83455086,
          7.64032793,
          7.61078882,
          7.22868252,
          6.89451647,
          7.3933115,
          8.37179852,
          8.22001076,
          null,
          null,
          null,
          null,
          null,
          null,
          null,
          null,
          null,
          null,
          null,
          null,
          null,
          null,
          null,
          null,
          null,
          null,
          null,
          null,
          null,
          null,
          null,
          null,
          null,
          null,
          null,
          null,
          null,
          null,
          null,
          null,
          null,
          null,
          null,
          null,
          null,
          null,
          null,
          null
         ],
         "yaxis": "y"
        },
        {
         "hovertemplate": "country=Ethiopia<br>date=%{x}<br>Health Expenditure as a Percentage of GDP=%{y}<extra></extra>",
         "legendgroup": "Ethiopia",
         "line": {
          "color": "#EF553B",
          "dash": "solid"
         },
         "marker": {
          "symbol": "circle"
         },
         "mode": "lines",
         "name": "Ethiopia",
         "orientation": "v",
         "showlegend": true,
         "type": "scatter",
         "x": [
          "2022-01-01T00:00:00",
          "2021-01-01T00:00:00",
          "2020-01-01T00:00:00",
          "2019-01-01T00:00:00",
          "2018-01-01T00:00:00",
          "2017-01-01T00:00:00",
          "2016-01-01T00:00:00",
          "2015-01-01T00:00:00",
          "2014-01-01T00:00:00",
          "2013-01-01T00:00:00",
          "2012-01-01T00:00:00",
          "2011-01-01T00:00:00",
          "2010-01-01T00:00:00",
          "2009-01-01T00:00:00",
          "2008-01-01T00:00:00",
          "2007-01-01T00:00:00",
          "2006-01-01T00:00:00",
          "2005-01-01T00:00:00",
          "2004-01-01T00:00:00",
          "2003-01-01T00:00:00",
          "2002-01-01T00:00:00",
          "2001-01-01T00:00:00",
          "2000-01-01T00:00:00",
          "1999-01-01T00:00:00",
          "1998-01-01T00:00:00",
          "1997-01-01T00:00:00",
          "1996-01-01T00:00:00",
          "1995-01-01T00:00:00",
          "1994-01-01T00:00:00",
          "1993-01-01T00:00:00",
          "1992-01-01T00:00:00",
          "1991-01-01T00:00:00",
          "1990-01-01T00:00:00",
          "1989-01-01T00:00:00",
          "1988-01-01T00:00:00",
          "1987-01-01T00:00:00",
          "1986-01-01T00:00:00",
          "1985-01-01T00:00:00",
          "1984-01-01T00:00:00",
          "1983-01-01T00:00:00",
          "1982-01-01T00:00:00",
          "1981-01-01T00:00:00",
          "1980-01-01T00:00:00",
          "1979-01-01T00:00:00",
          "1978-01-01T00:00:00",
          "1977-01-01T00:00:00",
          "1976-01-01T00:00:00",
          "1975-01-01T00:00:00",
          "1974-01-01T00:00:00",
          "1973-01-01T00:00:00",
          "1972-01-01T00:00:00",
          "1971-01-01T00:00:00",
          "1970-01-01T00:00:00",
          "1969-01-01T00:00:00",
          "1968-01-01T00:00:00",
          "1967-01-01T00:00:00",
          "1966-01-01T00:00:00",
          "1965-01-01T00:00:00",
          "1964-01-01T00:00:00",
          "1963-01-01T00:00:00",
          "1962-01-01T00:00:00",
          "1961-01-01T00:00:00",
          "1960-01-01T00:00:00"
         ],
         "xaxis": "x",
         "y": [
          null,
          null,
          3.48096275,
          3.23382378,
          3.30371761,
          3.45336914,
          3.60033751,
          3.82316828,
          4.03365517,
          4.07506514,
          4.5395956,
          4.46897745,
          5.46637249,
          4.64983416,
          4.28063869,
          5.00128317,
          4.45757294,
          4.10098124,
          4.31281853,
          4.89970922,
          4.7126298,
          4.72316694,
          4.36504698,
          null,
          null,
          null,
          null,
          null,
          null,
          null,
          null,
          null,
          null,
          null,
          null,
          null,
          null,
          null,
          null,
          null,
          null,
          null,
          null,
          null,
          null,
          null,
          null,
          null,
          null,
          null,
          null,
          null,
          null,
          null,
          null,
          null,
          null,
          null,
          null,
          null,
          null,
          null,
          null
         ],
         "yaxis": "y"
        },
        {
         "hovertemplate": "country=India<br>date=%{x}<br>Health Expenditure as a Percentage of GDP=%{y}<extra></extra>",
         "legendgroup": "India",
         "line": {
          "color": "#00cc96",
          "dash": "solid"
         },
         "marker": {
          "symbol": "circle"
         },
         "mode": "lines",
         "name": "India",
         "orientation": "v",
         "showlegend": true,
         "type": "scatter",
         "x": [
          "2022-01-01T00:00:00",
          "2021-01-01T00:00:00",
          "2020-01-01T00:00:00",
          "2019-01-01T00:00:00",
          "2018-01-01T00:00:00",
          "2017-01-01T00:00:00",
          "2016-01-01T00:00:00",
          "2015-01-01T00:00:00",
          "2014-01-01T00:00:00",
          "2013-01-01T00:00:00",
          "2012-01-01T00:00:00",
          "2011-01-01T00:00:00",
          "2010-01-01T00:00:00",
          "2009-01-01T00:00:00",
          "2008-01-01T00:00:00",
          "2007-01-01T00:00:00",
          "2006-01-01T00:00:00",
          "2005-01-01T00:00:00",
          "2004-01-01T00:00:00",
          "2003-01-01T00:00:00",
          "2002-01-01T00:00:00",
          "2001-01-01T00:00:00",
          "2000-01-01T00:00:00",
          "1999-01-01T00:00:00",
          "1998-01-01T00:00:00",
          "1997-01-01T00:00:00",
          "1996-01-01T00:00:00",
          "1995-01-01T00:00:00",
          "1994-01-01T00:00:00",
          "1993-01-01T00:00:00",
          "1992-01-01T00:00:00",
          "1991-01-01T00:00:00",
          "1990-01-01T00:00:00",
          "1989-01-01T00:00:00",
          "1988-01-01T00:00:00",
          "1987-01-01T00:00:00",
          "1986-01-01T00:00:00",
          "1985-01-01T00:00:00",
          "1984-01-01T00:00:00",
          "1983-01-01T00:00:00",
          "1982-01-01T00:00:00",
          "1981-01-01T00:00:00",
          "1980-01-01T00:00:00",
          "1979-01-01T00:00:00",
          "1978-01-01T00:00:00",
          "1977-01-01T00:00:00",
          "1976-01-01T00:00:00",
          "1975-01-01T00:00:00",
          "1974-01-01T00:00:00",
          "1973-01-01T00:00:00",
          "1972-01-01T00:00:00",
          "1971-01-01T00:00:00",
          "1970-01-01T00:00:00",
          "1969-01-01T00:00:00",
          "1968-01-01T00:00:00",
          "1967-01-01T00:00:00",
          "1966-01-01T00:00:00",
          "1965-01-01T00:00:00",
          "1964-01-01T00:00:00",
          "1963-01-01T00:00:00",
          "1962-01-01T00:00:00",
          "1961-01-01T00:00:00",
          "1960-01-01T00:00:00"
         ],
         "xaxis": "x",
         "y": [
          null,
          null,
          2.95919013,
          2.94352531,
          2.8584938,
          2.93597651,
          3.50430417,
          3.59565997,
          3.61956549,
          3.74944186,
          3.32935286,
          3.24634218,
          3.27211928,
          3.48537874,
          3.51468062,
          3.51754212,
          3.63477802,
          3.79116249,
          3.95739174,
          4.00848055,
          4.24016762,
          4.26278067,
          4.03493309,
          null,
          null,
          null,
          null,
          null,
          null,
          null,
          null,
          null,
          null,
          null,
          null,
          null,
          null,
          null,
          null,
          null,
          null,
          null,
          null,
          null,
          null,
          null,
          null,
          null,
          null,
          null,
          null,
          null,
          null,
          null,
          null,
          null,
          null,
          null,
          null,
          null,
          null,
          null,
          null
         ],
         "yaxis": "y"
        },
        {
         "hovertemplate": "country=United States<br>date=%{x}<br>Health Expenditure as a Percentage of GDP=%{y}<extra></extra>",
         "legendgroup": "United States",
         "line": {
          "color": "#ab63fa",
          "dash": "solid"
         },
         "marker": {
          "symbol": "circle"
         },
         "mode": "lines",
         "name": "United States",
         "orientation": "v",
         "showlegend": true,
         "type": "scatter",
         "x": [
          "2022-01-01T00:00:00",
          "2021-01-01T00:00:00",
          "2020-01-01T00:00:00",
          "2019-01-01T00:00:00",
          "2018-01-01T00:00:00",
          "2017-01-01T00:00:00",
          "2016-01-01T00:00:00",
          "2015-01-01T00:00:00",
          "2014-01-01T00:00:00",
          "2013-01-01T00:00:00",
          "2012-01-01T00:00:00",
          "2011-01-01T00:00:00",
          "2010-01-01T00:00:00",
          "2009-01-01T00:00:00",
          "2008-01-01T00:00:00",
          "2007-01-01T00:00:00",
          "2006-01-01T00:00:00",
          "2005-01-01T00:00:00",
          "2004-01-01T00:00:00",
          "2003-01-01T00:00:00",
          "2002-01-01T00:00:00",
          "2001-01-01T00:00:00",
          "2000-01-01T00:00:00",
          "1999-01-01T00:00:00",
          "1998-01-01T00:00:00",
          "1997-01-01T00:00:00",
          "1996-01-01T00:00:00",
          "1995-01-01T00:00:00",
          "1994-01-01T00:00:00",
          "1993-01-01T00:00:00",
          "1992-01-01T00:00:00",
          "1991-01-01T00:00:00",
          "1990-01-01T00:00:00",
          "1989-01-01T00:00:00",
          "1988-01-01T00:00:00",
          "1987-01-01T00:00:00",
          "1986-01-01T00:00:00",
          "1985-01-01T00:00:00",
          "1984-01-01T00:00:00",
          "1983-01-01T00:00:00",
          "1982-01-01T00:00:00",
          "1981-01-01T00:00:00",
          "1980-01-01T00:00:00",
          "1979-01-01T00:00:00",
          "1978-01-01T00:00:00",
          "1977-01-01T00:00:00",
          "1976-01-01T00:00:00",
          "1975-01-01T00:00:00",
          "1974-01-01T00:00:00",
          "1973-01-01T00:00:00",
          "1972-01-01T00:00:00",
          "1971-01-01T00:00:00",
          "1970-01-01T00:00:00",
          "1969-01-01T00:00:00",
          "1968-01-01T00:00:00",
          "1967-01-01T00:00:00",
          "1966-01-01T00:00:00",
          "1965-01-01T00:00:00",
          "1964-01-01T00:00:00",
          "1963-01-01T00:00:00",
          "1962-01-01T00:00:00",
          "1961-01-01T00:00:00",
          "1960-01-01T00:00:00"
         ],
         "xaxis": "x",
         "y": [
          null,
          null,
          18.81582642,
          16.67647362,
          16.64094353,
          16.76793671,
          16.79314804,
          16.48109245,
          16.19240761,
          15.98693848,
          16.11693954,
          16.13764381,
          16.19557953,
          16.19877434,
          15.20489883,
          14.91463089,
          14.70358467,
          14.57448006,
          14.54663658,
          14.50113487,
          13.99167347,
          13.16466713,
          12.48710918,
          null,
          null,
          null,
          null,
          null,
          null,
          null,
          null,
          null,
          null,
          null,
          null,
          null,
          null,
          null,
          null,
          null,
          null,
          null,
          null,
          null,
          null,
          null,
          null,
          null,
          null,
          null,
          null,
          null,
          null,
          null,
          null,
          null,
          null,
          null,
          null,
          null,
          null,
          null,
          null
         ],
         "yaxis": "y"
        }
       ],
       "layout": {
        "legend": {
         "title": {
          "text": "country"
         },
         "tracegroupgap": 0
        },
        "template": {
         "data": {
          "bar": [
           {
            "error_x": {
             "color": "#2a3f5f"
            },
            "error_y": {
             "color": "#2a3f5f"
            },
            "marker": {
             "line": {
              "color": "#E5ECF6",
              "width": 0.5
             },
             "pattern": {
              "fillmode": "overlay",
              "size": 10,
              "solidity": 0.2
             }
            },
            "type": "bar"
           }
          ],
          "barpolar": [
           {
            "marker": {
             "line": {
              "color": "#E5ECF6",
              "width": 0.5
             },
             "pattern": {
              "fillmode": "overlay",
              "size": 10,
              "solidity": 0.2
             }
            },
            "type": "barpolar"
           }
          ],
          "carpet": [
           {
            "aaxis": {
             "endlinecolor": "#2a3f5f",
             "gridcolor": "white",
             "linecolor": "white",
             "minorgridcolor": "white",
             "startlinecolor": "#2a3f5f"
            },
            "baxis": {
             "endlinecolor": "#2a3f5f",
             "gridcolor": "white",
             "linecolor": "white",
             "minorgridcolor": "white",
             "startlinecolor": "#2a3f5f"
            },
            "type": "carpet"
           }
          ],
          "choropleth": [
           {
            "colorbar": {
             "outlinewidth": 0,
             "ticks": ""
            },
            "type": "choropleth"
           }
          ],
          "contour": [
           {
            "colorbar": {
             "outlinewidth": 0,
             "ticks": ""
            },
            "colorscale": [
             [
              0,
              "#0d0887"
             ],
             [
              0.1111111111111111,
              "#46039f"
             ],
             [
              0.2222222222222222,
              "#7201a8"
             ],
             [
              0.3333333333333333,
              "#9c179e"
             ],
             [
              0.4444444444444444,
              "#bd3786"
             ],
             [
              0.5555555555555556,
              "#d8576b"
             ],
             [
              0.6666666666666666,
              "#ed7953"
             ],
             [
              0.7777777777777778,
              "#fb9f3a"
             ],
             [
              0.8888888888888888,
              "#fdca26"
             ],
             [
              1,
              "#f0f921"
             ]
            ],
            "type": "contour"
           }
          ],
          "contourcarpet": [
           {
            "colorbar": {
             "outlinewidth": 0,
             "ticks": ""
            },
            "type": "contourcarpet"
           }
          ],
          "heatmap": [
           {
            "colorbar": {
             "outlinewidth": 0,
             "ticks": ""
            },
            "colorscale": [
             [
              0,
              "#0d0887"
             ],
             [
              0.1111111111111111,
              "#46039f"
             ],
             [
              0.2222222222222222,
              "#7201a8"
             ],
             [
              0.3333333333333333,
              "#9c179e"
             ],
             [
              0.4444444444444444,
              "#bd3786"
             ],
             [
              0.5555555555555556,
              "#d8576b"
             ],
             [
              0.6666666666666666,
              "#ed7953"
             ],
             [
              0.7777777777777778,
              "#fb9f3a"
             ],
             [
              0.8888888888888888,
              "#fdca26"
             ],
             [
              1,
              "#f0f921"
             ]
            ],
            "type": "heatmap"
           }
          ],
          "heatmapgl": [
           {
            "colorbar": {
             "outlinewidth": 0,
             "ticks": ""
            },
            "colorscale": [
             [
              0,
              "#0d0887"
             ],
             [
              0.1111111111111111,
              "#46039f"
             ],
             [
              0.2222222222222222,
              "#7201a8"
             ],
             [
              0.3333333333333333,
              "#9c179e"
             ],
             [
              0.4444444444444444,
              "#bd3786"
             ],
             [
              0.5555555555555556,
              "#d8576b"
             ],
             [
              0.6666666666666666,
              "#ed7953"
             ],
             [
              0.7777777777777778,
              "#fb9f3a"
             ],
             [
              0.8888888888888888,
              "#fdca26"
             ],
             [
              1,
              "#f0f921"
             ]
            ],
            "type": "heatmapgl"
           }
          ],
          "histogram": [
           {
            "marker": {
             "pattern": {
              "fillmode": "overlay",
              "size": 10,
              "solidity": 0.2
             }
            },
            "type": "histogram"
           }
          ],
          "histogram2d": [
           {
            "colorbar": {
             "outlinewidth": 0,
             "ticks": ""
            },
            "colorscale": [
             [
              0,
              "#0d0887"
             ],
             [
              0.1111111111111111,
              "#46039f"
             ],
             [
              0.2222222222222222,
              "#7201a8"
             ],
             [
              0.3333333333333333,
              "#9c179e"
             ],
             [
              0.4444444444444444,
              "#bd3786"
             ],
             [
              0.5555555555555556,
              "#d8576b"
             ],
             [
              0.6666666666666666,
              "#ed7953"
             ],
             [
              0.7777777777777778,
              "#fb9f3a"
             ],
             [
              0.8888888888888888,
              "#fdca26"
             ],
             [
              1,
              "#f0f921"
             ]
            ],
            "type": "histogram2d"
           }
          ],
          "histogram2dcontour": [
           {
            "colorbar": {
             "outlinewidth": 0,
             "ticks": ""
            },
            "colorscale": [
             [
              0,
              "#0d0887"
             ],
             [
              0.1111111111111111,
              "#46039f"
             ],
             [
              0.2222222222222222,
              "#7201a8"
             ],
             [
              0.3333333333333333,
              "#9c179e"
             ],
             [
              0.4444444444444444,
              "#bd3786"
             ],
             [
              0.5555555555555556,
              "#d8576b"
             ],
             [
              0.6666666666666666,
              "#ed7953"
             ],
             [
              0.7777777777777778,
              "#fb9f3a"
             ],
             [
              0.8888888888888888,
              "#fdca26"
             ],
             [
              1,
              "#f0f921"
             ]
            ],
            "type": "histogram2dcontour"
           }
          ],
          "mesh3d": [
           {
            "colorbar": {
             "outlinewidth": 0,
             "ticks": ""
            },
            "type": "mesh3d"
           }
          ],
          "parcoords": [
           {
            "line": {
             "colorbar": {
              "outlinewidth": 0,
              "ticks": ""
             }
            },
            "type": "parcoords"
           }
          ],
          "pie": [
           {
            "automargin": true,
            "type": "pie"
           }
          ],
          "scatter": [
           {
            "fillpattern": {
             "fillmode": "overlay",
             "size": 10,
             "solidity": 0.2
            },
            "type": "scatter"
           }
          ],
          "scatter3d": [
           {
            "line": {
             "colorbar": {
              "outlinewidth": 0,
              "ticks": ""
             }
            },
            "marker": {
             "colorbar": {
              "outlinewidth": 0,
              "ticks": ""
             }
            },
            "type": "scatter3d"
           }
          ],
          "scattercarpet": [
           {
            "marker": {
             "colorbar": {
              "outlinewidth": 0,
              "ticks": ""
             }
            },
            "type": "scattercarpet"
           }
          ],
          "scattergeo": [
           {
            "marker": {
             "colorbar": {
              "outlinewidth": 0,
              "ticks": ""
             }
            },
            "type": "scattergeo"
           }
          ],
          "scattergl": [
           {
            "marker": {
             "colorbar": {
              "outlinewidth": 0,
              "ticks": ""
             }
            },
            "type": "scattergl"
           }
          ],
          "scattermapbox": [
           {
            "marker": {
             "colorbar": {
              "outlinewidth": 0,
              "ticks": ""
             }
            },
            "type": "scattermapbox"
           }
          ],
          "scatterpolar": [
           {
            "marker": {
             "colorbar": {
              "outlinewidth": 0,
              "ticks": ""
             }
            },
            "type": "scatterpolar"
           }
          ],
          "scatterpolargl": [
           {
            "marker": {
             "colorbar": {
              "outlinewidth": 0,
              "ticks": ""
             }
            },
            "type": "scatterpolargl"
           }
          ],
          "scatterternary": [
           {
            "marker": {
             "colorbar": {
              "outlinewidth": 0,
              "ticks": ""
             }
            },
            "type": "scatterternary"
           }
          ],
          "surface": [
           {
            "colorbar": {
             "outlinewidth": 0,
             "ticks": ""
            },
            "colorscale": [
             [
              0,
              "#0d0887"
             ],
             [
              0.1111111111111111,
              "#46039f"
             ],
             [
              0.2222222222222222,
              "#7201a8"
             ],
             [
              0.3333333333333333,
              "#9c179e"
             ],
             [
              0.4444444444444444,
              "#bd3786"
             ],
             [
              0.5555555555555556,
              "#d8576b"
             ],
             [
              0.6666666666666666,
              "#ed7953"
             ],
             [
              0.7777777777777778,
              "#fb9f3a"
             ],
             [
              0.8888888888888888,
              "#fdca26"
             ],
             [
              1,
              "#f0f921"
             ]
            ],
            "type": "surface"
           }
          ],
          "table": [
           {
            "cells": {
             "fill": {
              "color": "#EBF0F8"
             },
             "line": {
              "color": "white"
             }
            },
            "header": {
             "fill": {
              "color": "#C8D4E3"
             },
             "line": {
              "color": "white"
             }
            },
            "type": "table"
           }
          ]
         },
         "layout": {
          "annotationdefaults": {
           "arrowcolor": "#2a3f5f",
           "arrowhead": 0,
           "arrowwidth": 1
          },
          "autotypenumbers": "strict",
          "coloraxis": {
           "colorbar": {
            "outlinewidth": 0,
            "ticks": ""
           }
          },
          "colorscale": {
           "diverging": [
            [
             0,
             "#8e0152"
            ],
            [
             0.1,
             "#c51b7d"
            ],
            [
             0.2,
             "#de77ae"
            ],
            [
             0.3,
             "#f1b6da"
            ],
            [
             0.4,
             "#fde0ef"
            ],
            [
             0.5,
             "#f7f7f7"
            ],
            [
             0.6,
             "#e6f5d0"
            ],
            [
             0.7,
             "#b8e186"
            ],
            [
             0.8,
             "#7fbc41"
            ],
            [
             0.9,
             "#4d9221"
            ],
            [
             1,
             "#276419"
            ]
           ],
           "sequential": [
            [
             0,
             "#0d0887"
            ],
            [
             0.1111111111111111,
             "#46039f"
            ],
            [
             0.2222222222222222,
             "#7201a8"
            ],
            [
             0.3333333333333333,
             "#9c179e"
            ],
            [
             0.4444444444444444,
             "#bd3786"
            ],
            [
             0.5555555555555556,
             "#d8576b"
            ],
            [
             0.6666666666666666,
             "#ed7953"
            ],
            [
             0.7777777777777778,
             "#fb9f3a"
            ],
            [
             0.8888888888888888,
             "#fdca26"
            ],
            [
             1,
             "#f0f921"
            ]
           ],
           "sequentialminus": [
            [
             0,
             "#0d0887"
            ],
            [
             0.1111111111111111,
             "#46039f"
            ],
            [
             0.2222222222222222,
             "#7201a8"
            ],
            [
             0.3333333333333333,
             "#9c179e"
            ],
            [
             0.4444444444444444,
             "#bd3786"
            ],
            [
             0.5555555555555556,
             "#d8576b"
            ],
            [
             0.6666666666666666,
             "#ed7953"
            ],
            [
             0.7777777777777778,
             "#fb9f3a"
            ],
            [
             0.8888888888888888,
             "#fdca26"
            ],
            [
             1,
             "#f0f921"
            ]
           ]
          },
          "colorway": [
           "#636efa",
           "#EF553B",
           "#00cc96",
           "#ab63fa",
           "#FFA15A",
           "#19d3f3",
           "#FF6692",
           "#B6E880",
           "#FF97FF",
           "#FECB52"
          ],
          "font": {
           "color": "#2a3f5f"
          },
          "geo": {
           "bgcolor": "white",
           "lakecolor": "white",
           "landcolor": "#E5ECF6",
           "showlakes": true,
           "showland": true,
           "subunitcolor": "white"
          },
          "hoverlabel": {
           "align": "left"
          },
          "hovermode": "closest",
          "mapbox": {
           "style": "light"
          },
          "paper_bgcolor": "white",
          "plot_bgcolor": "#E5ECF6",
          "polar": {
           "angularaxis": {
            "gridcolor": "white",
            "linecolor": "white",
            "ticks": ""
           },
           "bgcolor": "#E5ECF6",
           "radialaxis": {
            "gridcolor": "white",
            "linecolor": "white",
            "ticks": ""
           }
          },
          "scene": {
           "xaxis": {
            "backgroundcolor": "#E5ECF6",
            "gridcolor": "white",
            "gridwidth": 2,
            "linecolor": "white",
            "showbackground": true,
            "ticks": "",
            "zerolinecolor": "white"
           },
           "yaxis": {
            "backgroundcolor": "#E5ECF6",
            "gridcolor": "white",
            "gridwidth": 2,
            "linecolor": "white",
            "showbackground": true,
            "ticks": "",
            "zerolinecolor": "white"
           },
           "zaxis": {
            "backgroundcolor": "#E5ECF6",
            "gridcolor": "white",
            "gridwidth": 2,
            "linecolor": "white",
            "showbackground": true,
            "ticks": "",
            "zerolinecolor": "white"
           }
          },
          "shapedefaults": {
           "line": {
            "color": "#2a3f5f"
           }
          },
          "ternary": {
           "aaxis": {
            "gridcolor": "white",
            "linecolor": "white",
            "ticks": ""
           },
           "baxis": {
            "gridcolor": "white",
            "linecolor": "white",
            "ticks": ""
           },
           "bgcolor": "#E5ECF6",
           "caxis": {
            "gridcolor": "white",
            "linecolor": "white",
            "ticks": ""
           }
          },
          "title": {
           "x": 0.05
          },
          "xaxis": {
           "automargin": true,
           "gridcolor": "white",
           "linecolor": "white",
           "ticks": "",
           "title": {
            "standoff": 15
           },
           "zerolinecolor": "white",
           "zerolinewidth": 2
          },
          "yaxis": {
           "automargin": true,
           "gridcolor": "white",
           "linecolor": "white",
           "ticks": "",
           "title": {
            "standoff": 15
           },
           "zerolinecolor": "white",
           "zerolinewidth": 2
          }
         }
        },
        "title": {
         "text": "Health Expenditure as a Percentage of GDP"
        },
        "xaxis": {
         "anchor": "y",
         "domain": [
          0,
          1
         ],
         "title": {
          "text": "date"
         }
        },
        "yaxis": {
         "anchor": "x",
         "domain": [
          0,
          1
         ],
         "title": {
          "text": "Health Expenditure as a Percentage of GDP"
         }
        }
       }
      }
     },
     "metadata": {},
     "output_type": "display_data"
    },
    {
     "data": {
      "application/vnd.plotly.v1+json": {
       "config": {
        "plotlyServerURL": "https://plot.ly"
       },
       "data": [
        {
         "hovertemplate": "country=Argentina<br>date=%{x}<br>Immunization=%{y}<extra></extra>",
         "legendgroup": "Argentina",
         "line": {
          "color": "#636efa",
          "dash": "solid"
         },
         "marker": {
          "symbol": "circle"
         },
         "mode": "lines",
         "name": "Argentina",
         "orientation": "v",
         "showlegend": true,
         "type": "scatter",
         "x": [
          "2022-01-01T00:00:00",
          "2021-01-01T00:00:00",
          "2020-01-01T00:00:00",
          "2019-01-01T00:00:00",
          "2018-01-01T00:00:00",
          "2017-01-01T00:00:00",
          "2016-01-01T00:00:00",
          "2015-01-01T00:00:00",
          "2014-01-01T00:00:00",
          "2013-01-01T00:00:00",
          "2012-01-01T00:00:00",
          "2011-01-01T00:00:00",
          "2010-01-01T00:00:00",
          "2009-01-01T00:00:00",
          "2008-01-01T00:00:00",
          "2007-01-01T00:00:00",
          "2006-01-01T00:00:00",
          "2005-01-01T00:00:00",
          "2004-01-01T00:00:00",
          "2003-01-01T00:00:00",
          "2002-01-01T00:00:00",
          "2001-01-01T00:00:00",
          "2000-01-01T00:00:00",
          "1999-01-01T00:00:00",
          "1998-01-01T00:00:00",
          "1997-01-01T00:00:00",
          "1996-01-01T00:00:00",
          "1995-01-01T00:00:00",
          "1994-01-01T00:00:00",
          "1993-01-01T00:00:00",
          "1992-01-01T00:00:00",
          "1991-01-01T00:00:00",
          "1990-01-01T00:00:00",
          "1989-01-01T00:00:00",
          "1988-01-01T00:00:00",
          "1987-01-01T00:00:00",
          "1986-01-01T00:00:00",
          "1985-01-01T00:00:00",
          "1984-01-01T00:00:00",
          "1983-01-01T00:00:00",
          "1982-01-01T00:00:00",
          "1981-01-01T00:00:00",
          "1980-01-01T00:00:00",
          "1979-01-01T00:00:00",
          "1978-01-01T00:00:00",
          "1977-01-01T00:00:00",
          "1976-01-01T00:00:00",
          "1975-01-01T00:00:00",
          "1974-01-01T00:00:00",
          "1973-01-01T00:00:00",
          "1972-01-01T00:00:00",
          "1971-01-01T00:00:00",
          "1970-01-01T00:00:00",
          "1969-01-01T00:00:00",
          "1968-01-01T00:00:00",
          "1967-01-01T00:00:00",
          "1966-01-01T00:00:00",
          "1965-01-01T00:00:00",
          "1964-01-01T00:00:00",
          "1963-01-01T00:00:00",
          "1962-01-01T00:00:00",
          "1961-01-01T00:00:00",
          "1960-01-01T00:00:00"
         ],
         "xaxis": "x",
         "y": [
          null,
          76,
          74,
          83,
          86,
          86,
          92,
          94,
          94,
          94,
          91,
          91,
          94,
          94,
          93,
          91,
          91,
          98,
          98,
          96,
          93,
          83,
          83,
          86,
          84,
          88,
          83,
          85,
          82,
          81,
          81,
          80,
          87,
          80,
          80,
          75,
          67,
          66,
          62,
          61,
          58,
          49,
          44,
          null,
          null,
          null,
          null,
          null,
          null,
          null,
          null,
          null,
          null,
          null,
          null,
          null,
          null,
          null,
          null,
          null,
          null,
          null,
          null
         ],
         "yaxis": "y"
        },
        {
         "hovertemplate": "country=Ethiopia<br>date=%{x}<br>Immunization=%{y}<extra></extra>",
         "legendgroup": "Ethiopia",
         "line": {
          "color": "#EF553B",
          "dash": "solid"
         },
         "marker": {
          "symbol": "circle"
         },
         "mode": "lines",
         "name": "Ethiopia",
         "orientation": "v",
         "showlegend": true,
         "type": "scatter",
         "x": [
          "2022-01-01T00:00:00",
          "2021-01-01T00:00:00",
          "2020-01-01T00:00:00",
          "2019-01-01T00:00:00",
          "2018-01-01T00:00:00",
          "2017-01-01T00:00:00",
          "2016-01-01T00:00:00",
          "2015-01-01T00:00:00",
          "2014-01-01T00:00:00",
          "2013-01-01T00:00:00",
          "2012-01-01T00:00:00",
          "2011-01-01T00:00:00",
          "2010-01-01T00:00:00",
          "2009-01-01T00:00:00",
          "2008-01-01T00:00:00",
          "2007-01-01T00:00:00",
          "2006-01-01T00:00:00",
          "2005-01-01T00:00:00",
          "2004-01-01T00:00:00",
          "2003-01-01T00:00:00",
          "2002-01-01T00:00:00",
          "2001-01-01T00:00:00",
          "2000-01-01T00:00:00",
          "1999-01-01T00:00:00",
          "1998-01-01T00:00:00",
          "1997-01-01T00:00:00",
          "1996-01-01T00:00:00",
          "1995-01-01T00:00:00",
          "1994-01-01T00:00:00",
          "1993-01-01T00:00:00",
          "1992-01-01T00:00:00",
          "1991-01-01T00:00:00",
          "1990-01-01T00:00:00",
          "1989-01-01T00:00:00",
          "1988-01-01T00:00:00",
          "1987-01-01T00:00:00",
          "1986-01-01T00:00:00",
          "1985-01-01T00:00:00",
          "1984-01-01T00:00:00",
          "1983-01-01T00:00:00",
          "1982-01-01T00:00:00",
          "1981-01-01T00:00:00",
          "1980-01-01T00:00:00",
          "1979-01-01T00:00:00",
          "1978-01-01T00:00:00",
          "1977-01-01T00:00:00",
          "1976-01-01T00:00:00",
          "1975-01-01T00:00:00",
          "1974-01-01T00:00:00",
          "1973-01-01T00:00:00",
          "1972-01-01T00:00:00",
          "1971-01-01T00:00:00",
          "1970-01-01T00:00:00",
          "1969-01-01T00:00:00",
          "1968-01-01T00:00:00",
          "1967-01-01T00:00:00",
          "1966-01-01T00:00:00",
          "1965-01-01T00:00:00",
          "1964-01-01T00:00:00",
          "1963-01-01T00:00:00",
          "1962-01-01T00:00:00",
          "1961-01-01T00:00:00",
          "1960-01-01T00:00:00"
         ],
         "xaxis": "x",
         "y": [
          null,
          65,
          71,
          68,
          67,
          68,
          66,
          63,
          61,
          59,
          62,
          65,
          61,
          58,
          54,
          50,
          46,
          44,
          40,
          38,
          35,
          33,
          30,
          28,
          42,
          55,
          55,
          57,
          57,
          28,
          13,
          21,
          49,
          26,
          16,
          16,
          7,
          6,
          4,
          4,
          3,
          3,
          null,
          null,
          null,
          null,
          null,
          null,
          null,
          null,
          null,
          null,
          null,
          null,
          null,
          null,
          null,
          null,
          null,
          null,
          null,
          null,
          null
         ],
         "yaxis": "y"
        },
        {
         "hovertemplate": "country=India<br>date=%{x}<br>Immunization=%{y}<extra></extra>",
         "legendgroup": "India",
         "line": {
          "color": "#00cc96",
          "dash": "solid"
         },
         "marker": {
          "symbol": "circle"
         },
         "mode": "lines",
         "name": "India",
         "orientation": "v",
         "showlegend": true,
         "type": "scatter",
         "x": [
          "2022-01-01T00:00:00",
          "2021-01-01T00:00:00",
          "2020-01-01T00:00:00",
          "2019-01-01T00:00:00",
          "2018-01-01T00:00:00",
          "2017-01-01T00:00:00",
          "2016-01-01T00:00:00",
          "2015-01-01T00:00:00",
          "2014-01-01T00:00:00",
          "2013-01-01T00:00:00",
          "2012-01-01T00:00:00",
          "2011-01-01T00:00:00",
          "2010-01-01T00:00:00",
          "2009-01-01T00:00:00",
          "2008-01-01T00:00:00",
          "2007-01-01T00:00:00",
          "2006-01-01T00:00:00",
          "2005-01-01T00:00:00",
          "2004-01-01T00:00:00",
          "2003-01-01T00:00:00",
          "2002-01-01T00:00:00",
          "2001-01-01T00:00:00",
          "2000-01-01T00:00:00",
          "1999-01-01T00:00:00",
          "1998-01-01T00:00:00",
          "1997-01-01T00:00:00",
          "1996-01-01T00:00:00",
          "1995-01-01T00:00:00",
          "1994-01-01T00:00:00",
          "1993-01-01T00:00:00",
          "1992-01-01T00:00:00",
          "1991-01-01T00:00:00",
          "1990-01-01T00:00:00",
          "1989-01-01T00:00:00",
          "1988-01-01T00:00:00",
          "1987-01-01T00:00:00",
          "1986-01-01T00:00:00",
          "1985-01-01T00:00:00",
          "1984-01-01T00:00:00",
          "1983-01-01T00:00:00",
          "1982-01-01T00:00:00",
          "1981-01-01T00:00:00",
          "1980-01-01T00:00:00",
          "1979-01-01T00:00:00",
          "1978-01-01T00:00:00",
          "1977-01-01T00:00:00",
          "1976-01-01T00:00:00",
          "1975-01-01T00:00:00",
          "1974-01-01T00:00:00",
          "1973-01-01T00:00:00",
          "1972-01-01T00:00:00",
          "1971-01-01T00:00:00",
          "1970-01-01T00:00:00",
          "1969-01-01T00:00:00",
          "1968-01-01T00:00:00",
          "1967-01-01T00:00:00",
          "1966-01-01T00:00:00",
          "1965-01-01T00:00:00",
          "1964-01-01T00:00:00",
          "1963-01-01T00:00:00",
          "1962-01-01T00:00:00",
          "1961-01-01T00:00:00",
          "1960-01-01T00:00:00"
         ],
         "xaxis": "x",
         "y": [
          null,
          85,
          85,
          91,
          90,
          89,
          88,
          87,
          85,
          83,
          82,
          82,
          79,
          74,
          70,
          64,
          65,
          65,
          63,
          61,
          59,
          59,
          58,
          59,
          61,
          62,
          66,
          71,
          67,
          61,
          56,
          57,
          70,
          50,
          40,
          30,
          20,
          18,
          16,
          14,
          12,
          6,
          6,
          null,
          null,
          null,
          null,
          null,
          null,
          null,
          null,
          null,
          null,
          null,
          null,
          null,
          null,
          null,
          null,
          null,
          null,
          null,
          null
         ],
         "yaxis": "y"
        },
        {
         "hovertemplate": "country=United States<br>date=%{x}<br>Immunization=%{y}<extra></extra>",
         "legendgroup": "United States",
         "line": {
          "color": "#ab63fa",
          "dash": "solid"
         },
         "marker": {
          "symbol": "circle"
         },
         "mode": "lines",
         "name": "United States",
         "orientation": "v",
         "showlegend": true,
         "type": "scatter",
         "x": [
          "2022-01-01T00:00:00",
          "2021-01-01T00:00:00",
          "2020-01-01T00:00:00",
          "2019-01-01T00:00:00",
          "2018-01-01T00:00:00",
          "2017-01-01T00:00:00",
          "2016-01-01T00:00:00",
          "2015-01-01T00:00:00",
          "2014-01-01T00:00:00",
          "2013-01-01T00:00:00",
          "2012-01-01T00:00:00",
          "2011-01-01T00:00:00",
          "2010-01-01T00:00:00",
          "2009-01-01T00:00:00",
          "2008-01-01T00:00:00",
          "2007-01-01T00:00:00",
          "2006-01-01T00:00:00",
          "2005-01-01T00:00:00",
          "2004-01-01T00:00:00",
          "2003-01-01T00:00:00",
          "2002-01-01T00:00:00",
          "2001-01-01T00:00:00",
          "2000-01-01T00:00:00",
          "1999-01-01T00:00:00",
          "1998-01-01T00:00:00",
          "1997-01-01T00:00:00",
          "1996-01-01T00:00:00",
          "1995-01-01T00:00:00",
          "1994-01-01T00:00:00",
          "1993-01-01T00:00:00",
          "1992-01-01T00:00:00",
          "1991-01-01T00:00:00",
          "1990-01-01T00:00:00",
          "1989-01-01T00:00:00",
          "1988-01-01T00:00:00",
          "1987-01-01T00:00:00",
          "1986-01-01T00:00:00",
          "1985-01-01T00:00:00",
          "1984-01-01T00:00:00",
          "1983-01-01T00:00:00",
          "1982-01-01T00:00:00",
          "1981-01-01T00:00:00",
          "1980-01-01T00:00:00",
          "1979-01-01T00:00:00",
          "1978-01-01T00:00:00",
          "1977-01-01T00:00:00",
          "1976-01-01T00:00:00",
          "1975-01-01T00:00:00",
          "1974-01-01T00:00:00",
          "1973-01-01T00:00:00",
          "1972-01-01T00:00:00",
          "1971-01-01T00:00:00",
          "1970-01-01T00:00:00",
          "1969-01-01T00:00:00",
          "1968-01-01T00:00:00",
          "1967-01-01T00:00:00",
          "1966-01-01T00:00:00",
          "1965-01-01T00:00:00",
          "1964-01-01T00:00:00",
          "1963-01-01T00:00:00",
          "1962-01-01T00:00:00",
          "1961-01-01T00:00:00",
          "1960-01-01T00:00:00"
         ],
         "xaxis": "x",
         "y": [
          null,
          93,
          93,
          94,
          94,
          94,
          95,
          95,
          95,
          94,
          94,
          96,
          95,
          95,
          96,
          96,
          96,
          96,
          96,
          96,
          94,
          94,
          94,
          96,
          96,
          96,
          95,
          95,
          94,
          88,
          83,
          86,
          90,
          94,
          97,
          97,
          97,
          96,
          97,
          97,
          96,
          96,
          96,
          null,
          null,
          null,
          null,
          null,
          null,
          null,
          null,
          null,
          null,
          null,
          null,
          null,
          null,
          null,
          null,
          null,
          null,
          null,
          null
         ],
         "yaxis": "y"
        }
       ],
       "layout": {
        "legend": {
         "title": {
          "text": "country"
         },
         "tracegroupgap": 0
        },
        "template": {
         "data": {
          "bar": [
           {
            "error_x": {
             "color": "#2a3f5f"
            },
            "error_y": {
             "color": "#2a3f5f"
            },
            "marker": {
             "line": {
              "color": "#E5ECF6",
              "width": 0.5
             },
             "pattern": {
              "fillmode": "overlay",
              "size": 10,
              "solidity": 0.2
             }
            },
            "type": "bar"
           }
          ],
          "barpolar": [
           {
            "marker": {
             "line": {
              "color": "#E5ECF6",
              "width": 0.5
             },
             "pattern": {
              "fillmode": "overlay",
              "size": 10,
              "solidity": 0.2
             }
            },
            "type": "barpolar"
           }
          ],
          "carpet": [
           {
            "aaxis": {
             "endlinecolor": "#2a3f5f",
             "gridcolor": "white",
             "linecolor": "white",
             "minorgridcolor": "white",
             "startlinecolor": "#2a3f5f"
            },
            "baxis": {
             "endlinecolor": "#2a3f5f",
             "gridcolor": "white",
             "linecolor": "white",
             "minorgridcolor": "white",
             "startlinecolor": "#2a3f5f"
            },
            "type": "carpet"
           }
          ],
          "choropleth": [
           {
            "colorbar": {
             "outlinewidth": 0,
             "ticks": ""
            },
            "type": "choropleth"
           }
          ],
          "contour": [
           {
            "colorbar": {
             "outlinewidth": 0,
             "ticks": ""
            },
            "colorscale": [
             [
              0,
              "#0d0887"
             ],
             [
              0.1111111111111111,
              "#46039f"
             ],
             [
              0.2222222222222222,
              "#7201a8"
             ],
             [
              0.3333333333333333,
              "#9c179e"
             ],
             [
              0.4444444444444444,
              "#bd3786"
             ],
             [
              0.5555555555555556,
              "#d8576b"
             ],
             [
              0.6666666666666666,
              "#ed7953"
             ],
             [
              0.7777777777777778,
              "#fb9f3a"
             ],
             [
              0.8888888888888888,
              "#fdca26"
             ],
             [
              1,
              "#f0f921"
             ]
            ],
            "type": "contour"
           }
          ],
          "contourcarpet": [
           {
            "colorbar": {
             "outlinewidth": 0,
             "ticks": ""
            },
            "type": "contourcarpet"
           }
          ],
          "heatmap": [
           {
            "colorbar": {
             "outlinewidth": 0,
             "ticks": ""
            },
            "colorscale": [
             [
              0,
              "#0d0887"
             ],
             [
              0.1111111111111111,
              "#46039f"
             ],
             [
              0.2222222222222222,
              "#7201a8"
             ],
             [
              0.3333333333333333,
              "#9c179e"
             ],
             [
              0.4444444444444444,
              "#bd3786"
             ],
             [
              0.5555555555555556,
              "#d8576b"
             ],
             [
              0.6666666666666666,
              "#ed7953"
             ],
             [
              0.7777777777777778,
              "#fb9f3a"
             ],
             [
              0.8888888888888888,
              "#fdca26"
             ],
             [
              1,
              "#f0f921"
             ]
            ],
            "type": "heatmap"
           }
          ],
          "heatmapgl": [
           {
            "colorbar": {
             "outlinewidth": 0,
             "ticks": ""
            },
            "colorscale": [
             [
              0,
              "#0d0887"
             ],
             [
              0.1111111111111111,
              "#46039f"
             ],
             [
              0.2222222222222222,
              "#7201a8"
             ],
             [
              0.3333333333333333,
              "#9c179e"
             ],
             [
              0.4444444444444444,
              "#bd3786"
             ],
             [
              0.5555555555555556,
              "#d8576b"
             ],
             [
              0.6666666666666666,
              "#ed7953"
             ],
             [
              0.7777777777777778,
              "#fb9f3a"
             ],
             [
              0.8888888888888888,
              "#fdca26"
             ],
             [
              1,
              "#f0f921"
             ]
            ],
            "type": "heatmapgl"
           }
          ],
          "histogram": [
           {
            "marker": {
             "pattern": {
              "fillmode": "overlay",
              "size": 10,
              "solidity": 0.2
             }
            },
            "type": "histogram"
           }
          ],
          "histogram2d": [
           {
            "colorbar": {
             "outlinewidth": 0,
             "ticks": ""
            },
            "colorscale": [
             [
              0,
              "#0d0887"
             ],
             [
              0.1111111111111111,
              "#46039f"
             ],
             [
              0.2222222222222222,
              "#7201a8"
             ],
             [
              0.3333333333333333,
              "#9c179e"
             ],
             [
              0.4444444444444444,
              "#bd3786"
             ],
             [
              0.5555555555555556,
              "#d8576b"
             ],
             [
              0.6666666666666666,
              "#ed7953"
             ],
             [
              0.7777777777777778,
              "#fb9f3a"
             ],
             [
              0.8888888888888888,
              "#fdca26"
             ],
             [
              1,
              "#f0f921"
             ]
            ],
            "type": "histogram2d"
           }
          ],
          "histogram2dcontour": [
           {
            "colorbar": {
             "outlinewidth": 0,
             "ticks": ""
            },
            "colorscale": [
             [
              0,
              "#0d0887"
             ],
             [
              0.1111111111111111,
              "#46039f"
             ],
             [
              0.2222222222222222,
              "#7201a8"
             ],
             [
              0.3333333333333333,
              "#9c179e"
             ],
             [
              0.4444444444444444,
              "#bd3786"
             ],
             [
              0.5555555555555556,
              "#d8576b"
             ],
             [
              0.6666666666666666,
              "#ed7953"
             ],
             [
              0.7777777777777778,
              "#fb9f3a"
             ],
             [
              0.8888888888888888,
              "#fdca26"
             ],
             [
              1,
              "#f0f921"
             ]
            ],
            "type": "histogram2dcontour"
           }
          ],
          "mesh3d": [
           {
            "colorbar": {
             "outlinewidth": 0,
             "ticks": ""
            },
            "type": "mesh3d"
           }
          ],
          "parcoords": [
           {
            "line": {
             "colorbar": {
              "outlinewidth": 0,
              "ticks": ""
             }
            },
            "type": "parcoords"
           }
          ],
          "pie": [
           {
            "automargin": true,
            "type": "pie"
           }
          ],
          "scatter": [
           {
            "fillpattern": {
             "fillmode": "overlay",
             "size": 10,
             "solidity": 0.2
            },
            "type": "scatter"
           }
          ],
          "scatter3d": [
           {
            "line": {
             "colorbar": {
              "outlinewidth": 0,
              "ticks": ""
             }
            },
            "marker": {
             "colorbar": {
              "outlinewidth": 0,
              "ticks": ""
             }
            },
            "type": "scatter3d"
           }
          ],
          "scattercarpet": [
           {
            "marker": {
             "colorbar": {
              "outlinewidth": 0,
              "ticks": ""
             }
            },
            "type": "scattercarpet"
           }
          ],
          "scattergeo": [
           {
            "marker": {
             "colorbar": {
              "outlinewidth": 0,
              "ticks": ""
             }
            },
            "type": "scattergeo"
           }
          ],
          "scattergl": [
           {
            "marker": {
             "colorbar": {
              "outlinewidth": 0,
              "ticks": ""
             }
            },
            "type": "scattergl"
           }
          ],
          "scattermapbox": [
           {
            "marker": {
             "colorbar": {
              "outlinewidth": 0,
              "ticks": ""
             }
            },
            "type": "scattermapbox"
           }
          ],
          "scatterpolar": [
           {
            "marker": {
             "colorbar": {
              "outlinewidth": 0,
              "ticks": ""
             }
            },
            "type": "scatterpolar"
           }
          ],
          "scatterpolargl": [
           {
            "marker": {
             "colorbar": {
              "outlinewidth": 0,
              "ticks": ""
             }
            },
            "type": "scatterpolargl"
           }
          ],
          "scatterternary": [
           {
            "marker": {
             "colorbar": {
              "outlinewidth": 0,
              "ticks": ""
             }
            },
            "type": "scatterternary"
           }
          ],
          "surface": [
           {
            "colorbar": {
             "outlinewidth": 0,
             "ticks": ""
            },
            "colorscale": [
             [
              0,
              "#0d0887"
             ],
             [
              0.1111111111111111,
              "#46039f"
             ],
             [
              0.2222222222222222,
              "#7201a8"
             ],
             [
              0.3333333333333333,
              "#9c179e"
             ],
             [
              0.4444444444444444,
              "#bd3786"
             ],
             [
              0.5555555555555556,
              "#d8576b"
             ],
             [
              0.6666666666666666,
              "#ed7953"
             ],
             [
              0.7777777777777778,
              "#fb9f3a"
             ],
             [
              0.8888888888888888,
              "#fdca26"
             ],
             [
              1,
              "#f0f921"
             ]
            ],
            "type": "surface"
           }
          ],
          "table": [
           {
            "cells": {
             "fill": {
              "color": "#EBF0F8"
             },
             "line": {
              "color": "white"
             }
            },
            "header": {
             "fill": {
              "color": "#C8D4E3"
             },
             "line": {
              "color": "white"
             }
            },
            "type": "table"
           }
          ]
         },
         "layout": {
          "annotationdefaults": {
           "arrowcolor": "#2a3f5f",
           "arrowhead": 0,
           "arrowwidth": 1
          },
          "autotypenumbers": "strict",
          "coloraxis": {
           "colorbar": {
            "outlinewidth": 0,
            "ticks": ""
           }
          },
          "colorscale": {
           "diverging": [
            [
             0,
             "#8e0152"
            ],
            [
             0.1,
             "#c51b7d"
            ],
            [
             0.2,
             "#de77ae"
            ],
            [
             0.3,
             "#f1b6da"
            ],
            [
             0.4,
             "#fde0ef"
            ],
            [
             0.5,
             "#f7f7f7"
            ],
            [
             0.6,
             "#e6f5d0"
            ],
            [
             0.7,
             "#b8e186"
            ],
            [
             0.8,
             "#7fbc41"
            ],
            [
             0.9,
             "#4d9221"
            ],
            [
             1,
             "#276419"
            ]
           ],
           "sequential": [
            [
             0,
             "#0d0887"
            ],
            [
             0.1111111111111111,
             "#46039f"
            ],
            [
             0.2222222222222222,
             "#7201a8"
            ],
            [
             0.3333333333333333,
             "#9c179e"
            ],
            [
             0.4444444444444444,
             "#bd3786"
            ],
            [
             0.5555555555555556,
             "#d8576b"
            ],
            [
             0.6666666666666666,
             "#ed7953"
            ],
            [
             0.7777777777777778,
             "#fb9f3a"
            ],
            [
             0.8888888888888888,
             "#fdca26"
            ],
            [
             1,
             "#f0f921"
            ]
           ],
           "sequentialminus": [
            [
             0,
             "#0d0887"
            ],
            [
             0.1111111111111111,
             "#46039f"
            ],
            [
             0.2222222222222222,
             "#7201a8"
            ],
            [
             0.3333333333333333,
             "#9c179e"
            ],
            [
             0.4444444444444444,
             "#bd3786"
            ],
            [
             0.5555555555555556,
             "#d8576b"
            ],
            [
             0.6666666666666666,
             "#ed7953"
            ],
            [
             0.7777777777777778,
             "#fb9f3a"
            ],
            [
             0.8888888888888888,
             "#fdca26"
            ],
            [
             1,
             "#f0f921"
            ]
           ]
          },
          "colorway": [
           "#636efa",
           "#EF553B",
           "#00cc96",
           "#ab63fa",
           "#FFA15A",
           "#19d3f3",
           "#FF6692",
           "#B6E880",
           "#FF97FF",
           "#FECB52"
          ],
          "font": {
           "color": "#2a3f5f"
          },
          "geo": {
           "bgcolor": "white",
           "lakecolor": "white",
           "landcolor": "#E5ECF6",
           "showlakes": true,
           "showland": true,
           "subunitcolor": "white"
          },
          "hoverlabel": {
           "align": "left"
          },
          "hovermode": "closest",
          "mapbox": {
           "style": "light"
          },
          "paper_bgcolor": "white",
          "plot_bgcolor": "#E5ECF6",
          "polar": {
           "angularaxis": {
            "gridcolor": "white",
            "linecolor": "white",
            "ticks": ""
           },
           "bgcolor": "#E5ECF6",
           "radialaxis": {
            "gridcolor": "white",
            "linecolor": "white",
            "ticks": ""
           }
          },
          "scene": {
           "xaxis": {
            "backgroundcolor": "#E5ECF6",
            "gridcolor": "white",
            "gridwidth": 2,
            "linecolor": "white",
            "showbackground": true,
            "ticks": "",
            "zerolinecolor": "white"
           },
           "yaxis": {
            "backgroundcolor": "#E5ECF6",
            "gridcolor": "white",
            "gridwidth": 2,
            "linecolor": "white",
            "showbackground": true,
            "ticks": "",
            "zerolinecolor": "white"
           },
           "zaxis": {
            "backgroundcolor": "#E5ECF6",
            "gridcolor": "white",
            "gridwidth": 2,
            "linecolor": "white",
            "showbackground": true,
            "ticks": "",
            "zerolinecolor": "white"
           }
          },
          "shapedefaults": {
           "line": {
            "color": "#2a3f5f"
           }
          },
          "ternary": {
           "aaxis": {
            "gridcolor": "white",
            "linecolor": "white",
            "ticks": ""
           },
           "baxis": {
            "gridcolor": "white",
            "linecolor": "white",
            "ticks": ""
           },
           "bgcolor": "#E5ECF6",
           "caxis": {
            "gridcolor": "white",
            "linecolor": "white",
            "ticks": ""
           }
          },
          "title": {
           "x": 0.05
          },
          "xaxis": {
           "automargin": true,
           "gridcolor": "white",
           "linecolor": "white",
           "ticks": "",
           "title": {
            "standoff": 15
           },
           "zerolinecolor": "white",
           "zerolinewidth": 2
          },
          "yaxis": {
           "automargin": true,
           "gridcolor": "white",
           "linecolor": "white",
           "ticks": "",
           "title": {
            "standoff": 15
           },
           "zerolinecolor": "white",
           "zerolinewidth": 2
          }
         }
        },
        "title": {
         "text": "Immunization"
        },
        "xaxis": {
         "anchor": "y",
         "domain": [
          0,
          1
         ],
         "title": {
          "text": "date"
         }
        },
        "yaxis": {
         "anchor": "x",
         "domain": [
          0,
          1
         ],
         "title": {
          "text": "Immunization"
         }
        }
       }
      }
     },
     "metadata": {},
     "output_type": "display_data"
    },
    {
     "data": {
      "application/vnd.plotly.v1+json": {
       "config": {
        "plotlyServerURL": "https://plot.ly"
       },
       "data": [
        {
         "hovertemplate": "country=Argentina<br>date=%{x}<br>Life Expectancy at Birth=%{y}<extra></extra>",
         "legendgroup": "Argentina",
         "line": {
          "color": "#636efa",
          "dash": "solid"
         },
         "marker": {
          "symbol": "circle"
         },
         "mode": "lines",
         "name": "Argentina",
         "orientation": "v",
         "showlegend": true,
         "type": "scatter",
         "x": [
          "2022-01-01T00:00:00",
          "2021-01-01T00:00:00",
          "2020-01-01T00:00:00",
          "2019-01-01T00:00:00",
          "2018-01-01T00:00:00",
          "2017-01-01T00:00:00",
          "2016-01-01T00:00:00",
          "2015-01-01T00:00:00",
          "2014-01-01T00:00:00",
          "2013-01-01T00:00:00",
          "2012-01-01T00:00:00",
          "2011-01-01T00:00:00",
          "2010-01-01T00:00:00",
          "2009-01-01T00:00:00",
          "2008-01-01T00:00:00",
          "2007-01-01T00:00:00",
          "2006-01-01T00:00:00",
          "2005-01-01T00:00:00",
          "2004-01-01T00:00:00",
          "2003-01-01T00:00:00",
          "2002-01-01T00:00:00",
          "2001-01-01T00:00:00",
          "2000-01-01T00:00:00",
          "1999-01-01T00:00:00",
          "1998-01-01T00:00:00",
          "1997-01-01T00:00:00",
          "1996-01-01T00:00:00",
          "1995-01-01T00:00:00",
          "1994-01-01T00:00:00",
          "1993-01-01T00:00:00",
          "1992-01-01T00:00:00",
          "1991-01-01T00:00:00",
          "1990-01-01T00:00:00",
          "1989-01-01T00:00:00",
          "1988-01-01T00:00:00",
          "1987-01-01T00:00:00",
          "1986-01-01T00:00:00",
          "1985-01-01T00:00:00",
          "1984-01-01T00:00:00",
          "1983-01-01T00:00:00",
          "1982-01-01T00:00:00",
          "1981-01-01T00:00:00",
          "1980-01-01T00:00:00",
          "1979-01-01T00:00:00",
          "1978-01-01T00:00:00",
          "1977-01-01T00:00:00",
          "1976-01-01T00:00:00",
          "1975-01-01T00:00:00",
          "1974-01-01T00:00:00",
          "1973-01-01T00:00:00",
          "1972-01-01T00:00:00",
          "1971-01-01T00:00:00",
          "1970-01-01T00:00:00",
          "1969-01-01T00:00:00",
          "1968-01-01T00:00:00",
          "1967-01-01T00:00:00",
          "1966-01-01T00:00:00",
          "1965-01-01T00:00:00",
          "1964-01-01T00:00:00",
          "1963-01-01T00:00:00",
          "1962-01-01T00:00:00",
          "1961-01-01T00:00:00",
          "1960-01-01T00:00:00"
         ],
         "xaxis": "x",
         "y": [
          null,
          75.39,
          75.892,
          77.284,
          76.999,
          76.833,
          76.308,
          76.76,
          76.755,
          76.491,
          76.467,
          76.124,
          75.721,
          75.936,
          75.641,
          75.006,
          75.433,
          75.139,
          74.855,
          74.08,
          74.408,
          74.186,
          73.926,
          73.722,
          73.474,
          73.09,
          73.307,
          73.133,
          73.172,
          72.565,
          72.43,
          72.319,
          71.784,
          71.425,
          71.052,
          70.564,
          70.119,
          69.651,
          69.195,
          69.267,
          68.937,
          68.976,
          68.564,
          68.491,
          68.197,
          67.861,
          67.228,
          67.081,
          66.563,
          66.323,
          65.923,
          65.541,
          65.589,
          64.859,
          64.89,
          64.992,
          64.891,
          64.593,
          64.363,
          64.449,
          64.244,
          64.36,
          63.978
         ],
         "yaxis": "y"
        },
        {
         "hovertemplate": "country=Ethiopia<br>date=%{x}<br>Life Expectancy at Birth=%{y}<extra></extra>",
         "legendgroup": "Ethiopia",
         "line": {
          "color": "#EF553B",
          "dash": "solid"
         },
         "marker": {
          "symbol": "circle"
         },
         "mode": "lines",
         "name": "Ethiopia",
         "orientation": "v",
         "showlegend": true,
         "type": "scatter",
         "x": [
          "2022-01-01T00:00:00",
          "2021-01-01T00:00:00",
          "2020-01-01T00:00:00",
          "2019-01-01T00:00:00",
          "2018-01-01T00:00:00",
          "2017-01-01T00:00:00",
          "2016-01-01T00:00:00",
          "2015-01-01T00:00:00",
          "2014-01-01T00:00:00",
          "2013-01-01T00:00:00",
          "2012-01-01T00:00:00",
          "2011-01-01T00:00:00",
          "2010-01-01T00:00:00",
          "2009-01-01T00:00:00",
          "2008-01-01T00:00:00",
          "2007-01-01T00:00:00",
          "2006-01-01T00:00:00",
          "2005-01-01T00:00:00",
          "2004-01-01T00:00:00",
          "2003-01-01T00:00:00",
          "2002-01-01T00:00:00",
          "2001-01-01T00:00:00",
          "2000-01-01T00:00:00",
          "1999-01-01T00:00:00",
          "1998-01-01T00:00:00",
          "1997-01-01T00:00:00",
          "1996-01-01T00:00:00",
          "1995-01-01T00:00:00",
          "1994-01-01T00:00:00",
          "1993-01-01T00:00:00",
          "1992-01-01T00:00:00",
          "1991-01-01T00:00:00",
          "1990-01-01T00:00:00",
          "1989-01-01T00:00:00",
          "1988-01-01T00:00:00",
          "1987-01-01T00:00:00",
          "1986-01-01T00:00:00",
          "1985-01-01T00:00:00",
          "1984-01-01T00:00:00",
          "1983-01-01T00:00:00",
          "1982-01-01T00:00:00",
          "1981-01-01T00:00:00",
          "1980-01-01T00:00:00",
          "1979-01-01T00:00:00",
          "1978-01-01T00:00:00",
          "1977-01-01T00:00:00",
          "1976-01-01T00:00:00",
          "1975-01-01T00:00:00",
          "1974-01-01T00:00:00",
          "1973-01-01T00:00:00",
          "1972-01-01T00:00:00",
          "1971-01-01T00:00:00",
          "1970-01-01T00:00:00",
          "1969-01-01T00:00:00",
          "1968-01-01T00:00:00",
          "1967-01-01T00:00:00",
          "1966-01-01T00:00:00",
          "1965-01-01T00:00:00",
          "1964-01-01T00:00:00",
          "1963-01-01T00:00:00",
          "1962-01-01T00:00:00",
          "1961-01-01T00:00:00",
          "1960-01-01T00:00:00"
         ],
         "xaxis": "x",
         "y": [
          null,
          64.975,
          65.371,
          65.838,
          65.412,
          64.838,
          64.392,
          63.649,
          62.905,
          62.373,
          61.543,
          60.721,
          59.73,
          58.804,
          57.592,
          56.426,
          55.149,
          54.008,
          53.235,
          52.533,
          51.517,
          51.043,
          50.538,
          49.425,
          49.927,
          49.514,
          48.924,
          48.302,
          47.861,
          47.394,
          46.901,
          46.13,
          44.557,
          45.036,
          45.061,
          45.44,
          37.811,
          37.364,
          36.429,
          36.036,
          43.767,
          43.608,
          43.217,
          42.807,
          41.9,
          41.893,
          41.895,
          39.356,
          39.453,
          41.635,
          41.55,
          42.892,
          42.815,
          42.83,
          42.844,
          42.692,
          40.15,
          42.444,
          42.275,
          41.956,
          41.403,
          40.995,
          40.33
         ],
         "yaxis": "y"
        },
        {
         "hovertemplate": "country=India<br>date=%{x}<br>Life Expectancy at Birth=%{y}<extra></extra>",
         "legendgroup": "India",
         "line": {
          "color": "#00cc96",
          "dash": "solid"
         },
         "marker": {
          "symbol": "circle"
         },
         "mode": "lines",
         "name": "India",
         "orientation": "v",
         "showlegend": true,
         "type": "scatter",
         "x": [
          "2022-01-01T00:00:00",
          "2021-01-01T00:00:00",
          "2020-01-01T00:00:00",
          "2019-01-01T00:00:00",
          "2018-01-01T00:00:00",
          "2017-01-01T00:00:00",
          "2016-01-01T00:00:00",
          "2015-01-01T00:00:00",
          "2014-01-01T00:00:00",
          "2013-01-01T00:00:00",
          "2012-01-01T00:00:00",
          "2011-01-01T00:00:00",
          "2010-01-01T00:00:00",
          "2009-01-01T00:00:00",
          "2008-01-01T00:00:00",
          "2007-01-01T00:00:00",
          "2006-01-01T00:00:00",
          "2005-01-01T00:00:00",
          "2004-01-01T00:00:00",
          "2003-01-01T00:00:00",
          "2002-01-01T00:00:00",
          "2001-01-01T00:00:00",
          "2000-01-01T00:00:00",
          "1999-01-01T00:00:00",
          "1998-01-01T00:00:00",
          "1997-01-01T00:00:00",
          "1996-01-01T00:00:00",
          "1995-01-01T00:00:00",
          "1994-01-01T00:00:00",
          "1993-01-01T00:00:00",
          "1992-01-01T00:00:00",
          "1991-01-01T00:00:00",
          "1990-01-01T00:00:00",
          "1989-01-01T00:00:00",
          "1988-01-01T00:00:00",
          "1987-01-01T00:00:00",
          "1986-01-01T00:00:00",
          "1985-01-01T00:00:00",
          "1984-01-01T00:00:00",
          "1983-01-01T00:00:00",
          "1982-01-01T00:00:00",
          "1981-01-01T00:00:00",
          "1980-01-01T00:00:00",
          "1979-01-01T00:00:00",
          "1978-01-01T00:00:00",
          "1977-01-01T00:00:00",
          "1976-01-01T00:00:00",
          "1975-01-01T00:00:00",
          "1974-01-01T00:00:00",
          "1973-01-01T00:00:00",
          "1972-01-01T00:00:00",
          "1971-01-01T00:00:00",
          "1970-01-01T00:00:00",
          "1969-01-01T00:00:00",
          "1968-01-01T00:00:00",
          "1967-01-01T00:00:00",
          "1966-01-01T00:00:00",
          "1965-01-01T00:00:00",
          "1964-01-01T00:00:00",
          "1963-01-01T00:00:00",
          "1962-01-01T00:00:00",
          "1961-01-01T00:00:00",
          "1960-01-01T00:00:00"
         ],
         "xaxis": "x",
         "y": [
          null,
          67.24,
          70.15,
          70.91,
          70.71,
          70.467,
          70.117,
          69.636,
          69.074,
          68.46,
          67.887,
          67.359,
          66.909,
          66.513,
          66.149,
          65.788,
          65.412,
          64.996,
          64.524,
          64.094,
          63.616,
          63.091,
          62.669,
          62.207,
          61.792,
          61.388,
          60.984,
          60.596,
          60.216,
          59.815,
          59.452,
          59.055,
          58.652,
          58.233,
          57.777,
          57.315,
          56.835,
          56.334,
          55.816,
          55.281,
          54.732,
          54.175,
          53.611,
          53.06,
          52.492,
          51.909,
          51.388,
          50.812,
          50.244,
          49.539,
          49.025,
          48.632,
          48.241,
          47.857,
          47.471,
          45.674,
          45.333,
          44.98,
          46.184,
          45.936,
          45.659,
          45.398,
          45.218
         ],
         "yaxis": "y"
        },
        {
         "hovertemplate": "country=United States<br>date=%{x}<br>Life Expectancy at Birth=%{y}<extra></extra>",
         "legendgroup": "United States",
         "line": {
          "color": "#ab63fa",
          "dash": "solid"
         },
         "marker": {
          "symbol": "circle"
         },
         "mode": "lines",
         "name": "United States",
         "orientation": "v",
         "showlegend": true,
         "type": "scatter",
         "x": [
          "2022-01-01T00:00:00",
          "2021-01-01T00:00:00",
          "2020-01-01T00:00:00",
          "2019-01-01T00:00:00",
          "2018-01-01T00:00:00",
          "2017-01-01T00:00:00",
          "2016-01-01T00:00:00",
          "2015-01-01T00:00:00",
          "2014-01-01T00:00:00",
          "2013-01-01T00:00:00",
          "2012-01-01T00:00:00",
          "2011-01-01T00:00:00",
          "2010-01-01T00:00:00",
          "2009-01-01T00:00:00",
          "2008-01-01T00:00:00",
          "2007-01-01T00:00:00",
          "2006-01-01T00:00:00",
          "2005-01-01T00:00:00",
          "2004-01-01T00:00:00",
          "2003-01-01T00:00:00",
          "2002-01-01T00:00:00",
          "2001-01-01T00:00:00",
          "2000-01-01T00:00:00",
          "1999-01-01T00:00:00",
          "1998-01-01T00:00:00",
          "1997-01-01T00:00:00",
          "1996-01-01T00:00:00",
          "1995-01-01T00:00:00",
          "1994-01-01T00:00:00",
          "1993-01-01T00:00:00",
          "1992-01-01T00:00:00",
          "1991-01-01T00:00:00",
          "1990-01-01T00:00:00",
          "1989-01-01T00:00:00",
          "1988-01-01T00:00:00",
          "1987-01-01T00:00:00",
          "1986-01-01T00:00:00",
          "1985-01-01T00:00:00",
          "1984-01-01T00:00:00",
          "1983-01-01T00:00:00",
          "1982-01-01T00:00:00",
          "1981-01-01T00:00:00",
          "1980-01-01T00:00:00",
          "1979-01-01T00:00:00",
          "1978-01-01T00:00:00",
          "1977-01-01T00:00:00",
          "1976-01-01T00:00:00",
          "1975-01-01T00:00:00",
          "1974-01-01T00:00:00",
          "1973-01-01T00:00:00",
          "1972-01-01T00:00:00",
          "1971-01-01T00:00:00",
          "1970-01-01T00:00:00",
          "1969-01-01T00:00:00",
          "1968-01-01T00:00:00",
          "1967-01-01T00:00:00",
          "1966-01-01T00:00:00",
          "1965-01-01T00:00:00",
          "1964-01-01T00:00:00",
          "1963-01-01T00:00:00",
          "1962-01-01T00:00:00",
          "1961-01-01T00:00:00",
          "1960-01-01T00:00:00"
         ],
         "xaxis": "x",
         "y": [
          null,
          76.3292682926829,
          76.9804878048781,
          78.7878048780488,
          78.6390243902439,
          78.5390243902439,
          78.5390243902439,
          78.690243902439,
          78.8414634146341,
          78.7414634146342,
          78.7414634146342,
          78.6414634146341,
          78.5414634146342,
          78.390243902439,
          78.0390243902439,
          77.9878048780488,
          77.6878048780488,
          77.4878048780488,
          77.4878048780488,
          77.0365853658537,
          76.9365853658537,
          76.8365853658537,
          76.6365853658537,
          76.5829268292683,
          76.5804878048781,
          76.4292682926829,
          76.0268292682927,
          75.6219512195122,
          75.619512195122,
          75.419512195122,
          75.6170731707317,
          75.3658536585366,
          75.2146341463415,
          75.0170731707317,
          74.7658536585366,
          74.7658536585366,
          74.6146341463415,
          74.5634146341464,
          74.5634146341464,
          74.4634146341463,
          74.3609756097561,
          74.009756097561,
          73.609756097561,
          73.8048780487805,
          73.3560975609756,
          73.2560975609756,
          72.8560975609756,
          72.6048780487805,
          71.9560975609756,
          71.3560975609756,
          71.1560975609756,
          71.1073170731707,
          70.8073170731707,
          70.5073170731708,
          69.9512195121951,
          70.5609756097561,
          70.2121951219512,
          70.2146341463415,
          70.1658536585366,
          69.9170731707317,
          70.119512195122,
          70.2707317073171,
          69.7707317073171
         ],
         "yaxis": "y"
        }
       ],
       "layout": {
        "legend": {
         "title": {
          "text": "country"
         },
         "tracegroupgap": 0
        },
        "template": {
         "data": {
          "bar": [
           {
            "error_x": {
             "color": "#2a3f5f"
            },
            "error_y": {
             "color": "#2a3f5f"
            },
            "marker": {
             "line": {
              "color": "#E5ECF6",
              "width": 0.5
             },
             "pattern": {
              "fillmode": "overlay",
              "size": 10,
              "solidity": 0.2
             }
            },
            "type": "bar"
           }
          ],
          "barpolar": [
           {
            "marker": {
             "line": {
              "color": "#E5ECF6",
              "width": 0.5
             },
             "pattern": {
              "fillmode": "overlay",
              "size": 10,
              "solidity": 0.2
             }
            },
            "type": "barpolar"
           }
          ],
          "carpet": [
           {
            "aaxis": {
             "endlinecolor": "#2a3f5f",
             "gridcolor": "white",
             "linecolor": "white",
             "minorgridcolor": "white",
             "startlinecolor": "#2a3f5f"
            },
            "baxis": {
             "endlinecolor": "#2a3f5f",
             "gridcolor": "white",
             "linecolor": "white",
             "minorgridcolor": "white",
             "startlinecolor": "#2a3f5f"
            },
            "type": "carpet"
           }
          ],
          "choropleth": [
           {
            "colorbar": {
             "outlinewidth": 0,
             "ticks": ""
            },
            "type": "choropleth"
           }
          ],
          "contour": [
           {
            "colorbar": {
             "outlinewidth": 0,
             "ticks": ""
            },
            "colorscale": [
             [
              0,
              "#0d0887"
             ],
             [
              0.1111111111111111,
              "#46039f"
             ],
             [
              0.2222222222222222,
              "#7201a8"
             ],
             [
              0.3333333333333333,
              "#9c179e"
             ],
             [
              0.4444444444444444,
              "#bd3786"
             ],
             [
              0.5555555555555556,
              "#d8576b"
             ],
             [
              0.6666666666666666,
              "#ed7953"
             ],
             [
              0.7777777777777778,
              "#fb9f3a"
             ],
             [
              0.8888888888888888,
              "#fdca26"
             ],
             [
              1,
              "#f0f921"
             ]
            ],
            "type": "contour"
           }
          ],
          "contourcarpet": [
           {
            "colorbar": {
             "outlinewidth": 0,
             "ticks": ""
            },
            "type": "contourcarpet"
           }
          ],
          "heatmap": [
           {
            "colorbar": {
             "outlinewidth": 0,
             "ticks": ""
            },
            "colorscale": [
             [
              0,
              "#0d0887"
             ],
             [
              0.1111111111111111,
              "#46039f"
             ],
             [
              0.2222222222222222,
              "#7201a8"
             ],
             [
              0.3333333333333333,
              "#9c179e"
             ],
             [
              0.4444444444444444,
              "#bd3786"
             ],
             [
              0.5555555555555556,
              "#d8576b"
             ],
             [
              0.6666666666666666,
              "#ed7953"
             ],
             [
              0.7777777777777778,
              "#fb9f3a"
             ],
             [
              0.8888888888888888,
              "#fdca26"
             ],
             [
              1,
              "#f0f921"
             ]
            ],
            "type": "heatmap"
           }
          ],
          "heatmapgl": [
           {
            "colorbar": {
             "outlinewidth": 0,
             "ticks": ""
            },
            "colorscale": [
             [
              0,
              "#0d0887"
             ],
             [
              0.1111111111111111,
              "#46039f"
             ],
             [
              0.2222222222222222,
              "#7201a8"
             ],
             [
              0.3333333333333333,
              "#9c179e"
             ],
             [
              0.4444444444444444,
              "#bd3786"
             ],
             [
              0.5555555555555556,
              "#d8576b"
             ],
             [
              0.6666666666666666,
              "#ed7953"
             ],
             [
              0.7777777777777778,
              "#fb9f3a"
             ],
             [
              0.8888888888888888,
              "#fdca26"
             ],
             [
              1,
              "#f0f921"
             ]
            ],
            "type": "heatmapgl"
           }
          ],
          "histogram": [
           {
            "marker": {
             "pattern": {
              "fillmode": "overlay",
              "size": 10,
              "solidity": 0.2
             }
            },
            "type": "histogram"
           }
          ],
          "histogram2d": [
           {
            "colorbar": {
             "outlinewidth": 0,
             "ticks": ""
            },
            "colorscale": [
             [
              0,
              "#0d0887"
             ],
             [
              0.1111111111111111,
              "#46039f"
             ],
             [
              0.2222222222222222,
              "#7201a8"
             ],
             [
              0.3333333333333333,
              "#9c179e"
             ],
             [
              0.4444444444444444,
              "#bd3786"
             ],
             [
              0.5555555555555556,
              "#d8576b"
             ],
             [
              0.6666666666666666,
              "#ed7953"
             ],
             [
              0.7777777777777778,
              "#fb9f3a"
             ],
             [
              0.8888888888888888,
              "#fdca26"
             ],
             [
              1,
              "#f0f921"
             ]
            ],
            "type": "histogram2d"
           }
          ],
          "histogram2dcontour": [
           {
            "colorbar": {
             "outlinewidth": 0,
             "ticks": ""
            },
            "colorscale": [
             [
              0,
              "#0d0887"
             ],
             [
              0.1111111111111111,
              "#46039f"
             ],
             [
              0.2222222222222222,
              "#7201a8"
             ],
             [
              0.3333333333333333,
              "#9c179e"
             ],
             [
              0.4444444444444444,
              "#bd3786"
             ],
             [
              0.5555555555555556,
              "#d8576b"
             ],
             [
              0.6666666666666666,
              "#ed7953"
             ],
             [
              0.7777777777777778,
              "#fb9f3a"
             ],
             [
              0.8888888888888888,
              "#fdca26"
             ],
             [
              1,
              "#f0f921"
             ]
            ],
            "type": "histogram2dcontour"
           }
          ],
          "mesh3d": [
           {
            "colorbar": {
             "outlinewidth": 0,
             "ticks": ""
            },
            "type": "mesh3d"
           }
          ],
          "parcoords": [
           {
            "line": {
             "colorbar": {
              "outlinewidth": 0,
              "ticks": ""
             }
            },
            "type": "parcoords"
           }
          ],
          "pie": [
           {
            "automargin": true,
            "type": "pie"
           }
          ],
          "scatter": [
           {
            "fillpattern": {
             "fillmode": "overlay",
             "size": 10,
             "solidity": 0.2
            },
            "type": "scatter"
           }
          ],
          "scatter3d": [
           {
            "line": {
             "colorbar": {
              "outlinewidth": 0,
              "ticks": ""
             }
            },
            "marker": {
             "colorbar": {
              "outlinewidth": 0,
              "ticks": ""
             }
            },
            "type": "scatter3d"
           }
          ],
          "scattercarpet": [
           {
            "marker": {
             "colorbar": {
              "outlinewidth": 0,
              "ticks": ""
             }
            },
            "type": "scattercarpet"
           }
          ],
          "scattergeo": [
           {
            "marker": {
             "colorbar": {
              "outlinewidth": 0,
              "ticks": ""
             }
            },
            "type": "scattergeo"
           }
          ],
          "scattergl": [
           {
            "marker": {
             "colorbar": {
              "outlinewidth": 0,
              "ticks": ""
             }
            },
            "type": "scattergl"
           }
          ],
          "scattermapbox": [
           {
            "marker": {
             "colorbar": {
              "outlinewidth": 0,
              "ticks": ""
             }
            },
            "type": "scattermapbox"
           }
          ],
          "scatterpolar": [
           {
            "marker": {
             "colorbar": {
              "outlinewidth": 0,
              "ticks": ""
             }
            },
            "type": "scatterpolar"
           }
          ],
          "scatterpolargl": [
           {
            "marker": {
             "colorbar": {
              "outlinewidth": 0,
              "ticks": ""
             }
            },
            "type": "scatterpolargl"
           }
          ],
          "scatterternary": [
           {
            "marker": {
             "colorbar": {
              "outlinewidth": 0,
              "ticks": ""
             }
            },
            "type": "scatterternary"
           }
          ],
          "surface": [
           {
            "colorbar": {
             "outlinewidth": 0,
             "ticks": ""
            },
            "colorscale": [
             [
              0,
              "#0d0887"
             ],
             [
              0.1111111111111111,
              "#46039f"
             ],
             [
              0.2222222222222222,
              "#7201a8"
             ],
             [
              0.3333333333333333,
              "#9c179e"
             ],
             [
              0.4444444444444444,
              "#bd3786"
             ],
             [
              0.5555555555555556,
              "#d8576b"
             ],
             [
              0.6666666666666666,
              "#ed7953"
             ],
             [
              0.7777777777777778,
              "#fb9f3a"
             ],
             [
              0.8888888888888888,
              "#fdca26"
             ],
             [
              1,
              "#f0f921"
             ]
            ],
            "type": "surface"
           }
          ],
          "table": [
           {
            "cells": {
             "fill": {
              "color": "#EBF0F8"
             },
             "line": {
              "color": "white"
             }
            },
            "header": {
             "fill": {
              "color": "#C8D4E3"
             },
             "line": {
              "color": "white"
             }
            },
            "type": "table"
           }
          ]
         },
         "layout": {
          "annotationdefaults": {
           "arrowcolor": "#2a3f5f",
           "arrowhead": 0,
           "arrowwidth": 1
          },
          "autotypenumbers": "strict",
          "coloraxis": {
           "colorbar": {
            "outlinewidth": 0,
            "ticks": ""
           }
          },
          "colorscale": {
           "diverging": [
            [
             0,
             "#8e0152"
            ],
            [
             0.1,
             "#c51b7d"
            ],
            [
             0.2,
             "#de77ae"
            ],
            [
             0.3,
             "#f1b6da"
            ],
            [
             0.4,
             "#fde0ef"
            ],
            [
             0.5,
             "#f7f7f7"
            ],
            [
             0.6,
             "#e6f5d0"
            ],
            [
             0.7,
             "#b8e186"
            ],
            [
             0.8,
             "#7fbc41"
            ],
            [
             0.9,
             "#4d9221"
            ],
            [
             1,
             "#276419"
            ]
           ],
           "sequential": [
            [
             0,
             "#0d0887"
            ],
            [
             0.1111111111111111,
             "#46039f"
            ],
            [
             0.2222222222222222,
             "#7201a8"
            ],
            [
             0.3333333333333333,
             "#9c179e"
            ],
            [
             0.4444444444444444,
             "#bd3786"
            ],
            [
             0.5555555555555556,
             "#d8576b"
            ],
            [
             0.6666666666666666,
             "#ed7953"
            ],
            [
             0.7777777777777778,
             "#fb9f3a"
            ],
            [
             0.8888888888888888,
             "#fdca26"
            ],
            [
             1,
             "#f0f921"
            ]
           ],
           "sequentialminus": [
            [
             0,
             "#0d0887"
            ],
            [
             0.1111111111111111,
             "#46039f"
            ],
            [
             0.2222222222222222,
             "#7201a8"
            ],
            [
             0.3333333333333333,
             "#9c179e"
            ],
            [
             0.4444444444444444,
             "#bd3786"
            ],
            [
             0.5555555555555556,
             "#d8576b"
            ],
            [
             0.6666666666666666,
             "#ed7953"
            ],
            [
             0.7777777777777778,
             "#fb9f3a"
            ],
            [
             0.8888888888888888,
             "#fdca26"
            ],
            [
             1,
             "#f0f921"
            ]
           ]
          },
          "colorway": [
           "#636efa",
           "#EF553B",
           "#00cc96",
           "#ab63fa",
           "#FFA15A",
           "#19d3f3",
           "#FF6692",
           "#B6E880",
           "#FF97FF",
           "#FECB52"
          ],
          "font": {
           "color": "#2a3f5f"
          },
          "geo": {
           "bgcolor": "white",
           "lakecolor": "white",
           "landcolor": "#E5ECF6",
           "showlakes": true,
           "showland": true,
           "subunitcolor": "white"
          },
          "hoverlabel": {
           "align": "left"
          },
          "hovermode": "closest",
          "mapbox": {
           "style": "light"
          },
          "paper_bgcolor": "white",
          "plot_bgcolor": "#E5ECF6",
          "polar": {
           "angularaxis": {
            "gridcolor": "white",
            "linecolor": "white",
            "ticks": ""
           },
           "bgcolor": "#E5ECF6",
           "radialaxis": {
            "gridcolor": "white",
            "linecolor": "white",
            "ticks": ""
           }
          },
          "scene": {
           "xaxis": {
            "backgroundcolor": "#E5ECF6",
            "gridcolor": "white",
            "gridwidth": 2,
            "linecolor": "white",
            "showbackground": true,
            "ticks": "",
            "zerolinecolor": "white"
           },
           "yaxis": {
            "backgroundcolor": "#E5ECF6",
            "gridcolor": "white",
            "gridwidth": 2,
            "linecolor": "white",
            "showbackground": true,
            "ticks": "",
            "zerolinecolor": "white"
           },
           "zaxis": {
            "backgroundcolor": "#E5ECF6",
            "gridcolor": "white",
            "gridwidth": 2,
            "linecolor": "white",
            "showbackground": true,
            "ticks": "",
            "zerolinecolor": "white"
           }
          },
          "shapedefaults": {
           "line": {
            "color": "#2a3f5f"
           }
          },
          "ternary": {
           "aaxis": {
            "gridcolor": "white",
            "linecolor": "white",
            "ticks": ""
           },
           "baxis": {
            "gridcolor": "white",
            "linecolor": "white",
            "ticks": ""
           },
           "bgcolor": "#E5ECF6",
           "caxis": {
            "gridcolor": "white",
            "linecolor": "white",
            "ticks": ""
           }
          },
          "title": {
           "x": 0.05
          },
          "xaxis": {
           "automargin": true,
           "gridcolor": "white",
           "linecolor": "white",
           "ticks": "",
           "title": {
            "standoff": 15
           },
           "zerolinecolor": "white",
           "zerolinewidth": 2
          },
          "yaxis": {
           "automargin": true,
           "gridcolor": "white",
           "linecolor": "white",
           "ticks": "",
           "title": {
            "standoff": 15
           },
           "zerolinecolor": "white",
           "zerolinewidth": 2
          }
         }
        },
        "title": {
         "text": "Life Expectancy at Birth"
        },
        "xaxis": {
         "anchor": "y",
         "domain": [
          0,
          1
         ],
         "title": {
          "text": "date"
         }
        },
        "yaxis": {
         "anchor": "x",
         "domain": [
          0,
          1
         ],
         "title": {
          "text": "Life Expectancy at Birth"
         }
        }
       }
      }
     },
     "metadata": {},
     "output_type": "display_data"
    },
    {
     "data": {
      "application/vnd.plotly.v1+json": {
       "config": {
        "plotlyServerURL": "https://plot.ly"
       },
       "data": [
        {
         "hovertemplate": "country=Argentina<br>date=%{x}<br>Child Mortality=%{y}<extra></extra>",
         "legendgroup": "Argentina",
         "line": {
          "color": "#636efa",
          "dash": "solid"
         },
         "marker": {
          "symbol": "circle"
         },
         "mode": "lines",
         "name": "Argentina",
         "orientation": "v",
         "showlegend": true,
         "type": "scatter",
         "x": [
          "2022-01-01T00:00:00",
          "2021-01-01T00:00:00",
          "2020-01-01T00:00:00",
          "2019-01-01T00:00:00",
          "2018-01-01T00:00:00",
          "2017-01-01T00:00:00",
          "2016-01-01T00:00:00",
          "2015-01-01T00:00:00",
          "2014-01-01T00:00:00",
          "2013-01-01T00:00:00",
          "2012-01-01T00:00:00",
          "2011-01-01T00:00:00",
          "2010-01-01T00:00:00",
          "2009-01-01T00:00:00",
          "2008-01-01T00:00:00",
          "2007-01-01T00:00:00",
          "2006-01-01T00:00:00",
          "2005-01-01T00:00:00",
          "2004-01-01T00:00:00",
          "2003-01-01T00:00:00",
          "2002-01-01T00:00:00",
          "2001-01-01T00:00:00",
          "2000-01-01T00:00:00",
          "1999-01-01T00:00:00",
          "1998-01-01T00:00:00",
          "1997-01-01T00:00:00",
          "1996-01-01T00:00:00",
          "1995-01-01T00:00:00",
          "1994-01-01T00:00:00",
          "1993-01-01T00:00:00",
          "1992-01-01T00:00:00",
          "1991-01-01T00:00:00",
          "1990-01-01T00:00:00",
          "1989-01-01T00:00:00",
          "1988-01-01T00:00:00",
          "1987-01-01T00:00:00",
          "1986-01-01T00:00:00",
          "1985-01-01T00:00:00",
          "1984-01-01T00:00:00",
          "1983-01-01T00:00:00",
          "1982-01-01T00:00:00",
          "1981-01-01T00:00:00",
          "1980-01-01T00:00:00",
          "1979-01-01T00:00:00",
          "1978-01-01T00:00:00",
          "1977-01-01T00:00:00",
          "1976-01-01T00:00:00",
          "1975-01-01T00:00:00",
          "1974-01-01T00:00:00",
          "1973-01-01T00:00:00",
          "1972-01-01T00:00:00",
          "1971-01-01T00:00:00",
          "1970-01-01T00:00:00",
          "1969-01-01T00:00:00",
          "1968-01-01T00:00:00",
          "1967-01-01T00:00:00",
          "1966-01-01T00:00:00",
          "1965-01-01T00:00:00",
          "1964-01-01T00:00:00",
          "1963-01-01T00:00:00",
          "1962-01-01T00:00:00",
          "1961-01-01T00:00:00",
          "1960-01-01T00:00:00"
         ],
         "xaxis": "x",
         "y": [
          null,
          6.9,
          7.7,
          8.6,
          9.5,
          10.3,
          11,
          11.6,
          12.2,
          12.7,
          13.3,
          13.9,
          14.5,
          15,
          15.4,
          15.7,
          16.1,
          16.6,
          17.1,
          17.7,
          18.3,
          19,
          19.7,
          20.4,
          21.3,
          22.2,
          23.2,
          24.3,
          25.4,
          26.5,
          27.6,
          28.3,
          28.8,
          28.9,
          29,
          29.1,
          29.6,
          30.6,
          32.1,
          34.1,
          36.5,
          39.4,
          42.9,
          46.8,
          51.2,
          55.7,
          59.9,
          63.4,
          66.2,
          68.2,
          69.7,
          70.9,
          71.7,
          72.4,
          null,
          null,
          null,
          null,
          null,
          null,
          null,
          null,
          null
         ],
         "yaxis": "y"
        },
        {
         "hovertemplate": "country=Ethiopia<br>date=%{x}<br>Child Mortality=%{y}<extra></extra>",
         "legendgroup": "Ethiopia",
         "line": {
          "color": "#EF553B",
          "dash": "solid"
         },
         "marker": {
          "symbol": "circle"
         },
         "mode": "lines",
         "name": "Ethiopia",
         "orientation": "v",
         "showlegend": true,
         "type": "scatter",
         "x": [
          "2022-01-01T00:00:00",
          "2021-01-01T00:00:00",
          "2020-01-01T00:00:00",
          "2019-01-01T00:00:00",
          "2018-01-01T00:00:00",
          "2017-01-01T00:00:00",
          "2016-01-01T00:00:00",
          "2015-01-01T00:00:00",
          "2014-01-01T00:00:00",
          "2013-01-01T00:00:00",
          "2012-01-01T00:00:00",
          "2011-01-01T00:00:00",
          "2010-01-01T00:00:00",
          "2009-01-01T00:00:00",
          "2008-01-01T00:00:00",
          "2007-01-01T00:00:00",
          "2006-01-01T00:00:00",
          "2005-01-01T00:00:00",
          "2004-01-01T00:00:00",
          "2003-01-01T00:00:00",
          "2002-01-01T00:00:00",
          "2001-01-01T00:00:00",
          "2000-01-01T00:00:00",
          "1999-01-01T00:00:00",
          "1998-01-01T00:00:00",
          "1997-01-01T00:00:00",
          "1996-01-01T00:00:00",
          "1995-01-01T00:00:00",
          "1994-01-01T00:00:00",
          "1993-01-01T00:00:00",
          "1992-01-01T00:00:00",
          "1991-01-01T00:00:00",
          "1990-01-01T00:00:00",
          "1989-01-01T00:00:00",
          "1988-01-01T00:00:00",
          "1987-01-01T00:00:00",
          "1986-01-01T00:00:00",
          "1985-01-01T00:00:00",
          "1984-01-01T00:00:00",
          "1983-01-01T00:00:00",
          "1982-01-01T00:00:00",
          "1981-01-01T00:00:00",
          "1980-01-01T00:00:00",
          "1979-01-01T00:00:00",
          "1978-01-01T00:00:00",
          "1977-01-01T00:00:00",
          "1976-01-01T00:00:00",
          "1975-01-01T00:00:00",
          "1974-01-01T00:00:00",
          "1973-01-01T00:00:00",
          "1972-01-01T00:00:00",
          "1971-01-01T00:00:00",
          "1970-01-01T00:00:00",
          "1969-01-01T00:00:00",
          "1968-01-01T00:00:00",
          "1967-01-01T00:00:00",
          "1966-01-01T00:00:00",
          "1965-01-01T00:00:00",
          "1964-01-01T00:00:00",
          "1963-01-01T00:00:00",
          "1962-01-01T00:00:00",
          "1961-01-01T00:00:00",
          "1960-01-01T00:00:00"
         ],
         "xaxis": "x",
         "y": [
          null,
          46.8,
          48.7,
          50.9,
          53.2,
          56,
          59,
          62.4,
          65.9,
          69.6,
          73.6,
          77.7,
          82.1,
          86.7,
          91.7,
          97.1,
          102.8,
          108.9,
          115.3,
          121.7,
          128.1,
          134.4,
          140.5,
          146.5,
          152.4,
          158.5,
          164.9,
          171.4,
          178.1,
          184.6,
          190.6,
          195.9,
          200.8,
          205.2,
          209.4,
          213.3,
          217.4,
          221.6,
          225.8,
          229.8,
          233.6,
          236.8,
          239.4,
          241.4,
          242.5,
          243.2,
          243.8,
          244.2,
          244.8,
          245.2,
          245.5,
          246,
          246.3,
          246.7,
          246.7,
          247.2,
          247.9,
          null,
          null,
          null,
          null,
          null,
          null
         ],
         "yaxis": "y"
        },
        {
         "hovertemplate": "country=India<br>date=%{x}<br>Child Mortality=%{y}<extra></extra>",
         "legendgroup": "India",
         "line": {
          "color": "#00cc96",
          "dash": "solid"
         },
         "marker": {
          "symbol": "circle"
         },
         "mode": "lines",
         "name": "India",
         "orientation": "v",
         "showlegend": true,
         "type": "scatter",
         "x": [
          "2022-01-01T00:00:00",
          "2021-01-01T00:00:00",
          "2020-01-01T00:00:00",
          "2019-01-01T00:00:00",
          "2018-01-01T00:00:00",
          "2017-01-01T00:00:00",
          "2016-01-01T00:00:00",
          "2015-01-01T00:00:00",
          "2014-01-01T00:00:00",
          "2013-01-01T00:00:00",
          "2012-01-01T00:00:00",
          "2011-01-01T00:00:00",
          "2010-01-01T00:00:00",
          "2009-01-01T00:00:00",
          "2008-01-01T00:00:00",
          "2007-01-01T00:00:00",
          "2006-01-01T00:00:00",
          "2005-01-01T00:00:00",
          "2004-01-01T00:00:00",
          "2003-01-01T00:00:00",
          "2002-01-01T00:00:00",
          "2001-01-01T00:00:00",
          "2000-01-01T00:00:00",
          "1999-01-01T00:00:00",
          "1998-01-01T00:00:00",
          "1997-01-01T00:00:00",
          "1996-01-01T00:00:00",
          "1995-01-01T00:00:00",
          "1994-01-01T00:00:00",
          "1993-01-01T00:00:00",
          "1992-01-01T00:00:00",
          "1991-01-01T00:00:00",
          "1990-01-01T00:00:00",
          "1989-01-01T00:00:00",
          "1988-01-01T00:00:00",
          "1987-01-01T00:00:00",
          "1986-01-01T00:00:00",
          "1985-01-01T00:00:00",
          "1984-01-01T00:00:00",
          "1983-01-01T00:00:00",
          "1982-01-01T00:00:00",
          "1981-01-01T00:00:00",
          "1980-01-01T00:00:00",
          "1979-01-01T00:00:00",
          "1978-01-01T00:00:00",
          "1977-01-01T00:00:00",
          "1976-01-01T00:00:00",
          "1975-01-01T00:00:00",
          "1974-01-01T00:00:00",
          "1973-01-01T00:00:00",
          "1972-01-01T00:00:00",
          "1971-01-01T00:00:00",
          "1970-01-01T00:00:00",
          "1969-01-01T00:00:00",
          "1968-01-01T00:00:00",
          "1967-01-01T00:00:00",
          "1966-01-01T00:00:00",
          "1965-01-01T00:00:00",
          "1964-01-01T00:00:00",
          "1963-01-01T00:00:00",
          "1962-01-01T00:00:00",
          "1961-01-01T00:00:00",
          "1960-01-01T00:00:00"
         ],
         "xaxis": "x",
         "y": [
          null,
          30.6,
          32.4,
          34.3,
          36.4,
          38.7,
          41,
          43.6,
          46.2,
          49.1,
          52,
          55,
          58.1,
          61.3,
          64.5,
          67.8,
          71.1,
          74.4,
          77.7,
          81.1,
          84.5,
          88,
          91.6,
          95.3,
          98.9,
          102.5,
          106,
          109.4,
          112.8,
          116.2,
          119.5,
          122.9,
          126.5,
          130.3,
          134.2,
          138.2,
          142.2,
          146.2,
          150.3,
          154.5,
          159,
          163.8,
          169,
          174.5,
          180.1,
          185.6,
          190.9,
          195.9,
          200.3,
          204.4,
          208.1,
          211.4,
          214.5,
          217.5,
          220.2,
          222.7,
          225.3,
          227.8,
          230.4,
          233.2,
          236.1,
          239.3,
          242.8
         ],
         "yaxis": "y"
        },
        {
         "hovertemplate": "country=United States<br>date=%{x}<br>Child Mortality=%{y}<extra></extra>",
         "legendgroup": "United States",
         "line": {
          "color": "#ab63fa",
          "dash": "solid"
         },
         "marker": {
          "symbol": "circle"
         },
         "mode": "lines",
         "name": "United States",
         "orientation": "v",
         "showlegend": true,
         "type": "scatter",
         "x": [
          "2022-01-01T00:00:00",
          "2021-01-01T00:00:00",
          "2020-01-01T00:00:00",
          "2019-01-01T00:00:00",
          "2018-01-01T00:00:00",
          "2017-01-01T00:00:00",
          "2016-01-01T00:00:00",
          "2015-01-01T00:00:00",
          "2014-01-01T00:00:00",
          "2013-01-01T00:00:00",
          "2012-01-01T00:00:00",
          "2011-01-01T00:00:00",
          "2010-01-01T00:00:00",
          "2009-01-01T00:00:00",
          "2008-01-01T00:00:00",
          "2007-01-01T00:00:00",
          "2006-01-01T00:00:00",
          "2005-01-01T00:00:00",
          "2004-01-01T00:00:00",
          "2003-01-01T00:00:00",
          "2002-01-01T00:00:00",
          "2001-01-01T00:00:00",
          "2000-01-01T00:00:00",
          "1999-01-01T00:00:00",
          "1998-01-01T00:00:00",
          "1997-01-01T00:00:00",
          "1996-01-01T00:00:00",
          "1995-01-01T00:00:00",
          "1994-01-01T00:00:00",
          "1993-01-01T00:00:00",
          "1992-01-01T00:00:00",
          "1991-01-01T00:00:00",
          "1990-01-01T00:00:00",
          "1989-01-01T00:00:00",
          "1988-01-01T00:00:00",
          "1987-01-01T00:00:00",
          "1986-01-01T00:00:00",
          "1985-01-01T00:00:00",
          "1984-01-01T00:00:00",
          "1983-01-01T00:00:00",
          "1982-01-01T00:00:00",
          "1981-01-01T00:00:00",
          "1980-01-01T00:00:00",
          "1979-01-01T00:00:00",
          "1978-01-01T00:00:00",
          "1977-01-01T00:00:00",
          "1976-01-01T00:00:00",
          "1975-01-01T00:00:00",
          "1974-01-01T00:00:00",
          "1973-01-01T00:00:00",
          "1972-01-01T00:00:00",
          "1971-01-01T00:00:00",
          "1970-01-01T00:00:00",
          "1969-01-01T00:00:00",
          "1968-01-01T00:00:00",
          "1967-01-01T00:00:00",
          "1966-01-01T00:00:00",
          "1965-01-01T00:00:00",
          "1964-01-01T00:00:00",
          "1963-01-01T00:00:00",
          "1962-01-01T00:00:00",
          "1961-01-01T00:00:00",
          "1960-01-01T00:00:00"
         ],
         "xaxis": "x",
         "y": [
          null,
          6.2,
          6.3,
          6.4,
          6.5,
          6.6,
          6.7,
          6.8,
          6.9,
          7,
          7.1,
          7.2,
          7.3,
          7.5,
          7.6,
          7.7,
          7.9,
          8,
          8.1,
          8.1,
          8.2,
          8.3,
          8.4,
          8.6,
          8.8,
          8.9,
          9.2,
          9.5,
          9.8,
          10.1,
          10.5,
          10.9,
          11.2,
          11.6,
          11.9,
          12.1,
          12.4,
          12.7,
          13,
          13.4,
          13.9,
          14.4,
          15,
          15.6,
          16.3,
          17.1,
          17.9,
          18.8,
          19.7,
          20.6,
          21.5,
          22.4,
          23.2,
          24.1,
          24.9,
          25.7,
          26.4,
          27.1,
          27.7,
          28.3,
          28.9,
          29.5,
          30.1
         ],
         "yaxis": "y"
        }
       ],
       "layout": {
        "legend": {
         "title": {
          "text": "country"
         },
         "tracegroupgap": 0
        },
        "template": {
         "data": {
          "bar": [
           {
            "error_x": {
             "color": "#2a3f5f"
            },
            "error_y": {
             "color": "#2a3f5f"
            },
            "marker": {
             "line": {
              "color": "#E5ECF6",
              "width": 0.5
             },
             "pattern": {
              "fillmode": "overlay",
              "size": 10,
              "solidity": 0.2
             }
            },
            "type": "bar"
           }
          ],
          "barpolar": [
           {
            "marker": {
             "line": {
              "color": "#E5ECF6",
              "width": 0.5
             },
             "pattern": {
              "fillmode": "overlay",
              "size": 10,
              "solidity": 0.2
             }
            },
            "type": "barpolar"
           }
          ],
          "carpet": [
           {
            "aaxis": {
             "endlinecolor": "#2a3f5f",
             "gridcolor": "white",
             "linecolor": "white",
             "minorgridcolor": "white",
             "startlinecolor": "#2a3f5f"
            },
            "baxis": {
             "endlinecolor": "#2a3f5f",
             "gridcolor": "white",
             "linecolor": "white",
             "minorgridcolor": "white",
             "startlinecolor": "#2a3f5f"
            },
            "type": "carpet"
           }
          ],
          "choropleth": [
           {
            "colorbar": {
             "outlinewidth": 0,
             "ticks": ""
            },
            "type": "choropleth"
           }
          ],
          "contour": [
           {
            "colorbar": {
             "outlinewidth": 0,
             "ticks": ""
            },
            "colorscale": [
             [
              0,
              "#0d0887"
             ],
             [
              0.1111111111111111,
              "#46039f"
             ],
             [
              0.2222222222222222,
              "#7201a8"
             ],
             [
              0.3333333333333333,
              "#9c179e"
             ],
             [
              0.4444444444444444,
              "#bd3786"
             ],
             [
              0.5555555555555556,
              "#d8576b"
             ],
             [
              0.6666666666666666,
              "#ed7953"
             ],
             [
              0.7777777777777778,
              "#fb9f3a"
             ],
             [
              0.8888888888888888,
              "#fdca26"
             ],
             [
              1,
              "#f0f921"
             ]
            ],
            "type": "contour"
           }
          ],
          "contourcarpet": [
           {
            "colorbar": {
             "outlinewidth": 0,
             "ticks": ""
            },
            "type": "contourcarpet"
           }
          ],
          "heatmap": [
           {
            "colorbar": {
             "outlinewidth": 0,
             "ticks": ""
            },
            "colorscale": [
             [
              0,
              "#0d0887"
             ],
             [
              0.1111111111111111,
              "#46039f"
             ],
             [
              0.2222222222222222,
              "#7201a8"
             ],
             [
              0.3333333333333333,
              "#9c179e"
             ],
             [
              0.4444444444444444,
              "#bd3786"
             ],
             [
              0.5555555555555556,
              "#d8576b"
             ],
             [
              0.6666666666666666,
              "#ed7953"
             ],
             [
              0.7777777777777778,
              "#fb9f3a"
             ],
             [
              0.8888888888888888,
              "#fdca26"
             ],
             [
              1,
              "#f0f921"
             ]
            ],
            "type": "heatmap"
           }
          ],
          "heatmapgl": [
           {
            "colorbar": {
             "outlinewidth": 0,
             "ticks": ""
            },
            "colorscale": [
             [
              0,
              "#0d0887"
             ],
             [
              0.1111111111111111,
              "#46039f"
             ],
             [
              0.2222222222222222,
              "#7201a8"
             ],
             [
              0.3333333333333333,
              "#9c179e"
             ],
             [
              0.4444444444444444,
              "#bd3786"
             ],
             [
              0.5555555555555556,
              "#d8576b"
             ],
             [
              0.6666666666666666,
              "#ed7953"
             ],
             [
              0.7777777777777778,
              "#fb9f3a"
             ],
             [
              0.8888888888888888,
              "#fdca26"
             ],
             [
              1,
              "#f0f921"
             ]
            ],
            "type": "heatmapgl"
           }
          ],
          "histogram": [
           {
            "marker": {
             "pattern": {
              "fillmode": "overlay",
              "size": 10,
              "solidity": 0.2
             }
            },
            "type": "histogram"
           }
          ],
          "histogram2d": [
           {
            "colorbar": {
             "outlinewidth": 0,
             "ticks": ""
            },
            "colorscale": [
             [
              0,
              "#0d0887"
             ],
             [
              0.1111111111111111,
              "#46039f"
             ],
             [
              0.2222222222222222,
              "#7201a8"
             ],
             [
              0.3333333333333333,
              "#9c179e"
             ],
             [
              0.4444444444444444,
              "#bd3786"
             ],
             [
              0.5555555555555556,
              "#d8576b"
             ],
             [
              0.6666666666666666,
              "#ed7953"
             ],
             [
              0.7777777777777778,
              "#fb9f3a"
             ],
             [
              0.8888888888888888,
              "#fdca26"
             ],
             [
              1,
              "#f0f921"
             ]
            ],
            "type": "histogram2d"
           }
          ],
          "histogram2dcontour": [
           {
            "colorbar": {
             "outlinewidth": 0,
             "ticks": ""
            },
            "colorscale": [
             [
              0,
              "#0d0887"
             ],
             [
              0.1111111111111111,
              "#46039f"
             ],
             [
              0.2222222222222222,
              "#7201a8"
             ],
             [
              0.3333333333333333,
              "#9c179e"
             ],
             [
              0.4444444444444444,
              "#bd3786"
             ],
             [
              0.5555555555555556,
              "#d8576b"
             ],
             [
              0.6666666666666666,
              "#ed7953"
             ],
             [
              0.7777777777777778,
              "#fb9f3a"
             ],
             [
              0.8888888888888888,
              "#fdca26"
             ],
             [
              1,
              "#f0f921"
             ]
            ],
            "type": "histogram2dcontour"
           }
          ],
          "mesh3d": [
           {
            "colorbar": {
             "outlinewidth": 0,
             "ticks": ""
            },
            "type": "mesh3d"
           }
          ],
          "parcoords": [
           {
            "line": {
             "colorbar": {
              "outlinewidth": 0,
              "ticks": ""
             }
            },
            "type": "parcoords"
           }
          ],
          "pie": [
           {
            "automargin": true,
            "type": "pie"
           }
          ],
          "scatter": [
           {
            "fillpattern": {
             "fillmode": "overlay",
             "size": 10,
             "solidity": 0.2
            },
            "type": "scatter"
           }
          ],
          "scatter3d": [
           {
            "line": {
             "colorbar": {
              "outlinewidth": 0,
              "ticks": ""
             }
            },
            "marker": {
             "colorbar": {
              "outlinewidth": 0,
              "ticks": ""
             }
            },
            "type": "scatter3d"
           }
          ],
          "scattercarpet": [
           {
            "marker": {
             "colorbar": {
              "outlinewidth": 0,
              "ticks": ""
             }
            },
            "type": "scattercarpet"
           }
          ],
          "scattergeo": [
           {
            "marker": {
             "colorbar": {
              "outlinewidth": 0,
              "ticks": ""
             }
            },
            "type": "scattergeo"
           }
          ],
          "scattergl": [
           {
            "marker": {
             "colorbar": {
              "outlinewidth": 0,
              "ticks": ""
             }
            },
            "type": "scattergl"
           }
          ],
          "scattermapbox": [
           {
            "marker": {
             "colorbar": {
              "outlinewidth": 0,
              "ticks": ""
             }
            },
            "type": "scattermapbox"
           }
          ],
          "scatterpolar": [
           {
            "marker": {
             "colorbar": {
              "outlinewidth": 0,
              "ticks": ""
             }
            },
            "type": "scatterpolar"
           }
          ],
          "scatterpolargl": [
           {
            "marker": {
             "colorbar": {
              "outlinewidth": 0,
              "ticks": ""
             }
            },
            "type": "scatterpolargl"
           }
          ],
          "scatterternary": [
           {
            "marker": {
             "colorbar": {
              "outlinewidth": 0,
              "ticks": ""
             }
            },
            "type": "scatterternary"
           }
          ],
          "surface": [
           {
            "colorbar": {
             "outlinewidth": 0,
             "ticks": ""
            },
            "colorscale": [
             [
              0,
              "#0d0887"
             ],
             [
              0.1111111111111111,
              "#46039f"
             ],
             [
              0.2222222222222222,
              "#7201a8"
             ],
             [
              0.3333333333333333,
              "#9c179e"
             ],
             [
              0.4444444444444444,
              "#bd3786"
             ],
             [
              0.5555555555555556,
              "#d8576b"
             ],
             [
              0.6666666666666666,
              "#ed7953"
             ],
             [
              0.7777777777777778,
              "#fb9f3a"
             ],
             [
              0.8888888888888888,
              "#fdca26"
             ],
             [
              1,
              "#f0f921"
             ]
            ],
            "type": "surface"
           }
          ],
          "table": [
           {
            "cells": {
             "fill": {
              "color": "#EBF0F8"
             },
             "line": {
              "color": "white"
             }
            },
            "header": {
             "fill": {
              "color": "#C8D4E3"
             },
             "line": {
              "color": "white"
             }
            },
            "type": "table"
           }
          ]
         },
         "layout": {
          "annotationdefaults": {
           "arrowcolor": "#2a3f5f",
           "arrowhead": 0,
           "arrowwidth": 1
          },
          "autotypenumbers": "strict",
          "coloraxis": {
           "colorbar": {
            "outlinewidth": 0,
            "ticks": ""
           }
          },
          "colorscale": {
           "diverging": [
            [
             0,
             "#8e0152"
            ],
            [
             0.1,
             "#c51b7d"
            ],
            [
             0.2,
             "#de77ae"
            ],
            [
             0.3,
             "#f1b6da"
            ],
            [
             0.4,
             "#fde0ef"
            ],
            [
             0.5,
             "#f7f7f7"
            ],
            [
             0.6,
             "#e6f5d0"
            ],
            [
             0.7,
             "#b8e186"
            ],
            [
             0.8,
             "#7fbc41"
            ],
            [
             0.9,
             "#4d9221"
            ],
            [
             1,
             "#276419"
            ]
           ],
           "sequential": [
            [
             0,
             "#0d0887"
            ],
            [
             0.1111111111111111,
             "#46039f"
            ],
            [
             0.2222222222222222,
             "#7201a8"
            ],
            [
             0.3333333333333333,
             "#9c179e"
            ],
            [
             0.4444444444444444,
             "#bd3786"
            ],
            [
             0.5555555555555556,
             "#d8576b"
            ],
            [
             0.6666666666666666,
             "#ed7953"
            ],
            [
             0.7777777777777778,
             "#fb9f3a"
            ],
            [
             0.8888888888888888,
             "#fdca26"
            ],
            [
             1,
             "#f0f921"
            ]
           ],
           "sequentialminus": [
            [
             0,
             "#0d0887"
            ],
            [
             0.1111111111111111,
             "#46039f"
            ],
            [
             0.2222222222222222,
             "#7201a8"
            ],
            [
             0.3333333333333333,
             "#9c179e"
            ],
            [
             0.4444444444444444,
             "#bd3786"
            ],
            [
             0.5555555555555556,
             "#d8576b"
            ],
            [
             0.6666666666666666,
             "#ed7953"
            ],
            [
             0.7777777777777778,
             "#fb9f3a"
            ],
            [
             0.8888888888888888,
             "#fdca26"
            ],
            [
             1,
             "#f0f921"
            ]
           ]
          },
          "colorway": [
           "#636efa",
           "#EF553B",
           "#00cc96",
           "#ab63fa",
           "#FFA15A",
           "#19d3f3",
           "#FF6692",
           "#B6E880",
           "#FF97FF",
           "#FECB52"
          ],
          "font": {
           "color": "#2a3f5f"
          },
          "geo": {
           "bgcolor": "white",
           "lakecolor": "white",
           "landcolor": "#E5ECF6",
           "showlakes": true,
           "showland": true,
           "subunitcolor": "white"
          },
          "hoverlabel": {
           "align": "left"
          },
          "hovermode": "closest",
          "mapbox": {
           "style": "light"
          },
          "paper_bgcolor": "white",
          "plot_bgcolor": "#E5ECF6",
          "polar": {
           "angularaxis": {
            "gridcolor": "white",
            "linecolor": "white",
            "ticks": ""
           },
           "bgcolor": "#E5ECF6",
           "radialaxis": {
            "gridcolor": "white",
            "linecolor": "white",
            "ticks": ""
           }
          },
          "scene": {
           "xaxis": {
            "backgroundcolor": "#E5ECF6",
            "gridcolor": "white",
            "gridwidth": 2,
            "linecolor": "white",
            "showbackground": true,
            "ticks": "",
            "zerolinecolor": "white"
           },
           "yaxis": {
            "backgroundcolor": "#E5ECF6",
            "gridcolor": "white",
            "gridwidth": 2,
            "linecolor": "white",
            "showbackground": true,
            "ticks": "",
            "zerolinecolor": "white"
           },
           "zaxis": {
            "backgroundcolor": "#E5ECF6",
            "gridcolor": "white",
            "gridwidth": 2,
            "linecolor": "white",
            "showbackground": true,
            "ticks": "",
            "zerolinecolor": "white"
           }
          },
          "shapedefaults": {
           "line": {
            "color": "#2a3f5f"
           }
          },
          "ternary": {
           "aaxis": {
            "gridcolor": "white",
            "linecolor": "white",
            "ticks": ""
           },
           "baxis": {
            "gridcolor": "white",
            "linecolor": "white",
            "ticks": ""
           },
           "bgcolor": "#E5ECF6",
           "caxis": {
            "gridcolor": "white",
            "linecolor": "white",
            "ticks": ""
           }
          },
          "title": {
           "x": 0.05
          },
          "xaxis": {
           "automargin": true,
           "gridcolor": "white",
           "linecolor": "white",
           "ticks": "",
           "title": {
            "standoff": 15
           },
           "zerolinecolor": "white",
           "zerolinewidth": 2
          },
          "yaxis": {
           "automargin": true,
           "gridcolor": "white",
           "linecolor": "white",
           "ticks": "",
           "title": {
            "standoff": 15
           },
           "zerolinecolor": "white",
           "zerolinewidth": 2
          }
         }
        },
        "title": {
         "text": "Child Mortality"
        },
        "xaxis": {
         "anchor": "y",
         "domain": [
          0,
          1
         ],
         "title": {
          "text": "date"
         }
        },
        "yaxis": {
         "anchor": "x",
         "domain": [
          0,
          1
         ],
         "title": {
          "text": "Child Mortality"
         }
        }
       }
      }
     },
     "metadata": {},
     "output_type": "display_data"
    },
    {
     "data": {
      "application/vnd.plotly.v1+json": {
       "config": {
        "plotlyServerURL": "https://plot.ly"
       },
       "data": [
        {
         "hovertemplate": "country=Argentina<br>date=%{x}<br>Maternal Mortality Rate=%{y}<extra></extra>",
         "legendgroup": "Argentina",
         "line": {
          "color": "#636efa",
          "dash": "solid"
         },
         "marker": {
          "symbol": "circle"
         },
         "mode": "lines",
         "name": "Argentina",
         "orientation": "v",
         "showlegend": true,
         "type": "scatter",
         "x": [
          "2022-01-01T00:00:00",
          "2021-01-01T00:00:00",
          "2020-01-01T00:00:00",
          "2019-01-01T00:00:00",
          "2018-01-01T00:00:00",
          "2017-01-01T00:00:00",
          "2016-01-01T00:00:00",
          "2015-01-01T00:00:00",
          "2014-01-01T00:00:00",
          "2013-01-01T00:00:00",
          "2012-01-01T00:00:00",
          "2011-01-01T00:00:00",
          "2010-01-01T00:00:00",
          "2009-01-01T00:00:00",
          "2008-01-01T00:00:00",
          "2007-01-01T00:00:00",
          "2006-01-01T00:00:00",
          "2005-01-01T00:00:00",
          "2004-01-01T00:00:00",
          "2003-01-01T00:00:00",
          "2002-01-01T00:00:00",
          "2001-01-01T00:00:00",
          "2000-01-01T00:00:00",
          "1999-01-01T00:00:00",
          "1998-01-01T00:00:00",
          "1997-01-01T00:00:00",
          "1996-01-01T00:00:00",
          "1995-01-01T00:00:00",
          "1994-01-01T00:00:00",
          "1993-01-01T00:00:00",
          "1992-01-01T00:00:00",
          "1991-01-01T00:00:00",
          "1990-01-01T00:00:00",
          "1989-01-01T00:00:00",
          "1988-01-01T00:00:00",
          "1987-01-01T00:00:00",
          "1986-01-01T00:00:00",
          "1985-01-01T00:00:00",
          "1984-01-01T00:00:00",
          "1983-01-01T00:00:00",
          "1982-01-01T00:00:00",
          "1981-01-01T00:00:00",
          "1980-01-01T00:00:00",
          "1979-01-01T00:00:00",
          "1978-01-01T00:00:00",
          "1977-01-01T00:00:00",
          "1976-01-01T00:00:00",
          "1975-01-01T00:00:00",
          "1974-01-01T00:00:00",
          "1973-01-01T00:00:00",
          "1972-01-01T00:00:00",
          "1971-01-01T00:00:00",
          "1970-01-01T00:00:00",
          "1969-01-01T00:00:00",
          "1968-01-01T00:00:00",
          "1967-01-01T00:00:00",
          "1966-01-01T00:00:00",
          "1965-01-01T00:00:00",
          "1964-01-01T00:00:00",
          "1963-01-01T00:00:00",
          "1962-01-01T00:00:00",
          "1961-01-01T00:00:00",
          "1960-01-01T00:00:00"
         ],
         "xaxis": "x",
         "y": [
          null,
          null,
          45,
          33,
          34,
          38,
          40,
          39,
          42,
          43,
          45,
          50,
          55,
          57,
          59,
          63,
          61,
          63,
          73,
          79,
          71,
          72,
          72,
          null,
          null,
          null,
          null,
          null,
          null,
          null,
          null,
          null,
          null,
          null,
          null,
          null,
          null,
          null,
          null,
          null,
          null,
          null,
          null,
          null,
          null,
          null,
          null,
          null,
          null,
          null,
          null,
          null,
          null,
          null,
          null,
          null,
          null,
          null,
          null,
          null,
          null,
          null,
          null
         ],
         "yaxis": "y"
        },
        {
         "hovertemplate": "country=Ethiopia<br>date=%{x}<br>Maternal Mortality Rate=%{y}<extra></extra>",
         "legendgroup": "Ethiopia",
         "line": {
          "color": "#EF553B",
          "dash": "solid"
         },
         "marker": {
          "symbol": "circle"
         },
         "mode": "lines",
         "name": "Ethiopia",
         "orientation": "v",
         "showlegend": true,
         "type": "scatter",
         "x": [
          "2022-01-01T00:00:00",
          "2021-01-01T00:00:00",
          "2020-01-01T00:00:00",
          "2019-01-01T00:00:00",
          "2018-01-01T00:00:00",
          "2017-01-01T00:00:00",
          "2016-01-01T00:00:00",
          "2015-01-01T00:00:00",
          "2014-01-01T00:00:00",
          "2013-01-01T00:00:00",
          "2012-01-01T00:00:00",
          "2011-01-01T00:00:00",
          "2010-01-01T00:00:00",
          "2009-01-01T00:00:00",
          "2008-01-01T00:00:00",
          "2007-01-01T00:00:00",
          "2006-01-01T00:00:00",
          "2005-01-01T00:00:00",
          "2004-01-01T00:00:00",
          "2003-01-01T00:00:00",
          "2002-01-01T00:00:00",
          "2001-01-01T00:00:00",
          "2000-01-01T00:00:00",
          "1999-01-01T00:00:00",
          "1998-01-01T00:00:00",
          "1997-01-01T00:00:00",
          "1996-01-01T00:00:00",
          "1995-01-01T00:00:00",
          "1994-01-01T00:00:00",
          "1993-01-01T00:00:00",
          "1992-01-01T00:00:00",
          "1991-01-01T00:00:00",
          "1990-01-01T00:00:00",
          "1989-01-01T00:00:00",
          "1988-01-01T00:00:00",
          "1987-01-01T00:00:00",
          "1986-01-01T00:00:00",
          "1985-01-01T00:00:00",
          "1984-01-01T00:00:00",
          "1983-01-01T00:00:00",
          "1982-01-01T00:00:00",
          "1981-01-01T00:00:00",
          "1980-01-01T00:00:00",
          "1979-01-01T00:00:00",
          "1978-01-01T00:00:00",
          "1977-01-01T00:00:00",
          "1976-01-01T00:00:00",
          "1975-01-01T00:00:00",
          "1974-01-01T00:00:00",
          "1973-01-01T00:00:00",
          "1972-01-01T00:00:00",
          "1971-01-01T00:00:00",
          "1970-01-01T00:00:00",
          "1969-01-01T00:00:00",
          "1968-01-01T00:00:00",
          "1967-01-01T00:00:00",
          "1966-01-01T00:00:00",
          "1965-01-01T00:00:00",
          "1964-01-01T00:00:00",
          "1963-01-01T00:00:00",
          "1962-01-01T00:00:00",
          "1961-01-01T00:00:00",
          "1960-01-01T00:00:00"
         ],
         "xaxis": "x",
         "y": [
          null,
          null,
          267,
          294,
          312,
          348,
          356,
          399,
          447,
          498,
          543,
          603,
          635,
          684,
          725,
          780,
          814,
          880,
          900,
          906,
          960,
          955,
          953,
          null,
          null,
          null,
          null,
          null,
          null,
          null,
          null,
          null,
          null,
          null,
          null,
          null,
          null,
          null,
          null,
          null,
          null,
          null,
          null,
          null,
          null,
          null,
          null,
          null,
          null,
          null,
          null,
          null,
          null,
          null,
          null,
          null,
          null,
          null,
          null,
          null,
          null,
          null,
          null
         ],
         "yaxis": "y"
        },
        {
         "hovertemplate": "country=India<br>date=%{x}<br>Maternal Mortality Rate=%{y}<extra></extra>",
         "legendgroup": "India",
         "line": {
          "color": "#00cc96",
          "dash": "solid"
         },
         "marker": {
          "symbol": "circle"
         },
         "mode": "lines",
         "name": "India",
         "orientation": "v",
         "showlegend": true,
         "type": "scatter",
         "x": [
          "2022-01-01T00:00:00",
          "2021-01-01T00:00:00",
          "2020-01-01T00:00:00",
          "2019-01-01T00:00:00",
          "2018-01-01T00:00:00",
          "2017-01-01T00:00:00",
          "2016-01-01T00:00:00",
          "2015-01-01T00:00:00",
          "2014-01-01T00:00:00",
          "2013-01-01T00:00:00",
          "2012-01-01T00:00:00",
          "2011-01-01T00:00:00",
          "2010-01-01T00:00:00",
          "2009-01-01T00:00:00",
          "2008-01-01T00:00:00",
          "2007-01-01T00:00:00",
          "2006-01-01T00:00:00",
          "2005-01-01T00:00:00",
          "2004-01-01T00:00:00",
          "2003-01-01T00:00:00",
          "2002-01-01T00:00:00",
          "2001-01-01T00:00:00",
          "2000-01-01T00:00:00",
          "1999-01-01T00:00:00",
          "1998-01-01T00:00:00",
          "1997-01-01T00:00:00",
          "1996-01-01T00:00:00",
          "1995-01-01T00:00:00",
          "1994-01-01T00:00:00",
          "1993-01-01T00:00:00",
          "1992-01-01T00:00:00",
          "1991-01-01T00:00:00",
          "1990-01-01T00:00:00",
          "1989-01-01T00:00:00",
          "1988-01-01T00:00:00",
          "1987-01-01T00:00:00",
          "1986-01-01T00:00:00",
          "1985-01-01T00:00:00",
          "1984-01-01T00:00:00",
          "1983-01-01T00:00:00",
          "1982-01-01T00:00:00",
          "1981-01-01T00:00:00",
          "1980-01-01T00:00:00",
          "1979-01-01T00:00:00",
          "1978-01-01T00:00:00",
          "1977-01-01T00:00:00",
          "1976-01-01T00:00:00",
          "1975-01-01T00:00:00",
          "1974-01-01T00:00:00",
          "1973-01-01T00:00:00",
          "1972-01-01T00:00:00",
          "1971-01-01T00:00:00",
          "1970-01-01T00:00:00",
          "1969-01-01T00:00:00",
          "1968-01-01T00:00:00",
          "1967-01-01T00:00:00",
          "1966-01-01T00:00:00",
          "1965-01-01T00:00:00",
          "1964-01-01T00:00:00",
          "1963-01-01T00:00:00",
          "1962-01-01T00:00:00",
          "1961-01-01T00:00:00",
          "1960-01-01T00:00:00"
         ],
         "xaxis": "x",
         "y": [
          null,
          null,
          103,
          116,
          116,
          119,
          121,
          128,
          135,
          154,
          162,
          170,
          179,
          207,
          221,
          234,
          248,
          286,
          301,
          315,
          329,
          371,
          384,
          null,
          null,
          null,
          null,
          null,
          null,
          null,
          null,
          null,
          null,
          null,
          null,
          null,
          null,
          null,
          null,
          null,
          null,
          null,
          null,
          null,
          null,
          null,
          null,
          null,
          null,
          null,
          null,
          null,
          null,
          null,
          null,
          null,
          null,
          null,
          null,
          null,
          null,
          null,
          null
         ],
         "yaxis": "y"
        },
        {
         "hovertemplate": "country=United States<br>date=%{x}<br>Maternal Mortality Rate=%{y}<extra></extra>",
         "legendgroup": "United States",
         "line": {
          "color": "#ab63fa",
          "dash": "solid"
         },
         "marker": {
          "symbol": "circle"
         },
         "mode": "lines",
         "name": "United States",
         "orientation": "v",
         "showlegend": true,
         "type": "scatter",
         "x": [
          "2022-01-01T00:00:00",
          "2021-01-01T00:00:00",
          "2020-01-01T00:00:00",
          "2019-01-01T00:00:00",
          "2018-01-01T00:00:00",
          "2017-01-01T00:00:00",
          "2016-01-01T00:00:00",
          "2015-01-01T00:00:00",
          "2014-01-01T00:00:00",
          "2013-01-01T00:00:00",
          "2012-01-01T00:00:00",
          "2011-01-01T00:00:00",
          "2010-01-01T00:00:00",
          "2009-01-01T00:00:00",
          "2008-01-01T00:00:00",
          "2007-01-01T00:00:00",
          "2006-01-01T00:00:00",
          "2005-01-01T00:00:00",
          "2004-01-01T00:00:00",
          "2003-01-01T00:00:00",
          "2002-01-01T00:00:00",
          "2001-01-01T00:00:00",
          "2000-01-01T00:00:00",
          "1999-01-01T00:00:00",
          "1998-01-01T00:00:00",
          "1997-01-01T00:00:00",
          "1996-01-01T00:00:00",
          "1995-01-01T00:00:00",
          "1994-01-01T00:00:00",
          "1993-01-01T00:00:00",
          "1992-01-01T00:00:00",
          "1991-01-01T00:00:00",
          "1990-01-01T00:00:00",
          "1989-01-01T00:00:00",
          "1988-01-01T00:00:00",
          "1987-01-01T00:00:00",
          "1986-01-01T00:00:00",
          "1985-01-01T00:00:00",
          "1984-01-01T00:00:00",
          "1983-01-01T00:00:00",
          "1982-01-01T00:00:00",
          "1981-01-01T00:00:00",
          "1980-01-01T00:00:00",
          "1979-01-01T00:00:00",
          "1978-01-01T00:00:00",
          "1977-01-01T00:00:00",
          "1976-01-01T00:00:00",
          "1975-01-01T00:00:00",
          "1974-01-01T00:00:00",
          "1973-01-01T00:00:00",
          "1972-01-01T00:00:00",
          "1971-01-01T00:00:00",
          "1970-01-01T00:00:00",
          "1969-01-01T00:00:00",
          "1968-01-01T00:00:00",
          "1967-01-01T00:00:00",
          "1966-01-01T00:00:00",
          "1965-01-01T00:00:00",
          "1964-01-01T00:00:00",
          "1963-01-01T00:00:00",
          "1962-01-01T00:00:00",
          "1961-01-01T00:00:00",
          "1960-01-01T00:00:00"
         ],
         "xaxis": "x",
         "y": [
          null,
          null,
          21,
          20,
          19,
          19,
          18,
          17,
          17,
          16,
          16,
          15,
          14,
          15,
          14,
          13,
          13,
          13,
          13,
          13,
          13,
          13,
          12,
          null,
          null,
          null,
          null,
          null,
          null,
          null,
          null,
          null,
          null,
          null,
          null,
          null,
          null,
          null,
          null,
          null,
          null,
          null,
          null,
          null,
          null,
          null,
          null,
          null,
          null,
          null,
          null,
          null,
          null,
          null,
          null,
          null,
          null,
          null,
          null,
          null,
          null,
          null,
          null
         ],
         "yaxis": "y"
        }
       ],
       "layout": {
        "legend": {
         "title": {
          "text": "country"
         },
         "tracegroupgap": 0
        },
        "template": {
         "data": {
          "bar": [
           {
            "error_x": {
             "color": "#2a3f5f"
            },
            "error_y": {
             "color": "#2a3f5f"
            },
            "marker": {
             "line": {
              "color": "#E5ECF6",
              "width": 0.5
             },
             "pattern": {
              "fillmode": "overlay",
              "size": 10,
              "solidity": 0.2
             }
            },
            "type": "bar"
           }
          ],
          "barpolar": [
           {
            "marker": {
             "line": {
              "color": "#E5ECF6",
              "width": 0.5
             },
             "pattern": {
              "fillmode": "overlay",
              "size": 10,
              "solidity": 0.2
             }
            },
            "type": "barpolar"
           }
          ],
          "carpet": [
           {
            "aaxis": {
             "endlinecolor": "#2a3f5f",
             "gridcolor": "white",
             "linecolor": "white",
             "minorgridcolor": "white",
             "startlinecolor": "#2a3f5f"
            },
            "baxis": {
             "endlinecolor": "#2a3f5f",
             "gridcolor": "white",
             "linecolor": "white",
             "minorgridcolor": "white",
             "startlinecolor": "#2a3f5f"
            },
            "type": "carpet"
           }
          ],
          "choropleth": [
           {
            "colorbar": {
             "outlinewidth": 0,
             "ticks": ""
            },
            "type": "choropleth"
           }
          ],
          "contour": [
           {
            "colorbar": {
             "outlinewidth": 0,
             "ticks": ""
            },
            "colorscale": [
             [
              0,
              "#0d0887"
             ],
             [
              0.1111111111111111,
              "#46039f"
             ],
             [
              0.2222222222222222,
              "#7201a8"
             ],
             [
              0.3333333333333333,
              "#9c179e"
             ],
             [
              0.4444444444444444,
              "#bd3786"
             ],
             [
              0.5555555555555556,
              "#d8576b"
             ],
             [
              0.6666666666666666,
              "#ed7953"
             ],
             [
              0.7777777777777778,
              "#fb9f3a"
             ],
             [
              0.8888888888888888,
              "#fdca26"
             ],
             [
              1,
              "#f0f921"
             ]
            ],
            "type": "contour"
           }
          ],
          "contourcarpet": [
           {
            "colorbar": {
             "outlinewidth": 0,
             "ticks": ""
            },
            "type": "contourcarpet"
           }
          ],
          "heatmap": [
           {
            "colorbar": {
             "outlinewidth": 0,
             "ticks": ""
            },
            "colorscale": [
             [
              0,
              "#0d0887"
             ],
             [
              0.1111111111111111,
              "#46039f"
             ],
             [
              0.2222222222222222,
              "#7201a8"
             ],
             [
              0.3333333333333333,
              "#9c179e"
             ],
             [
              0.4444444444444444,
              "#bd3786"
             ],
             [
              0.5555555555555556,
              "#d8576b"
             ],
             [
              0.6666666666666666,
              "#ed7953"
             ],
             [
              0.7777777777777778,
              "#fb9f3a"
             ],
             [
              0.8888888888888888,
              "#fdca26"
             ],
             [
              1,
              "#f0f921"
             ]
            ],
            "type": "heatmap"
           }
          ],
          "heatmapgl": [
           {
            "colorbar": {
             "outlinewidth": 0,
             "ticks": ""
            },
            "colorscale": [
             [
              0,
              "#0d0887"
             ],
             [
              0.1111111111111111,
              "#46039f"
             ],
             [
              0.2222222222222222,
              "#7201a8"
             ],
             [
              0.3333333333333333,
              "#9c179e"
             ],
             [
              0.4444444444444444,
              "#bd3786"
             ],
             [
              0.5555555555555556,
              "#d8576b"
             ],
             [
              0.6666666666666666,
              "#ed7953"
             ],
             [
              0.7777777777777778,
              "#fb9f3a"
             ],
             [
              0.8888888888888888,
              "#fdca26"
             ],
             [
              1,
              "#f0f921"
             ]
            ],
            "type": "heatmapgl"
           }
          ],
          "histogram": [
           {
            "marker": {
             "pattern": {
              "fillmode": "overlay",
              "size": 10,
              "solidity": 0.2
             }
            },
            "type": "histogram"
           }
          ],
          "histogram2d": [
           {
            "colorbar": {
             "outlinewidth": 0,
             "ticks": ""
            },
            "colorscale": [
             [
              0,
              "#0d0887"
             ],
             [
              0.1111111111111111,
              "#46039f"
             ],
             [
              0.2222222222222222,
              "#7201a8"
             ],
             [
              0.3333333333333333,
              "#9c179e"
             ],
             [
              0.4444444444444444,
              "#bd3786"
             ],
             [
              0.5555555555555556,
              "#d8576b"
             ],
             [
              0.6666666666666666,
              "#ed7953"
             ],
             [
              0.7777777777777778,
              "#fb9f3a"
             ],
             [
              0.8888888888888888,
              "#fdca26"
             ],
             [
              1,
              "#f0f921"
             ]
            ],
            "type": "histogram2d"
           }
          ],
          "histogram2dcontour": [
           {
            "colorbar": {
             "outlinewidth": 0,
             "ticks": ""
            },
            "colorscale": [
             [
              0,
              "#0d0887"
             ],
             [
              0.1111111111111111,
              "#46039f"
             ],
             [
              0.2222222222222222,
              "#7201a8"
             ],
             [
              0.3333333333333333,
              "#9c179e"
             ],
             [
              0.4444444444444444,
              "#bd3786"
             ],
             [
              0.5555555555555556,
              "#d8576b"
             ],
             [
              0.6666666666666666,
              "#ed7953"
             ],
             [
              0.7777777777777778,
              "#fb9f3a"
             ],
             [
              0.8888888888888888,
              "#fdca26"
             ],
             [
              1,
              "#f0f921"
             ]
            ],
            "type": "histogram2dcontour"
           }
          ],
          "mesh3d": [
           {
            "colorbar": {
             "outlinewidth": 0,
             "ticks": ""
            },
            "type": "mesh3d"
           }
          ],
          "parcoords": [
           {
            "line": {
             "colorbar": {
              "outlinewidth": 0,
              "ticks": ""
             }
            },
            "type": "parcoords"
           }
          ],
          "pie": [
           {
            "automargin": true,
            "type": "pie"
           }
          ],
          "scatter": [
           {
            "fillpattern": {
             "fillmode": "overlay",
             "size": 10,
             "solidity": 0.2
            },
            "type": "scatter"
           }
          ],
          "scatter3d": [
           {
            "line": {
             "colorbar": {
              "outlinewidth": 0,
              "ticks": ""
             }
            },
            "marker": {
             "colorbar": {
              "outlinewidth": 0,
              "ticks": ""
             }
            },
            "type": "scatter3d"
           }
          ],
          "scattercarpet": [
           {
            "marker": {
             "colorbar": {
              "outlinewidth": 0,
              "ticks": ""
             }
            },
            "type": "scattercarpet"
           }
          ],
          "scattergeo": [
           {
            "marker": {
             "colorbar": {
              "outlinewidth": 0,
              "ticks": ""
             }
            },
            "type": "scattergeo"
           }
          ],
          "scattergl": [
           {
            "marker": {
             "colorbar": {
              "outlinewidth": 0,
              "ticks": ""
             }
            },
            "type": "scattergl"
           }
          ],
          "scattermapbox": [
           {
            "marker": {
             "colorbar": {
              "outlinewidth": 0,
              "ticks": ""
             }
            },
            "type": "scattermapbox"
           }
          ],
          "scatterpolar": [
           {
            "marker": {
             "colorbar": {
              "outlinewidth": 0,
              "ticks": ""
             }
            },
            "type": "scatterpolar"
           }
          ],
          "scatterpolargl": [
           {
            "marker": {
             "colorbar": {
              "outlinewidth": 0,
              "ticks": ""
             }
            },
            "type": "scatterpolargl"
           }
          ],
          "scatterternary": [
           {
            "marker": {
             "colorbar": {
              "outlinewidth": 0,
              "ticks": ""
             }
            },
            "type": "scatterternary"
           }
          ],
          "surface": [
           {
            "colorbar": {
             "outlinewidth": 0,
             "ticks": ""
            },
            "colorscale": [
             [
              0,
              "#0d0887"
             ],
             [
              0.1111111111111111,
              "#46039f"
             ],
             [
              0.2222222222222222,
              "#7201a8"
             ],
             [
              0.3333333333333333,
              "#9c179e"
             ],
             [
              0.4444444444444444,
              "#bd3786"
             ],
             [
              0.5555555555555556,
              "#d8576b"
             ],
             [
              0.6666666666666666,
              "#ed7953"
             ],
             [
              0.7777777777777778,
              "#fb9f3a"
             ],
             [
              0.8888888888888888,
              "#fdca26"
             ],
             [
              1,
              "#f0f921"
             ]
            ],
            "type": "surface"
           }
          ],
          "table": [
           {
            "cells": {
             "fill": {
              "color": "#EBF0F8"
             },
             "line": {
              "color": "white"
             }
            },
            "header": {
             "fill": {
              "color": "#C8D4E3"
             },
             "line": {
              "color": "white"
             }
            },
            "type": "table"
           }
          ]
         },
         "layout": {
          "annotationdefaults": {
           "arrowcolor": "#2a3f5f",
           "arrowhead": 0,
           "arrowwidth": 1
          },
          "autotypenumbers": "strict",
          "coloraxis": {
           "colorbar": {
            "outlinewidth": 0,
            "ticks": ""
           }
          },
          "colorscale": {
           "diverging": [
            [
             0,
             "#8e0152"
            ],
            [
             0.1,
             "#c51b7d"
            ],
            [
             0.2,
             "#de77ae"
            ],
            [
             0.3,
             "#f1b6da"
            ],
            [
             0.4,
             "#fde0ef"
            ],
            [
             0.5,
             "#f7f7f7"
            ],
            [
             0.6,
             "#e6f5d0"
            ],
            [
             0.7,
             "#b8e186"
            ],
            [
             0.8,
             "#7fbc41"
            ],
            [
             0.9,
             "#4d9221"
            ],
            [
             1,
             "#276419"
            ]
           ],
           "sequential": [
            [
             0,
             "#0d0887"
            ],
            [
             0.1111111111111111,
             "#46039f"
            ],
            [
             0.2222222222222222,
             "#7201a8"
            ],
            [
             0.3333333333333333,
             "#9c179e"
            ],
            [
             0.4444444444444444,
             "#bd3786"
            ],
            [
             0.5555555555555556,
             "#d8576b"
            ],
            [
             0.6666666666666666,
             "#ed7953"
            ],
            [
             0.7777777777777778,
             "#fb9f3a"
            ],
            [
             0.8888888888888888,
             "#fdca26"
            ],
            [
             1,
             "#f0f921"
            ]
           ],
           "sequentialminus": [
            [
             0,
             "#0d0887"
            ],
            [
             0.1111111111111111,
             "#46039f"
            ],
            [
             0.2222222222222222,
             "#7201a8"
            ],
            [
             0.3333333333333333,
             "#9c179e"
            ],
            [
             0.4444444444444444,
             "#bd3786"
            ],
            [
             0.5555555555555556,
             "#d8576b"
            ],
            [
             0.6666666666666666,
             "#ed7953"
            ],
            [
             0.7777777777777778,
             "#fb9f3a"
            ],
            [
             0.8888888888888888,
             "#fdca26"
            ],
            [
             1,
             "#f0f921"
            ]
           ]
          },
          "colorway": [
           "#636efa",
           "#EF553B",
           "#00cc96",
           "#ab63fa",
           "#FFA15A",
           "#19d3f3",
           "#FF6692",
           "#B6E880",
           "#FF97FF",
           "#FECB52"
          ],
          "font": {
           "color": "#2a3f5f"
          },
          "geo": {
           "bgcolor": "white",
           "lakecolor": "white",
           "landcolor": "#E5ECF6",
           "showlakes": true,
           "showland": true,
           "subunitcolor": "white"
          },
          "hoverlabel": {
           "align": "left"
          },
          "hovermode": "closest",
          "mapbox": {
           "style": "light"
          },
          "paper_bgcolor": "white",
          "plot_bgcolor": "#E5ECF6",
          "polar": {
           "angularaxis": {
            "gridcolor": "white",
            "linecolor": "white",
            "ticks": ""
           },
           "bgcolor": "#E5ECF6",
           "radialaxis": {
            "gridcolor": "white",
            "linecolor": "white",
            "ticks": ""
           }
          },
          "scene": {
           "xaxis": {
            "backgroundcolor": "#E5ECF6",
            "gridcolor": "white",
            "gridwidth": 2,
            "linecolor": "white",
            "showbackground": true,
            "ticks": "",
            "zerolinecolor": "white"
           },
           "yaxis": {
            "backgroundcolor": "#E5ECF6",
            "gridcolor": "white",
            "gridwidth": 2,
            "linecolor": "white",
            "showbackground": true,
            "ticks": "",
            "zerolinecolor": "white"
           },
           "zaxis": {
            "backgroundcolor": "#E5ECF6",
            "gridcolor": "white",
            "gridwidth": 2,
            "linecolor": "white",
            "showbackground": true,
            "ticks": "",
            "zerolinecolor": "white"
           }
          },
          "shapedefaults": {
           "line": {
            "color": "#2a3f5f"
           }
          },
          "ternary": {
           "aaxis": {
            "gridcolor": "white",
            "linecolor": "white",
            "ticks": ""
           },
           "baxis": {
            "gridcolor": "white",
            "linecolor": "white",
            "ticks": ""
           },
           "bgcolor": "#E5ECF6",
           "caxis": {
            "gridcolor": "white",
            "linecolor": "white",
            "ticks": ""
           }
          },
          "title": {
           "x": 0.05
          },
          "xaxis": {
           "automargin": true,
           "gridcolor": "white",
           "linecolor": "white",
           "ticks": "",
           "title": {
            "standoff": 15
           },
           "zerolinecolor": "white",
           "zerolinewidth": 2
          },
          "yaxis": {
           "automargin": true,
           "gridcolor": "white",
           "linecolor": "white",
           "ticks": "",
           "title": {
            "standoff": 15
           },
           "zerolinecolor": "white",
           "zerolinewidth": 2
          }
         }
        },
        "title": {
         "text": "Maternal Mortality Rate"
        },
        "xaxis": {
         "anchor": "y",
         "domain": [
          0,
          1
         ],
         "title": {
          "text": "date"
         }
        },
        "yaxis": {
         "anchor": "x",
         "domain": [
          0,
          1
         ],
         "title": {
          "text": "Maternal Mortality Rate"
         }
        }
       }
      }
     },
     "metadata": {},
     "output_type": "display_data"
    }
   ],
   "source": [
    "#GDP per capita\n",
    "fig1 = px.line(df_gdp, x = 'date', y = 'gdppc', color = 'country', title = 'GDP per Capita')\n",
    "\n",
    "#Health expenditure as a percentae of GDP\n",
    "fig2 = px.line(df_health, x = 'date', y = 'Health Expenditure as a Percentage of GDP', color = 'country', title = 'Health Expenditure as a Percentage of GDP')\n",
    "\n",
    "#Immunization\n",
    "fig3 = px.line(df_health, x = 'date', y = 'Immunization', color = 'country', title = 'Immunization')\n",
    "\n",
    "#Life Expectancy at Birth\n",
    "fig4 = px.line(df_life_exp, x = 'date', y = 'Life Expectancy at Birth', color = 'country', title = 'Life Expectancy at Birth')\n",
    "\n",
    "#Child Mortality\n",
    "fig5 = px.line(df_life_exp, x = 'date', y = 'Child Mortality', color = 'country', title = 'Child Mortality')\n",
    "\n",
    "# Maternal Mortality Rate\n",
    "fig6 = px.line(df_immuni_childmortality, x = 'date', y = 'Maternal Mortality Rate', color = 'country', title = 'Maternal Mortality Rate')\n",
    "\n",
    "fig1.show()\n",
    "fig2.show()\n",
    "fig3.show()\n",
    "fig4.show()\n",
    "fig5.show()\n",
    "fig6.show()"
   ]
  },
  {
   "cell_type": "markdown",
   "metadata": {},
   "source": [
    "### Plots of all indicators starting in 2000 unitl 2020"
   ]
  },
  {
   "cell_type": "code",
   "execution_count": 42,
   "metadata": {},
   "outputs": [
    {
     "data": {
      "application/vnd.plotly.v1+json": {
       "config": {
        "plotlyServerURL": "https://plot.ly"
       },
       "data": [
        {
         "hovertemplate": "country=Argentina<br>date=%{x}<br>gdppc=%{y}<extra></extra>",
         "legendgroup": "Argentina",
         "line": {
          "color": "#636efa",
          "dash": "solid"
         },
         "marker": {
          "symbol": "circle"
         },
         "mode": "lines",
         "name": "Argentina",
         "orientation": "v",
         "showlegend": true,
         "type": "scatter",
         "x": [
          "2020-01-01T00:00:00",
          "2019-01-01T00:00:00",
          "2018-01-01T00:00:00",
          "2017-01-01T00:00:00",
          "2016-01-01T00:00:00",
          "2015-01-01T00:00:00",
          "2014-01-01T00:00:00",
          "2013-01-01T00:00:00",
          "2012-01-01T00:00:00",
          "2011-01-01T00:00:00",
          "2010-01-01T00:00:00",
          "2009-01-01T00:00:00",
          "2008-01-01T00:00:00",
          "2007-01-01T00:00:00",
          "2006-01-01T00:00:00",
          "2005-01-01T00:00:00",
          "2004-01-01T00:00:00",
          "2003-01-01T00:00:00",
          "2002-01-01T00:00:00",
          "2001-01-01T00:00:00",
          "2000-01-01T00:00:00"
         ],
         "xaxis": "x",
         "y": [
          8496.428156755,
          9963.67423069626,
          11795.1628852236,
          14613.035714704,
          12790.2640639201,
          13789.060424772,
          12334.7982453893,
          13080.2547323367,
          13082.664325572,
          12848.7404762598,
          10385.9644319555,
          8184.38988923991,
          8977.50685093365,
          7210.59554755899,
          5890.97800169795,
          5086.62776073134,
          4258.16026060875,
          3333.15290388997,
          2579.48876933284,
          7168.97587232911,
          7666.51783423783
         ],
         "yaxis": "y"
        },
        {
         "hovertemplate": "country=Ethiopia<br>date=%{x}<br>gdppc=%{y}<extra></extra>",
         "legendgroup": "Ethiopia",
         "line": {
          "color": "#EF553B",
          "dash": "solid"
         },
         "marker": {
          "symbol": "circle"
         },
         "mode": "lines",
         "name": "Ethiopia",
         "orientation": "v",
         "showlegend": true,
         "type": "scatter",
         "x": [
          "2020-01-01T00:00:00",
          "2019-01-01T00:00:00",
          "2018-01-01T00:00:00",
          "2017-01-01T00:00:00",
          "2016-01-01T00:00:00",
          "2015-01-01T00:00:00",
          "2014-01-01T00:00:00",
          "2013-01-01T00:00:00",
          "2012-01-01T00:00:00",
          "2011-01-01T00:00:00",
          "2010-01-01T00:00:00",
          "2009-01-01T00:00:00",
          "2008-01-01T00:00:00",
          "2007-01-01T00:00:00",
          "2006-01-01T00:00:00",
          "2005-01-01T00:00:00",
          "2004-01-01T00:00:00",
          "2003-01-01T00:00:00",
          "2002-01-01T00:00:00",
          "2001-01-01T00:00:00",
          "2000-01-01T00:00:00"
         ],
         "xaxis": "x",
         "y": [
          918.652594077418,
          840.449603427131,
          758.297690230677,
          755.752645114994,
          705.617512258288,
          630.312627132481,
          557.534148360438,
          490.792474148698,
          458.550920793057,
          348.001348291465,
          335.438495270931,
          373.893958712145,
          320.861089711683,
          240.347971955032,
          191.75129245508,
          160.076791772058,
          134.542486332684,
          117.860164733528,
          110.460874721483,
          119.261857260772,
          122.961664711668
         ],
         "yaxis": "y"
        },
        {
         "hovertemplate": "country=India<br>date=%{x}<br>gdppc=%{y}<extra></extra>",
         "legendgroup": "India",
         "line": {
          "color": "#00cc96",
          "dash": "solid"
         },
         "marker": {
          "symbol": "circle"
         },
         "mode": "lines",
         "name": "India",
         "orientation": "v",
         "showlegend": true,
         "type": "scatter",
         "x": [
          "2020-01-01T00:00:00",
          "2019-01-01T00:00:00",
          "2018-01-01T00:00:00",
          "2017-01-01T00:00:00",
          "2016-01-01T00:00:00",
          "2015-01-01T00:00:00",
          "2014-01-01T00:00:00",
          "2013-01-01T00:00:00",
          "2012-01-01T00:00:00",
          "2011-01-01T00:00:00",
          "2010-01-01T00:00:00",
          "2009-01-01T00:00:00",
          "2008-01-01T00:00:00",
          "2007-01-01T00:00:00",
          "2006-01-01T00:00:00",
          "2005-01-01T00:00:00",
          "2004-01-01T00:00:00",
          "2003-01-01T00:00:00",
          "2002-01-01T00:00:00",
          "2001-01-01T00:00:00",
          "2000-01-01T00:00:00"
         ],
         "xaxis": "x",
         "y": [
          1913.21972103493,
          2050.16378973235,
          1974.37773014516,
          1957.96981368095,
          1714.2795405846,
          1590.17432166504,
          1559.86377161811,
          1438.05699513067,
          1434.01797842656,
          1449.60330101065,
          1350.63445681517,
          1096.63613605864,
          993.503412459599,
          1022.73247550475,
          802.01374204738,
          710.509344850714,
          624.105094371897,
          543.843798893951,
          468.84442830518,
          449.911124933268,
          442.034778917695
         ],
         "yaxis": "y"
        },
        {
         "hovertemplate": "country=United States<br>date=%{x}<br>gdppc=%{y}<extra></extra>",
         "legendgroup": "United States",
         "line": {
          "color": "#ab63fa",
          "dash": "solid"
         },
         "marker": {
          "symbol": "circle"
         },
         "mode": "lines",
         "name": "United States",
         "orientation": "v",
         "showlegend": true,
         "type": "scatter",
         "x": [
          "2020-01-01T00:00:00",
          "2019-01-01T00:00:00",
          "2018-01-01T00:00:00",
          "2017-01-01T00:00:00",
          "2016-01-01T00:00:00",
          "2015-01-01T00:00:00",
          "2014-01-01T00:00:00",
          "2013-01-01T00:00:00",
          "2012-01-01T00:00:00",
          "2011-01-01T00:00:00",
          "2010-01-01T00:00:00",
          "2009-01-01T00:00:00",
          "2008-01-01T00:00:00",
          "2007-01-01T00:00:00",
          "2006-01-01T00:00:00",
          "2005-01-01T00:00:00",
          "2004-01-01T00:00:00",
          "2003-01-01T00:00:00",
          "2002-01-01T00:00:00",
          "2001-01-01T00:00:00",
          "2000-01-01T00:00:00"
         ],
         "xaxis": "x",
         "y": [
          63528.6343027508,
          65120.3946628653,
          62823.309438197,
          59907.754260885,
          57866.7449341091,
          56762.7294515989,
          55123.8497869046,
          53291.1276891406,
          51784.4185738837,
          50065.9665041742,
          48650.6431283336,
          47194.9433547336,
          48570.0459804586,
          48050.2237771135,
          46302.0008800056,
          44123.4070679055,
          41724.6316287624,
          39490.2749557007,
          37997.7596573051,
          37133.623113437,
          36329.9560727102
         ],
         "yaxis": "y"
        }
       ],
       "layout": {
        "legend": {
         "title": {
          "text": "country"
         },
         "tracegroupgap": 0
        },
        "template": {
         "data": {
          "bar": [
           {
            "error_x": {
             "color": "#2a3f5f"
            },
            "error_y": {
             "color": "#2a3f5f"
            },
            "marker": {
             "line": {
              "color": "#E5ECF6",
              "width": 0.5
             },
             "pattern": {
              "fillmode": "overlay",
              "size": 10,
              "solidity": 0.2
             }
            },
            "type": "bar"
           }
          ],
          "barpolar": [
           {
            "marker": {
             "line": {
              "color": "#E5ECF6",
              "width": 0.5
             },
             "pattern": {
              "fillmode": "overlay",
              "size": 10,
              "solidity": 0.2
             }
            },
            "type": "barpolar"
           }
          ],
          "carpet": [
           {
            "aaxis": {
             "endlinecolor": "#2a3f5f",
             "gridcolor": "white",
             "linecolor": "white",
             "minorgridcolor": "white",
             "startlinecolor": "#2a3f5f"
            },
            "baxis": {
             "endlinecolor": "#2a3f5f",
             "gridcolor": "white",
             "linecolor": "white",
             "minorgridcolor": "white",
             "startlinecolor": "#2a3f5f"
            },
            "type": "carpet"
           }
          ],
          "choropleth": [
           {
            "colorbar": {
             "outlinewidth": 0,
             "ticks": ""
            },
            "type": "choropleth"
           }
          ],
          "contour": [
           {
            "colorbar": {
             "outlinewidth": 0,
             "ticks": ""
            },
            "colorscale": [
             [
              0,
              "#0d0887"
             ],
             [
              0.1111111111111111,
              "#46039f"
             ],
             [
              0.2222222222222222,
              "#7201a8"
             ],
             [
              0.3333333333333333,
              "#9c179e"
             ],
             [
              0.4444444444444444,
              "#bd3786"
             ],
             [
              0.5555555555555556,
              "#d8576b"
             ],
             [
              0.6666666666666666,
              "#ed7953"
             ],
             [
              0.7777777777777778,
              "#fb9f3a"
             ],
             [
              0.8888888888888888,
              "#fdca26"
             ],
             [
              1,
              "#f0f921"
             ]
            ],
            "type": "contour"
           }
          ],
          "contourcarpet": [
           {
            "colorbar": {
             "outlinewidth": 0,
             "ticks": ""
            },
            "type": "contourcarpet"
           }
          ],
          "heatmap": [
           {
            "colorbar": {
             "outlinewidth": 0,
             "ticks": ""
            },
            "colorscale": [
             [
              0,
              "#0d0887"
             ],
             [
              0.1111111111111111,
              "#46039f"
             ],
             [
              0.2222222222222222,
              "#7201a8"
             ],
             [
              0.3333333333333333,
              "#9c179e"
             ],
             [
              0.4444444444444444,
              "#bd3786"
             ],
             [
              0.5555555555555556,
              "#d8576b"
             ],
             [
              0.6666666666666666,
              "#ed7953"
             ],
             [
              0.7777777777777778,
              "#fb9f3a"
             ],
             [
              0.8888888888888888,
              "#fdca26"
             ],
             [
              1,
              "#f0f921"
             ]
            ],
            "type": "heatmap"
           }
          ],
          "heatmapgl": [
           {
            "colorbar": {
             "outlinewidth": 0,
             "ticks": ""
            },
            "colorscale": [
             [
              0,
              "#0d0887"
             ],
             [
              0.1111111111111111,
              "#46039f"
             ],
             [
              0.2222222222222222,
              "#7201a8"
             ],
             [
              0.3333333333333333,
              "#9c179e"
             ],
             [
              0.4444444444444444,
              "#bd3786"
             ],
             [
              0.5555555555555556,
              "#d8576b"
             ],
             [
              0.6666666666666666,
              "#ed7953"
             ],
             [
              0.7777777777777778,
              "#fb9f3a"
             ],
             [
              0.8888888888888888,
              "#fdca26"
             ],
             [
              1,
              "#f0f921"
             ]
            ],
            "type": "heatmapgl"
           }
          ],
          "histogram": [
           {
            "marker": {
             "pattern": {
              "fillmode": "overlay",
              "size": 10,
              "solidity": 0.2
             }
            },
            "type": "histogram"
           }
          ],
          "histogram2d": [
           {
            "colorbar": {
             "outlinewidth": 0,
             "ticks": ""
            },
            "colorscale": [
             [
              0,
              "#0d0887"
             ],
             [
              0.1111111111111111,
              "#46039f"
             ],
             [
              0.2222222222222222,
              "#7201a8"
             ],
             [
              0.3333333333333333,
              "#9c179e"
             ],
             [
              0.4444444444444444,
              "#bd3786"
             ],
             [
              0.5555555555555556,
              "#d8576b"
             ],
             [
              0.6666666666666666,
              "#ed7953"
             ],
             [
              0.7777777777777778,
              "#fb9f3a"
             ],
             [
              0.8888888888888888,
              "#fdca26"
             ],
             [
              1,
              "#f0f921"
             ]
            ],
            "type": "histogram2d"
           }
          ],
          "histogram2dcontour": [
           {
            "colorbar": {
             "outlinewidth": 0,
             "ticks": ""
            },
            "colorscale": [
             [
              0,
              "#0d0887"
             ],
             [
              0.1111111111111111,
              "#46039f"
             ],
             [
              0.2222222222222222,
              "#7201a8"
             ],
             [
              0.3333333333333333,
              "#9c179e"
             ],
             [
              0.4444444444444444,
              "#bd3786"
             ],
             [
              0.5555555555555556,
              "#d8576b"
             ],
             [
              0.6666666666666666,
              "#ed7953"
             ],
             [
              0.7777777777777778,
              "#fb9f3a"
             ],
             [
              0.8888888888888888,
              "#fdca26"
             ],
             [
              1,
              "#f0f921"
             ]
            ],
            "type": "histogram2dcontour"
           }
          ],
          "mesh3d": [
           {
            "colorbar": {
             "outlinewidth": 0,
             "ticks": ""
            },
            "type": "mesh3d"
           }
          ],
          "parcoords": [
           {
            "line": {
             "colorbar": {
              "outlinewidth": 0,
              "ticks": ""
             }
            },
            "type": "parcoords"
           }
          ],
          "pie": [
           {
            "automargin": true,
            "type": "pie"
           }
          ],
          "scatter": [
           {
            "fillpattern": {
             "fillmode": "overlay",
             "size": 10,
             "solidity": 0.2
            },
            "type": "scatter"
           }
          ],
          "scatter3d": [
           {
            "line": {
             "colorbar": {
              "outlinewidth": 0,
              "ticks": ""
             }
            },
            "marker": {
             "colorbar": {
              "outlinewidth": 0,
              "ticks": ""
             }
            },
            "type": "scatter3d"
           }
          ],
          "scattercarpet": [
           {
            "marker": {
             "colorbar": {
              "outlinewidth": 0,
              "ticks": ""
             }
            },
            "type": "scattercarpet"
           }
          ],
          "scattergeo": [
           {
            "marker": {
             "colorbar": {
              "outlinewidth": 0,
              "ticks": ""
             }
            },
            "type": "scattergeo"
           }
          ],
          "scattergl": [
           {
            "marker": {
             "colorbar": {
              "outlinewidth": 0,
              "ticks": ""
             }
            },
            "type": "scattergl"
           }
          ],
          "scattermapbox": [
           {
            "marker": {
             "colorbar": {
              "outlinewidth": 0,
              "ticks": ""
             }
            },
            "type": "scattermapbox"
           }
          ],
          "scatterpolar": [
           {
            "marker": {
             "colorbar": {
              "outlinewidth": 0,
              "ticks": ""
             }
            },
            "type": "scatterpolar"
           }
          ],
          "scatterpolargl": [
           {
            "marker": {
             "colorbar": {
              "outlinewidth": 0,
              "ticks": ""
             }
            },
            "type": "scatterpolargl"
           }
          ],
          "scatterternary": [
           {
            "marker": {
             "colorbar": {
              "outlinewidth": 0,
              "ticks": ""
             }
            },
            "type": "scatterternary"
           }
          ],
          "surface": [
           {
            "colorbar": {
             "outlinewidth": 0,
             "ticks": ""
            },
            "colorscale": [
             [
              0,
              "#0d0887"
             ],
             [
              0.1111111111111111,
              "#46039f"
             ],
             [
              0.2222222222222222,
              "#7201a8"
             ],
             [
              0.3333333333333333,
              "#9c179e"
             ],
             [
              0.4444444444444444,
              "#bd3786"
             ],
             [
              0.5555555555555556,
              "#d8576b"
             ],
             [
              0.6666666666666666,
              "#ed7953"
             ],
             [
              0.7777777777777778,
              "#fb9f3a"
             ],
             [
              0.8888888888888888,
              "#fdca26"
             ],
             [
              1,
              "#f0f921"
             ]
            ],
            "type": "surface"
           }
          ],
          "table": [
           {
            "cells": {
             "fill": {
              "color": "#EBF0F8"
             },
             "line": {
              "color": "white"
             }
            },
            "header": {
             "fill": {
              "color": "#C8D4E3"
             },
             "line": {
              "color": "white"
             }
            },
            "type": "table"
           }
          ]
         },
         "layout": {
          "annotationdefaults": {
           "arrowcolor": "#2a3f5f",
           "arrowhead": 0,
           "arrowwidth": 1
          },
          "autotypenumbers": "strict",
          "coloraxis": {
           "colorbar": {
            "outlinewidth": 0,
            "ticks": ""
           }
          },
          "colorscale": {
           "diverging": [
            [
             0,
             "#8e0152"
            ],
            [
             0.1,
             "#c51b7d"
            ],
            [
             0.2,
             "#de77ae"
            ],
            [
             0.3,
             "#f1b6da"
            ],
            [
             0.4,
             "#fde0ef"
            ],
            [
             0.5,
             "#f7f7f7"
            ],
            [
             0.6,
             "#e6f5d0"
            ],
            [
             0.7,
             "#b8e186"
            ],
            [
             0.8,
             "#7fbc41"
            ],
            [
             0.9,
             "#4d9221"
            ],
            [
             1,
             "#276419"
            ]
           ],
           "sequential": [
            [
             0,
             "#0d0887"
            ],
            [
             0.1111111111111111,
             "#46039f"
            ],
            [
             0.2222222222222222,
             "#7201a8"
            ],
            [
             0.3333333333333333,
             "#9c179e"
            ],
            [
             0.4444444444444444,
             "#bd3786"
            ],
            [
             0.5555555555555556,
             "#d8576b"
            ],
            [
             0.6666666666666666,
             "#ed7953"
            ],
            [
             0.7777777777777778,
             "#fb9f3a"
            ],
            [
             0.8888888888888888,
             "#fdca26"
            ],
            [
             1,
             "#f0f921"
            ]
           ],
           "sequentialminus": [
            [
             0,
             "#0d0887"
            ],
            [
             0.1111111111111111,
             "#46039f"
            ],
            [
             0.2222222222222222,
             "#7201a8"
            ],
            [
             0.3333333333333333,
             "#9c179e"
            ],
            [
             0.4444444444444444,
             "#bd3786"
            ],
            [
             0.5555555555555556,
             "#d8576b"
            ],
            [
             0.6666666666666666,
             "#ed7953"
            ],
            [
             0.7777777777777778,
             "#fb9f3a"
            ],
            [
             0.8888888888888888,
             "#fdca26"
            ],
            [
             1,
             "#f0f921"
            ]
           ]
          },
          "colorway": [
           "#636efa",
           "#EF553B",
           "#00cc96",
           "#ab63fa",
           "#FFA15A",
           "#19d3f3",
           "#FF6692",
           "#B6E880",
           "#FF97FF",
           "#FECB52"
          ],
          "font": {
           "color": "#2a3f5f"
          },
          "geo": {
           "bgcolor": "white",
           "lakecolor": "white",
           "landcolor": "#E5ECF6",
           "showlakes": true,
           "showland": true,
           "subunitcolor": "white"
          },
          "hoverlabel": {
           "align": "left"
          },
          "hovermode": "closest",
          "mapbox": {
           "style": "light"
          },
          "paper_bgcolor": "white",
          "plot_bgcolor": "#E5ECF6",
          "polar": {
           "angularaxis": {
            "gridcolor": "white",
            "linecolor": "white",
            "ticks": ""
           },
           "bgcolor": "#E5ECF6",
           "radialaxis": {
            "gridcolor": "white",
            "linecolor": "white",
            "ticks": ""
           }
          },
          "scene": {
           "xaxis": {
            "backgroundcolor": "#E5ECF6",
            "gridcolor": "white",
            "gridwidth": 2,
            "linecolor": "white",
            "showbackground": true,
            "ticks": "",
            "zerolinecolor": "white"
           },
           "yaxis": {
            "backgroundcolor": "#E5ECF6",
            "gridcolor": "white",
            "gridwidth": 2,
            "linecolor": "white",
            "showbackground": true,
            "ticks": "",
            "zerolinecolor": "white"
           },
           "zaxis": {
            "backgroundcolor": "#E5ECF6",
            "gridcolor": "white",
            "gridwidth": 2,
            "linecolor": "white",
            "showbackground": true,
            "ticks": "",
            "zerolinecolor": "white"
           }
          },
          "shapedefaults": {
           "line": {
            "color": "#2a3f5f"
           }
          },
          "ternary": {
           "aaxis": {
            "gridcolor": "white",
            "linecolor": "white",
            "ticks": ""
           },
           "baxis": {
            "gridcolor": "white",
            "linecolor": "white",
            "ticks": ""
           },
           "bgcolor": "#E5ECF6",
           "caxis": {
            "gridcolor": "white",
            "linecolor": "white",
            "ticks": ""
           }
          },
          "title": {
           "x": 0.05
          },
          "xaxis": {
           "automargin": true,
           "gridcolor": "white",
           "linecolor": "white",
           "ticks": "",
           "title": {
            "standoff": 15
           },
           "zerolinecolor": "white",
           "zerolinewidth": 2
          },
          "yaxis": {
           "automargin": true,
           "gridcolor": "white",
           "linecolor": "white",
           "ticks": "",
           "title": {
            "standoff": 15
           },
           "zerolinecolor": "white",
           "zerolinewidth": 2
          }
         }
        },
        "title": {
         "text": "GDP per Capita"
        },
        "xaxis": {
         "anchor": "y",
         "domain": [
          0,
          1
         ],
         "title": {
          "text": "date"
         }
        },
        "yaxis": {
         "anchor": "x",
         "domain": [
          0,
          1
         ],
         "title": {
          "text": "gdppc"
         }
        }
       }
      }
     },
     "metadata": {},
     "output_type": "display_data"
    },
    {
     "data": {
      "application/vnd.plotly.v1+json": {
       "config": {
        "plotlyServerURL": "https://plot.ly"
       },
       "data": [
        {
         "hovertemplate": "country=Argentina<br>date=%{x}<br>Health Expenditure as a Percentage of GDP=%{y}<extra></extra>",
         "legendgroup": "Argentina",
         "line": {
          "color": "#636efa",
          "dash": "solid"
         },
         "marker": {
          "symbol": "circle"
         },
         "mode": "lines",
         "name": "Argentina",
         "orientation": "v",
         "showlegend": true,
         "type": "scatter",
         "x": [
          "2020-01-01T00:00:00",
          "2019-01-01T00:00:00",
          "2018-01-01T00:00:00",
          "2017-01-01T00:00:00",
          "2016-01-01T00:00:00",
          "2015-01-01T00:00:00",
          "2014-01-01T00:00:00",
          "2013-01-01T00:00:00",
          "2012-01-01T00:00:00",
          "2011-01-01T00:00:00",
          "2010-01-01T00:00:00",
          "2009-01-01T00:00:00",
          "2008-01-01T00:00:00",
          "2007-01-01T00:00:00",
          "2006-01-01T00:00:00",
          "2005-01-01T00:00:00",
          "2004-01-01T00:00:00",
          "2003-01-01T00:00:00",
          "2002-01-01T00:00:00",
          "2001-01-01T00:00:00",
          "2000-01-01T00:00:00"
         ],
         "xaxis": "x",
         "y": [
          9.98438072,
          9.47170544,
          9.49909592,
          10.44225693,
          9.00189781,
          10.22933674,
          9.67129993,
          9.78097916,
          9.82726669,
          9.41819859,
          9.44546413,
          9.45599556,
          8.1826973,
          7.83455086,
          7.64032793,
          7.61078882,
          7.22868252,
          6.89451647,
          7.3933115,
          8.37179852,
          8.22001076
         ],
         "yaxis": "y"
        },
        {
         "hovertemplate": "country=Ethiopia<br>date=%{x}<br>Health Expenditure as a Percentage of GDP=%{y}<extra></extra>",
         "legendgroup": "Ethiopia",
         "line": {
          "color": "#EF553B",
          "dash": "solid"
         },
         "marker": {
          "symbol": "circle"
         },
         "mode": "lines",
         "name": "Ethiopia",
         "orientation": "v",
         "showlegend": true,
         "type": "scatter",
         "x": [
          "2020-01-01T00:00:00",
          "2019-01-01T00:00:00",
          "2018-01-01T00:00:00",
          "2017-01-01T00:00:00",
          "2016-01-01T00:00:00",
          "2015-01-01T00:00:00",
          "2014-01-01T00:00:00",
          "2013-01-01T00:00:00",
          "2012-01-01T00:00:00",
          "2011-01-01T00:00:00",
          "2010-01-01T00:00:00",
          "2009-01-01T00:00:00",
          "2008-01-01T00:00:00",
          "2007-01-01T00:00:00",
          "2006-01-01T00:00:00",
          "2005-01-01T00:00:00",
          "2004-01-01T00:00:00",
          "2003-01-01T00:00:00",
          "2002-01-01T00:00:00",
          "2001-01-01T00:00:00",
          "2000-01-01T00:00:00"
         ],
         "xaxis": "x",
         "y": [
          3.48096275,
          3.23382378,
          3.30371761,
          3.45336914,
          3.60033751,
          3.82316828,
          4.03365517,
          4.07506514,
          4.5395956,
          4.46897745,
          5.46637249,
          4.64983416,
          4.28063869,
          5.00128317,
          4.45757294,
          4.10098124,
          4.31281853,
          4.89970922,
          4.7126298,
          4.72316694,
          4.36504698
         ],
         "yaxis": "y"
        },
        {
         "hovertemplate": "country=India<br>date=%{x}<br>Health Expenditure as a Percentage of GDP=%{y}<extra></extra>",
         "legendgroup": "India",
         "line": {
          "color": "#00cc96",
          "dash": "solid"
         },
         "marker": {
          "symbol": "circle"
         },
         "mode": "lines",
         "name": "India",
         "orientation": "v",
         "showlegend": true,
         "type": "scatter",
         "x": [
          "2020-01-01T00:00:00",
          "2019-01-01T00:00:00",
          "2018-01-01T00:00:00",
          "2017-01-01T00:00:00",
          "2016-01-01T00:00:00",
          "2015-01-01T00:00:00",
          "2014-01-01T00:00:00",
          "2013-01-01T00:00:00",
          "2012-01-01T00:00:00",
          "2011-01-01T00:00:00",
          "2010-01-01T00:00:00",
          "2009-01-01T00:00:00",
          "2008-01-01T00:00:00",
          "2007-01-01T00:00:00",
          "2006-01-01T00:00:00",
          "2005-01-01T00:00:00",
          "2004-01-01T00:00:00",
          "2003-01-01T00:00:00",
          "2002-01-01T00:00:00",
          "2001-01-01T00:00:00",
          "2000-01-01T00:00:00"
         ],
         "xaxis": "x",
         "y": [
          2.95919013,
          2.94352531,
          2.8584938,
          2.93597651,
          3.50430417,
          3.59565997,
          3.61956549,
          3.74944186,
          3.32935286,
          3.24634218,
          3.27211928,
          3.48537874,
          3.51468062,
          3.51754212,
          3.63477802,
          3.79116249,
          3.95739174,
          4.00848055,
          4.24016762,
          4.26278067,
          4.03493309
         ],
         "yaxis": "y"
        },
        {
         "hovertemplate": "country=United States<br>date=%{x}<br>Health Expenditure as a Percentage of GDP=%{y}<extra></extra>",
         "legendgroup": "United States",
         "line": {
          "color": "#ab63fa",
          "dash": "solid"
         },
         "marker": {
          "symbol": "circle"
         },
         "mode": "lines",
         "name": "United States",
         "orientation": "v",
         "showlegend": true,
         "type": "scatter",
         "x": [
          "2020-01-01T00:00:00",
          "2019-01-01T00:00:00",
          "2018-01-01T00:00:00",
          "2017-01-01T00:00:00",
          "2016-01-01T00:00:00",
          "2015-01-01T00:00:00",
          "2014-01-01T00:00:00",
          "2013-01-01T00:00:00",
          "2012-01-01T00:00:00",
          "2011-01-01T00:00:00",
          "2010-01-01T00:00:00",
          "2009-01-01T00:00:00",
          "2008-01-01T00:00:00",
          "2007-01-01T00:00:00",
          "2006-01-01T00:00:00",
          "2005-01-01T00:00:00",
          "2004-01-01T00:00:00",
          "2003-01-01T00:00:00",
          "2002-01-01T00:00:00",
          "2001-01-01T00:00:00",
          "2000-01-01T00:00:00"
         ],
         "xaxis": "x",
         "y": [
          18.81582642,
          16.67647362,
          16.64094353,
          16.76793671,
          16.79314804,
          16.48109245,
          16.19240761,
          15.98693848,
          16.11693954,
          16.13764381,
          16.19557953,
          16.19877434,
          15.20489883,
          14.91463089,
          14.70358467,
          14.57448006,
          14.54663658,
          14.50113487,
          13.99167347,
          13.16466713,
          12.48710918
         ],
         "yaxis": "y"
        }
       ],
       "layout": {
        "legend": {
         "title": {
          "text": "country"
         },
         "tracegroupgap": 0
        },
        "template": {
         "data": {
          "bar": [
           {
            "error_x": {
             "color": "#2a3f5f"
            },
            "error_y": {
             "color": "#2a3f5f"
            },
            "marker": {
             "line": {
              "color": "#E5ECF6",
              "width": 0.5
             },
             "pattern": {
              "fillmode": "overlay",
              "size": 10,
              "solidity": 0.2
             }
            },
            "type": "bar"
           }
          ],
          "barpolar": [
           {
            "marker": {
             "line": {
              "color": "#E5ECF6",
              "width": 0.5
             },
             "pattern": {
              "fillmode": "overlay",
              "size": 10,
              "solidity": 0.2
             }
            },
            "type": "barpolar"
           }
          ],
          "carpet": [
           {
            "aaxis": {
             "endlinecolor": "#2a3f5f",
             "gridcolor": "white",
             "linecolor": "white",
             "minorgridcolor": "white",
             "startlinecolor": "#2a3f5f"
            },
            "baxis": {
             "endlinecolor": "#2a3f5f",
             "gridcolor": "white",
             "linecolor": "white",
             "minorgridcolor": "white",
             "startlinecolor": "#2a3f5f"
            },
            "type": "carpet"
           }
          ],
          "choropleth": [
           {
            "colorbar": {
             "outlinewidth": 0,
             "ticks": ""
            },
            "type": "choropleth"
           }
          ],
          "contour": [
           {
            "colorbar": {
             "outlinewidth": 0,
             "ticks": ""
            },
            "colorscale": [
             [
              0,
              "#0d0887"
             ],
             [
              0.1111111111111111,
              "#46039f"
             ],
             [
              0.2222222222222222,
              "#7201a8"
             ],
             [
              0.3333333333333333,
              "#9c179e"
             ],
             [
              0.4444444444444444,
              "#bd3786"
             ],
             [
              0.5555555555555556,
              "#d8576b"
             ],
             [
              0.6666666666666666,
              "#ed7953"
             ],
             [
              0.7777777777777778,
              "#fb9f3a"
             ],
             [
              0.8888888888888888,
              "#fdca26"
             ],
             [
              1,
              "#f0f921"
             ]
            ],
            "type": "contour"
           }
          ],
          "contourcarpet": [
           {
            "colorbar": {
             "outlinewidth": 0,
             "ticks": ""
            },
            "type": "contourcarpet"
           }
          ],
          "heatmap": [
           {
            "colorbar": {
             "outlinewidth": 0,
             "ticks": ""
            },
            "colorscale": [
             [
              0,
              "#0d0887"
             ],
             [
              0.1111111111111111,
              "#46039f"
             ],
             [
              0.2222222222222222,
              "#7201a8"
             ],
             [
              0.3333333333333333,
              "#9c179e"
             ],
             [
              0.4444444444444444,
              "#bd3786"
             ],
             [
              0.5555555555555556,
              "#d8576b"
             ],
             [
              0.6666666666666666,
              "#ed7953"
             ],
             [
              0.7777777777777778,
              "#fb9f3a"
             ],
             [
              0.8888888888888888,
              "#fdca26"
             ],
             [
              1,
              "#f0f921"
             ]
            ],
            "type": "heatmap"
           }
          ],
          "heatmapgl": [
           {
            "colorbar": {
             "outlinewidth": 0,
             "ticks": ""
            },
            "colorscale": [
             [
              0,
              "#0d0887"
             ],
             [
              0.1111111111111111,
              "#46039f"
             ],
             [
              0.2222222222222222,
              "#7201a8"
             ],
             [
              0.3333333333333333,
              "#9c179e"
             ],
             [
              0.4444444444444444,
              "#bd3786"
             ],
             [
              0.5555555555555556,
              "#d8576b"
             ],
             [
              0.6666666666666666,
              "#ed7953"
             ],
             [
              0.7777777777777778,
              "#fb9f3a"
             ],
             [
              0.8888888888888888,
              "#fdca26"
             ],
             [
              1,
              "#f0f921"
             ]
            ],
            "type": "heatmapgl"
           }
          ],
          "histogram": [
           {
            "marker": {
             "pattern": {
              "fillmode": "overlay",
              "size": 10,
              "solidity": 0.2
             }
            },
            "type": "histogram"
           }
          ],
          "histogram2d": [
           {
            "colorbar": {
             "outlinewidth": 0,
             "ticks": ""
            },
            "colorscale": [
             [
              0,
              "#0d0887"
             ],
             [
              0.1111111111111111,
              "#46039f"
             ],
             [
              0.2222222222222222,
              "#7201a8"
             ],
             [
              0.3333333333333333,
              "#9c179e"
             ],
             [
              0.4444444444444444,
              "#bd3786"
             ],
             [
              0.5555555555555556,
              "#d8576b"
             ],
             [
              0.6666666666666666,
              "#ed7953"
             ],
             [
              0.7777777777777778,
              "#fb9f3a"
             ],
             [
              0.8888888888888888,
              "#fdca26"
             ],
             [
              1,
              "#f0f921"
             ]
            ],
            "type": "histogram2d"
           }
          ],
          "histogram2dcontour": [
           {
            "colorbar": {
             "outlinewidth": 0,
             "ticks": ""
            },
            "colorscale": [
             [
              0,
              "#0d0887"
             ],
             [
              0.1111111111111111,
              "#46039f"
             ],
             [
              0.2222222222222222,
              "#7201a8"
             ],
             [
              0.3333333333333333,
              "#9c179e"
             ],
             [
              0.4444444444444444,
              "#bd3786"
             ],
             [
              0.5555555555555556,
              "#d8576b"
             ],
             [
              0.6666666666666666,
              "#ed7953"
             ],
             [
              0.7777777777777778,
              "#fb9f3a"
             ],
             [
              0.8888888888888888,
              "#fdca26"
             ],
             [
              1,
              "#f0f921"
             ]
            ],
            "type": "histogram2dcontour"
           }
          ],
          "mesh3d": [
           {
            "colorbar": {
             "outlinewidth": 0,
             "ticks": ""
            },
            "type": "mesh3d"
           }
          ],
          "parcoords": [
           {
            "line": {
             "colorbar": {
              "outlinewidth": 0,
              "ticks": ""
             }
            },
            "type": "parcoords"
           }
          ],
          "pie": [
           {
            "automargin": true,
            "type": "pie"
           }
          ],
          "scatter": [
           {
            "fillpattern": {
             "fillmode": "overlay",
             "size": 10,
             "solidity": 0.2
            },
            "type": "scatter"
           }
          ],
          "scatter3d": [
           {
            "line": {
             "colorbar": {
              "outlinewidth": 0,
              "ticks": ""
             }
            },
            "marker": {
             "colorbar": {
              "outlinewidth": 0,
              "ticks": ""
             }
            },
            "type": "scatter3d"
           }
          ],
          "scattercarpet": [
           {
            "marker": {
             "colorbar": {
              "outlinewidth": 0,
              "ticks": ""
             }
            },
            "type": "scattercarpet"
           }
          ],
          "scattergeo": [
           {
            "marker": {
             "colorbar": {
              "outlinewidth": 0,
              "ticks": ""
             }
            },
            "type": "scattergeo"
           }
          ],
          "scattergl": [
           {
            "marker": {
             "colorbar": {
              "outlinewidth": 0,
              "ticks": ""
             }
            },
            "type": "scattergl"
           }
          ],
          "scattermapbox": [
           {
            "marker": {
             "colorbar": {
              "outlinewidth": 0,
              "ticks": ""
             }
            },
            "type": "scattermapbox"
           }
          ],
          "scatterpolar": [
           {
            "marker": {
             "colorbar": {
              "outlinewidth": 0,
              "ticks": ""
             }
            },
            "type": "scatterpolar"
           }
          ],
          "scatterpolargl": [
           {
            "marker": {
             "colorbar": {
              "outlinewidth": 0,
              "ticks": ""
             }
            },
            "type": "scatterpolargl"
           }
          ],
          "scatterternary": [
           {
            "marker": {
             "colorbar": {
              "outlinewidth": 0,
              "ticks": ""
             }
            },
            "type": "scatterternary"
           }
          ],
          "surface": [
           {
            "colorbar": {
             "outlinewidth": 0,
             "ticks": ""
            },
            "colorscale": [
             [
              0,
              "#0d0887"
             ],
             [
              0.1111111111111111,
              "#46039f"
             ],
             [
              0.2222222222222222,
              "#7201a8"
             ],
             [
              0.3333333333333333,
              "#9c179e"
             ],
             [
              0.4444444444444444,
              "#bd3786"
             ],
             [
              0.5555555555555556,
              "#d8576b"
             ],
             [
              0.6666666666666666,
              "#ed7953"
             ],
             [
              0.7777777777777778,
              "#fb9f3a"
             ],
             [
              0.8888888888888888,
              "#fdca26"
             ],
             [
              1,
              "#f0f921"
             ]
            ],
            "type": "surface"
           }
          ],
          "table": [
           {
            "cells": {
             "fill": {
              "color": "#EBF0F8"
             },
             "line": {
              "color": "white"
             }
            },
            "header": {
             "fill": {
              "color": "#C8D4E3"
             },
             "line": {
              "color": "white"
             }
            },
            "type": "table"
           }
          ]
         },
         "layout": {
          "annotationdefaults": {
           "arrowcolor": "#2a3f5f",
           "arrowhead": 0,
           "arrowwidth": 1
          },
          "autotypenumbers": "strict",
          "coloraxis": {
           "colorbar": {
            "outlinewidth": 0,
            "ticks": ""
           }
          },
          "colorscale": {
           "diverging": [
            [
             0,
             "#8e0152"
            ],
            [
             0.1,
             "#c51b7d"
            ],
            [
             0.2,
             "#de77ae"
            ],
            [
             0.3,
             "#f1b6da"
            ],
            [
             0.4,
             "#fde0ef"
            ],
            [
             0.5,
             "#f7f7f7"
            ],
            [
             0.6,
             "#e6f5d0"
            ],
            [
             0.7,
             "#b8e186"
            ],
            [
             0.8,
             "#7fbc41"
            ],
            [
             0.9,
             "#4d9221"
            ],
            [
             1,
             "#276419"
            ]
           ],
           "sequential": [
            [
             0,
             "#0d0887"
            ],
            [
             0.1111111111111111,
             "#46039f"
            ],
            [
             0.2222222222222222,
             "#7201a8"
            ],
            [
             0.3333333333333333,
             "#9c179e"
            ],
            [
             0.4444444444444444,
             "#bd3786"
            ],
            [
             0.5555555555555556,
             "#d8576b"
            ],
            [
             0.6666666666666666,
             "#ed7953"
            ],
            [
             0.7777777777777778,
             "#fb9f3a"
            ],
            [
             0.8888888888888888,
             "#fdca26"
            ],
            [
             1,
             "#f0f921"
            ]
           ],
           "sequentialminus": [
            [
             0,
             "#0d0887"
            ],
            [
             0.1111111111111111,
             "#46039f"
            ],
            [
             0.2222222222222222,
             "#7201a8"
            ],
            [
             0.3333333333333333,
             "#9c179e"
            ],
            [
             0.4444444444444444,
             "#bd3786"
            ],
            [
             0.5555555555555556,
             "#d8576b"
            ],
            [
             0.6666666666666666,
             "#ed7953"
            ],
            [
             0.7777777777777778,
             "#fb9f3a"
            ],
            [
             0.8888888888888888,
             "#fdca26"
            ],
            [
             1,
             "#f0f921"
            ]
           ]
          },
          "colorway": [
           "#636efa",
           "#EF553B",
           "#00cc96",
           "#ab63fa",
           "#FFA15A",
           "#19d3f3",
           "#FF6692",
           "#B6E880",
           "#FF97FF",
           "#FECB52"
          ],
          "font": {
           "color": "#2a3f5f"
          },
          "geo": {
           "bgcolor": "white",
           "lakecolor": "white",
           "landcolor": "#E5ECF6",
           "showlakes": true,
           "showland": true,
           "subunitcolor": "white"
          },
          "hoverlabel": {
           "align": "left"
          },
          "hovermode": "closest",
          "mapbox": {
           "style": "light"
          },
          "paper_bgcolor": "white",
          "plot_bgcolor": "#E5ECF6",
          "polar": {
           "angularaxis": {
            "gridcolor": "white",
            "linecolor": "white",
            "ticks": ""
           },
           "bgcolor": "#E5ECF6",
           "radialaxis": {
            "gridcolor": "white",
            "linecolor": "white",
            "ticks": ""
           }
          },
          "scene": {
           "xaxis": {
            "backgroundcolor": "#E5ECF6",
            "gridcolor": "white",
            "gridwidth": 2,
            "linecolor": "white",
            "showbackground": true,
            "ticks": "",
            "zerolinecolor": "white"
           },
           "yaxis": {
            "backgroundcolor": "#E5ECF6",
            "gridcolor": "white",
            "gridwidth": 2,
            "linecolor": "white",
            "showbackground": true,
            "ticks": "",
            "zerolinecolor": "white"
           },
           "zaxis": {
            "backgroundcolor": "#E5ECF6",
            "gridcolor": "white",
            "gridwidth": 2,
            "linecolor": "white",
            "showbackground": true,
            "ticks": "",
            "zerolinecolor": "white"
           }
          },
          "shapedefaults": {
           "line": {
            "color": "#2a3f5f"
           }
          },
          "ternary": {
           "aaxis": {
            "gridcolor": "white",
            "linecolor": "white",
            "ticks": ""
           },
           "baxis": {
            "gridcolor": "white",
            "linecolor": "white",
            "ticks": ""
           },
           "bgcolor": "#E5ECF6",
           "caxis": {
            "gridcolor": "white",
            "linecolor": "white",
            "ticks": ""
           }
          },
          "title": {
           "x": 0.05
          },
          "xaxis": {
           "automargin": true,
           "gridcolor": "white",
           "linecolor": "white",
           "ticks": "",
           "title": {
            "standoff": 15
           },
           "zerolinecolor": "white",
           "zerolinewidth": 2
          },
          "yaxis": {
           "automargin": true,
           "gridcolor": "white",
           "linecolor": "white",
           "ticks": "",
           "title": {
            "standoff": 15
           },
           "zerolinecolor": "white",
           "zerolinewidth": 2
          }
         }
        },
        "title": {
         "text": "Health Expenditure as a Percentage of GDP"
        },
        "xaxis": {
         "anchor": "y",
         "domain": [
          0,
          1
         ],
         "title": {
          "text": "date"
         }
        },
        "yaxis": {
         "anchor": "x",
         "domain": [
          0,
          1
         ],
         "title": {
          "text": "Health Expenditure as a Percentage of GDP"
         }
        }
       }
      }
     },
     "metadata": {},
     "output_type": "display_data"
    },
    {
     "data": {
      "application/vnd.plotly.v1+json": {
       "config": {
        "plotlyServerURL": "https://plot.ly"
       },
       "data": [
        {
         "hovertemplate": "country=Argentina<br>date=%{x}<br>Immunization=%{y}<extra></extra>",
         "legendgroup": "Argentina",
         "line": {
          "color": "#636efa",
          "dash": "solid"
         },
         "marker": {
          "symbol": "circle"
         },
         "mode": "lines",
         "name": "Argentina",
         "orientation": "v",
         "showlegend": true,
         "type": "scatter",
         "x": [
          "2020-01-01T00:00:00",
          "2019-01-01T00:00:00",
          "2018-01-01T00:00:00",
          "2017-01-01T00:00:00",
          "2016-01-01T00:00:00",
          "2015-01-01T00:00:00",
          "2014-01-01T00:00:00",
          "2013-01-01T00:00:00",
          "2012-01-01T00:00:00",
          "2011-01-01T00:00:00",
          "2010-01-01T00:00:00",
          "2009-01-01T00:00:00",
          "2008-01-01T00:00:00",
          "2007-01-01T00:00:00",
          "2006-01-01T00:00:00",
          "2005-01-01T00:00:00",
          "2004-01-01T00:00:00",
          "2003-01-01T00:00:00",
          "2002-01-01T00:00:00",
          "2001-01-01T00:00:00",
          "2000-01-01T00:00:00"
         ],
         "xaxis": "x",
         "y": [
          74,
          83,
          86,
          86,
          92,
          94,
          94,
          94,
          91,
          91,
          94,
          94,
          93,
          91,
          91,
          98,
          98,
          96,
          93,
          83,
          83
         ],
         "yaxis": "y"
        },
        {
         "hovertemplate": "country=Ethiopia<br>date=%{x}<br>Immunization=%{y}<extra></extra>",
         "legendgroup": "Ethiopia",
         "line": {
          "color": "#EF553B",
          "dash": "solid"
         },
         "marker": {
          "symbol": "circle"
         },
         "mode": "lines",
         "name": "Ethiopia",
         "orientation": "v",
         "showlegend": true,
         "type": "scatter",
         "x": [
          "2020-01-01T00:00:00",
          "2019-01-01T00:00:00",
          "2018-01-01T00:00:00",
          "2017-01-01T00:00:00",
          "2016-01-01T00:00:00",
          "2015-01-01T00:00:00",
          "2014-01-01T00:00:00",
          "2013-01-01T00:00:00",
          "2012-01-01T00:00:00",
          "2011-01-01T00:00:00",
          "2010-01-01T00:00:00",
          "2009-01-01T00:00:00",
          "2008-01-01T00:00:00",
          "2007-01-01T00:00:00",
          "2006-01-01T00:00:00",
          "2005-01-01T00:00:00",
          "2004-01-01T00:00:00",
          "2003-01-01T00:00:00",
          "2002-01-01T00:00:00",
          "2001-01-01T00:00:00",
          "2000-01-01T00:00:00"
         ],
         "xaxis": "x",
         "y": [
          71,
          68,
          67,
          68,
          66,
          63,
          61,
          59,
          62,
          65,
          61,
          58,
          54,
          50,
          46,
          44,
          40,
          38,
          35,
          33,
          30
         ],
         "yaxis": "y"
        },
        {
         "hovertemplate": "country=India<br>date=%{x}<br>Immunization=%{y}<extra></extra>",
         "legendgroup": "India",
         "line": {
          "color": "#00cc96",
          "dash": "solid"
         },
         "marker": {
          "symbol": "circle"
         },
         "mode": "lines",
         "name": "India",
         "orientation": "v",
         "showlegend": true,
         "type": "scatter",
         "x": [
          "2020-01-01T00:00:00",
          "2019-01-01T00:00:00",
          "2018-01-01T00:00:00",
          "2017-01-01T00:00:00",
          "2016-01-01T00:00:00",
          "2015-01-01T00:00:00",
          "2014-01-01T00:00:00",
          "2013-01-01T00:00:00",
          "2012-01-01T00:00:00",
          "2011-01-01T00:00:00",
          "2010-01-01T00:00:00",
          "2009-01-01T00:00:00",
          "2008-01-01T00:00:00",
          "2007-01-01T00:00:00",
          "2006-01-01T00:00:00",
          "2005-01-01T00:00:00",
          "2004-01-01T00:00:00",
          "2003-01-01T00:00:00",
          "2002-01-01T00:00:00",
          "2001-01-01T00:00:00",
          "2000-01-01T00:00:00"
         ],
         "xaxis": "x",
         "y": [
          85,
          91,
          90,
          89,
          88,
          87,
          85,
          83,
          82,
          82,
          79,
          74,
          70,
          64,
          65,
          65,
          63,
          61,
          59,
          59,
          58
         ],
         "yaxis": "y"
        },
        {
         "hovertemplate": "country=United States<br>date=%{x}<br>Immunization=%{y}<extra></extra>",
         "legendgroup": "United States",
         "line": {
          "color": "#ab63fa",
          "dash": "solid"
         },
         "marker": {
          "symbol": "circle"
         },
         "mode": "lines",
         "name": "United States",
         "orientation": "v",
         "showlegend": true,
         "type": "scatter",
         "x": [
          "2020-01-01T00:00:00",
          "2019-01-01T00:00:00",
          "2018-01-01T00:00:00",
          "2017-01-01T00:00:00",
          "2016-01-01T00:00:00",
          "2015-01-01T00:00:00",
          "2014-01-01T00:00:00",
          "2013-01-01T00:00:00",
          "2012-01-01T00:00:00",
          "2011-01-01T00:00:00",
          "2010-01-01T00:00:00",
          "2009-01-01T00:00:00",
          "2008-01-01T00:00:00",
          "2007-01-01T00:00:00",
          "2006-01-01T00:00:00",
          "2005-01-01T00:00:00",
          "2004-01-01T00:00:00",
          "2003-01-01T00:00:00",
          "2002-01-01T00:00:00",
          "2001-01-01T00:00:00",
          "2000-01-01T00:00:00"
         ],
         "xaxis": "x",
         "y": [
          93,
          94,
          94,
          94,
          95,
          95,
          95,
          94,
          94,
          96,
          95,
          95,
          96,
          96,
          96,
          96,
          96,
          96,
          94,
          94,
          94
         ],
         "yaxis": "y"
        }
       ],
       "layout": {
        "legend": {
         "title": {
          "text": "country"
         },
         "tracegroupgap": 0
        },
        "template": {
         "data": {
          "bar": [
           {
            "error_x": {
             "color": "#2a3f5f"
            },
            "error_y": {
             "color": "#2a3f5f"
            },
            "marker": {
             "line": {
              "color": "#E5ECF6",
              "width": 0.5
             },
             "pattern": {
              "fillmode": "overlay",
              "size": 10,
              "solidity": 0.2
             }
            },
            "type": "bar"
           }
          ],
          "barpolar": [
           {
            "marker": {
             "line": {
              "color": "#E5ECF6",
              "width": 0.5
             },
             "pattern": {
              "fillmode": "overlay",
              "size": 10,
              "solidity": 0.2
             }
            },
            "type": "barpolar"
           }
          ],
          "carpet": [
           {
            "aaxis": {
             "endlinecolor": "#2a3f5f",
             "gridcolor": "white",
             "linecolor": "white",
             "minorgridcolor": "white",
             "startlinecolor": "#2a3f5f"
            },
            "baxis": {
             "endlinecolor": "#2a3f5f",
             "gridcolor": "white",
             "linecolor": "white",
             "minorgridcolor": "white",
             "startlinecolor": "#2a3f5f"
            },
            "type": "carpet"
           }
          ],
          "choropleth": [
           {
            "colorbar": {
             "outlinewidth": 0,
             "ticks": ""
            },
            "type": "choropleth"
           }
          ],
          "contour": [
           {
            "colorbar": {
             "outlinewidth": 0,
             "ticks": ""
            },
            "colorscale": [
             [
              0,
              "#0d0887"
             ],
             [
              0.1111111111111111,
              "#46039f"
             ],
             [
              0.2222222222222222,
              "#7201a8"
             ],
             [
              0.3333333333333333,
              "#9c179e"
             ],
             [
              0.4444444444444444,
              "#bd3786"
             ],
             [
              0.5555555555555556,
              "#d8576b"
             ],
             [
              0.6666666666666666,
              "#ed7953"
             ],
             [
              0.7777777777777778,
              "#fb9f3a"
             ],
             [
              0.8888888888888888,
              "#fdca26"
             ],
             [
              1,
              "#f0f921"
             ]
            ],
            "type": "contour"
           }
          ],
          "contourcarpet": [
           {
            "colorbar": {
             "outlinewidth": 0,
             "ticks": ""
            },
            "type": "contourcarpet"
           }
          ],
          "heatmap": [
           {
            "colorbar": {
             "outlinewidth": 0,
             "ticks": ""
            },
            "colorscale": [
             [
              0,
              "#0d0887"
             ],
             [
              0.1111111111111111,
              "#46039f"
             ],
             [
              0.2222222222222222,
              "#7201a8"
             ],
             [
              0.3333333333333333,
              "#9c179e"
             ],
             [
              0.4444444444444444,
              "#bd3786"
             ],
             [
              0.5555555555555556,
              "#d8576b"
             ],
             [
              0.6666666666666666,
              "#ed7953"
             ],
             [
              0.7777777777777778,
              "#fb9f3a"
             ],
             [
              0.8888888888888888,
              "#fdca26"
             ],
             [
              1,
              "#f0f921"
             ]
            ],
            "type": "heatmap"
           }
          ],
          "heatmapgl": [
           {
            "colorbar": {
             "outlinewidth": 0,
             "ticks": ""
            },
            "colorscale": [
             [
              0,
              "#0d0887"
             ],
             [
              0.1111111111111111,
              "#46039f"
             ],
             [
              0.2222222222222222,
              "#7201a8"
             ],
             [
              0.3333333333333333,
              "#9c179e"
             ],
             [
              0.4444444444444444,
              "#bd3786"
             ],
             [
              0.5555555555555556,
              "#d8576b"
             ],
             [
              0.6666666666666666,
              "#ed7953"
             ],
             [
              0.7777777777777778,
              "#fb9f3a"
             ],
             [
              0.8888888888888888,
              "#fdca26"
             ],
             [
              1,
              "#f0f921"
             ]
            ],
            "type": "heatmapgl"
           }
          ],
          "histogram": [
           {
            "marker": {
             "pattern": {
              "fillmode": "overlay",
              "size": 10,
              "solidity": 0.2
             }
            },
            "type": "histogram"
           }
          ],
          "histogram2d": [
           {
            "colorbar": {
             "outlinewidth": 0,
             "ticks": ""
            },
            "colorscale": [
             [
              0,
              "#0d0887"
             ],
             [
              0.1111111111111111,
              "#46039f"
             ],
             [
              0.2222222222222222,
              "#7201a8"
             ],
             [
              0.3333333333333333,
              "#9c179e"
             ],
             [
              0.4444444444444444,
              "#bd3786"
             ],
             [
              0.5555555555555556,
              "#d8576b"
             ],
             [
              0.6666666666666666,
              "#ed7953"
             ],
             [
              0.7777777777777778,
              "#fb9f3a"
             ],
             [
              0.8888888888888888,
              "#fdca26"
             ],
             [
              1,
              "#f0f921"
             ]
            ],
            "type": "histogram2d"
           }
          ],
          "histogram2dcontour": [
           {
            "colorbar": {
             "outlinewidth": 0,
             "ticks": ""
            },
            "colorscale": [
             [
              0,
              "#0d0887"
             ],
             [
              0.1111111111111111,
              "#46039f"
             ],
             [
              0.2222222222222222,
              "#7201a8"
             ],
             [
              0.3333333333333333,
              "#9c179e"
             ],
             [
              0.4444444444444444,
              "#bd3786"
             ],
             [
              0.5555555555555556,
              "#d8576b"
             ],
             [
              0.6666666666666666,
              "#ed7953"
             ],
             [
              0.7777777777777778,
              "#fb9f3a"
             ],
             [
              0.8888888888888888,
              "#fdca26"
             ],
             [
              1,
              "#f0f921"
             ]
            ],
            "type": "histogram2dcontour"
           }
          ],
          "mesh3d": [
           {
            "colorbar": {
             "outlinewidth": 0,
             "ticks": ""
            },
            "type": "mesh3d"
           }
          ],
          "parcoords": [
           {
            "line": {
             "colorbar": {
              "outlinewidth": 0,
              "ticks": ""
             }
            },
            "type": "parcoords"
           }
          ],
          "pie": [
           {
            "automargin": true,
            "type": "pie"
           }
          ],
          "scatter": [
           {
            "fillpattern": {
             "fillmode": "overlay",
             "size": 10,
             "solidity": 0.2
            },
            "type": "scatter"
           }
          ],
          "scatter3d": [
           {
            "line": {
             "colorbar": {
              "outlinewidth": 0,
              "ticks": ""
             }
            },
            "marker": {
             "colorbar": {
              "outlinewidth": 0,
              "ticks": ""
             }
            },
            "type": "scatter3d"
           }
          ],
          "scattercarpet": [
           {
            "marker": {
             "colorbar": {
              "outlinewidth": 0,
              "ticks": ""
             }
            },
            "type": "scattercarpet"
           }
          ],
          "scattergeo": [
           {
            "marker": {
             "colorbar": {
              "outlinewidth": 0,
              "ticks": ""
             }
            },
            "type": "scattergeo"
           }
          ],
          "scattergl": [
           {
            "marker": {
             "colorbar": {
              "outlinewidth": 0,
              "ticks": ""
             }
            },
            "type": "scattergl"
           }
          ],
          "scattermapbox": [
           {
            "marker": {
             "colorbar": {
              "outlinewidth": 0,
              "ticks": ""
             }
            },
            "type": "scattermapbox"
           }
          ],
          "scatterpolar": [
           {
            "marker": {
             "colorbar": {
              "outlinewidth": 0,
              "ticks": ""
             }
            },
            "type": "scatterpolar"
           }
          ],
          "scatterpolargl": [
           {
            "marker": {
             "colorbar": {
              "outlinewidth": 0,
              "ticks": ""
             }
            },
            "type": "scatterpolargl"
           }
          ],
          "scatterternary": [
           {
            "marker": {
             "colorbar": {
              "outlinewidth": 0,
              "ticks": ""
             }
            },
            "type": "scatterternary"
           }
          ],
          "surface": [
           {
            "colorbar": {
             "outlinewidth": 0,
             "ticks": ""
            },
            "colorscale": [
             [
              0,
              "#0d0887"
             ],
             [
              0.1111111111111111,
              "#46039f"
             ],
             [
              0.2222222222222222,
              "#7201a8"
             ],
             [
              0.3333333333333333,
              "#9c179e"
             ],
             [
              0.4444444444444444,
              "#bd3786"
             ],
             [
              0.5555555555555556,
              "#d8576b"
             ],
             [
              0.6666666666666666,
              "#ed7953"
             ],
             [
              0.7777777777777778,
              "#fb9f3a"
             ],
             [
              0.8888888888888888,
              "#fdca26"
             ],
             [
              1,
              "#f0f921"
             ]
            ],
            "type": "surface"
           }
          ],
          "table": [
           {
            "cells": {
             "fill": {
              "color": "#EBF0F8"
             },
             "line": {
              "color": "white"
             }
            },
            "header": {
             "fill": {
              "color": "#C8D4E3"
             },
             "line": {
              "color": "white"
             }
            },
            "type": "table"
           }
          ]
         },
         "layout": {
          "annotationdefaults": {
           "arrowcolor": "#2a3f5f",
           "arrowhead": 0,
           "arrowwidth": 1
          },
          "autotypenumbers": "strict",
          "coloraxis": {
           "colorbar": {
            "outlinewidth": 0,
            "ticks": ""
           }
          },
          "colorscale": {
           "diverging": [
            [
             0,
             "#8e0152"
            ],
            [
             0.1,
             "#c51b7d"
            ],
            [
             0.2,
             "#de77ae"
            ],
            [
             0.3,
             "#f1b6da"
            ],
            [
             0.4,
             "#fde0ef"
            ],
            [
             0.5,
             "#f7f7f7"
            ],
            [
             0.6,
             "#e6f5d0"
            ],
            [
             0.7,
             "#b8e186"
            ],
            [
             0.8,
             "#7fbc41"
            ],
            [
             0.9,
             "#4d9221"
            ],
            [
             1,
             "#276419"
            ]
           ],
           "sequential": [
            [
             0,
             "#0d0887"
            ],
            [
             0.1111111111111111,
             "#46039f"
            ],
            [
             0.2222222222222222,
             "#7201a8"
            ],
            [
             0.3333333333333333,
             "#9c179e"
            ],
            [
             0.4444444444444444,
             "#bd3786"
            ],
            [
             0.5555555555555556,
             "#d8576b"
            ],
            [
             0.6666666666666666,
             "#ed7953"
            ],
            [
             0.7777777777777778,
             "#fb9f3a"
            ],
            [
             0.8888888888888888,
             "#fdca26"
            ],
            [
             1,
             "#f0f921"
            ]
           ],
           "sequentialminus": [
            [
             0,
             "#0d0887"
            ],
            [
             0.1111111111111111,
             "#46039f"
            ],
            [
             0.2222222222222222,
             "#7201a8"
            ],
            [
             0.3333333333333333,
             "#9c179e"
            ],
            [
             0.4444444444444444,
             "#bd3786"
            ],
            [
             0.5555555555555556,
             "#d8576b"
            ],
            [
             0.6666666666666666,
             "#ed7953"
            ],
            [
             0.7777777777777778,
             "#fb9f3a"
            ],
            [
             0.8888888888888888,
             "#fdca26"
            ],
            [
             1,
             "#f0f921"
            ]
           ]
          },
          "colorway": [
           "#636efa",
           "#EF553B",
           "#00cc96",
           "#ab63fa",
           "#FFA15A",
           "#19d3f3",
           "#FF6692",
           "#B6E880",
           "#FF97FF",
           "#FECB52"
          ],
          "font": {
           "color": "#2a3f5f"
          },
          "geo": {
           "bgcolor": "white",
           "lakecolor": "white",
           "landcolor": "#E5ECF6",
           "showlakes": true,
           "showland": true,
           "subunitcolor": "white"
          },
          "hoverlabel": {
           "align": "left"
          },
          "hovermode": "closest",
          "mapbox": {
           "style": "light"
          },
          "paper_bgcolor": "white",
          "plot_bgcolor": "#E5ECF6",
          "polar": {
           "angularaxis": {
            "gridcolor": "white",
            "linecolor": "white",
            "ticks": ""
           },
           "bgcolor": "#E5ECF6",
           "radialaxis": {
            "gridcolor": "white",
            "linecolor": "white",
            "ticks": ""
           }
          },
          "scene": {
           "xaxis": {
            "backgroundcolor": "#E5ECF6",
            "gridcolor": "white",
            "gridwidth": 2,
            "linecolor": "white",
            "showbackground": true,
            "ticks": "",
            "zerolinecolor": "white"
           },
           "yaxis": {
            "backgroundcolor": "#E5ECF6",
            "gridcolor": "white",
            "gridwidth": 2,
            "linecolor": "white",
            "showbackground": true,
            "ticks": "",
            "zerolinecolor": "white"
           },
           "zaxis": {
            "backgroundcolor": "#E5ECF6",
            "gridcolor": "white",
            "gridwidth": 2,
            "linecolor": "white",
            "showbackground": true,
            "ticks": "",
            "zerolinecolor": "white"
           }
          },
          "shapedefaults": {
           "line": {
            "color": "#2a3f5f"
           }
          },
          "ternary": {
           "aaxis": {
            "gridcolor": "white",
            "linecolor": "white",
            "ticks": ""
           },
           "baxis": {
            "gridcolor": "white",
            "linecolor": "white",
            "ticks": ""
           },
           "bgcolor": "#E5ECF6",
           "caxis": {
            "gridcolor": "white",
            "linecolor": "white",
            "ticks": ""
           }
          },
          "title": {
           "x": 0.05
          },
          "xaxis": {
           "automargin": true,
           "gridcolor": "white",
           "linecolor": "white",
           "ticks": "",
           "title": {
            "standoff": 15
           },
           "zerolinecolor": "white",
           "zerolinewidth": 2
          },
          "yaxis": {
           "automargin": true,
           "gridcolor": "white",
           "linecolor": "white",
           "ticks": "",
           "title": {
            "standoff": 15
           },
           "zerolinecolor": "white",
           "zerolinewidth": 2
          }
         }
        },
        "title": {
         "text": "Immunization"
        },
        "xaxis": {
         "anchor": "y",
         "domain": [
          0,
          1
         ],
         "title": {
          "text": "date"
         }
        },
        "yaxis": {
         "anchor": "x",
         "domain": [
          0,
          1
         ],
         "title": {
          "text": "Immunization"
         }
        }
       }
      }
     },
     "metadata": {},
     "output_type": "display_data"
    },
    {
     "data": {
      "application/vnd.plotly.v1+json": {
       "config": {
        "plotlyServerURL": "https://plot.ly"
       },
       "data": [
        {
         "hovertemplate": "country=Argentina<br>date=%{x}<br>Life Expectancy at Birth=%{y}<extra></extra>",
         "legendgroup": "Argentina",
         "line": {
          "color": "#636efa",
          "dash": "solid"
         },
         "marker": {
          "symbol": "circle"
         },
         "mode": "lines",
         "name": "Argentina",
         "orientation": "v",
         "showlegend": true,
         "type": "scatter",
         "x": [
          "2020-01-01T00:00:00",
          "2019-01-01T00:00:00",
          "2018-01-01T00:00:00",
          "2017-01-01T00:00:00",
          "2016-01-01T00:00:00",
          "2015-01-01T00:00:00",
          "2014-01-01T00:00:00",
          "2013-01-01T00:00:00",
          "2012-01-01T00:00:00",
          "2011-01-01T00:00:00",
          "2010-01-01T00:00:00",
          "2009-01-01T00:00:00",
          "2008-01-01T00:00:00",
          "2007-01-01T00:00:00",
          "2006-01-01T00:00:00",
          "2005-01-01T00:00:00",
          "2004-01-01T00:00:00",
          "2003-01-01T00:00:00",
          "2002-01-01T00:00:00",
          "2001-01-01T00:00:00",
          "2000-01-01T00:00:00"
         ],
         "xaxis": "x",
         "y": [
          75.892,
          77.284,
          76.999,
          76.833,
          76.308,
          76.76,
          76.755,
          76.491,
          76.467,
          76.124,
          75.721,
          75.936,
          75.641,
          75.006,
          75.433,
          75.139,
          74.855,
          74.08,
          74.408,
          74.186,
          73.926
         ],
         "yaxis": "y"
        },
        {
         "hovertemplate": "country=Ethiopia<br>date=%{x}<br>Life Expectancy at Birth=%{y}<extra></extra>",
         "legendgroup": "Ethiopia",
         "line": {
          "color": "#EF553B",
          "dash": "solid"
         },
         "marker": {
          "symbol": "circle"
         },
         "mode": "lines",
         "name": "Ethiopia",
         "orientation": "v",
         "showlegend": true,
         "type": "scatter",
         "x": [
          "2020-01-01T00:00:00",
          "2019-01-01T00:00:00",
          "2018-01-01T00:00:00",
          "2017-01-01T00:00:00",
          "2016-01-01T00:00:00",
          "2015-01-01T00:00:00",
          "2014-01-01T00:00:00",
          "2013-01-01T00:00:00",
          "2012-01-01T00:00:00",
          "2011-01-01T00:00:00",
          "2010-01-01T00:00:00",
          "2009-01-01T00:00:00",
          "2008-01-01T00:00:00",
          "2007-01-01T00:00:00",
          "2006-01-01T00:00:00",
          "2005-01-01T00:00:00",
          "2004-01-01T00:00:00",
          "2003-01-01T00:00:00",
          "2002-01-01T00:00:00",
          "2001-01-01T00:00:00",
          "2000-01-01T00:00:00"
         ],
         "xaxis": "x",
         "y": [
          65.371,
          65.838,
          65.412,
          64.838,
          64.392,
          63.649,
          62.905,
          62.373,
          61.543,
          60.721,
          59.73,
          58.804,
          57.592,
          56.426,
          55.149,
          54.008,
          53.235,
          52.533,
          51.517,
          51.043,
          50.538
         ],
         "yaxis": "y"
        },
        {
         "hovertemplate": "country=India<br>date=%{x}<br>Life Expectancy at Birth=%{y}<extra></extra>",
         "legendgroup": "India",
         "line": {
          "color": "#00cc96",
          "dash": "solid"
         },
         "marker": {
          "symbol": "circle"
         },
         "mode": "lines",
         "name": "India",
         "orientation": "v",
         "showlegend": true,
         "type": "scatter",
         "x": [
          "2020-01-01T00:00:00",
          "2019-01-01T00:00:00",
          "2018-01-01T00:00:00",
          "2017-01-01T00:00:00",
          "2016-01-01T00:00:00",
          "2015-01-01T00:00:00",
          "2014-01-01T00:00:00",
          "2013-01-01T00:00:00",
          "2012-01-01T00:00:00",
          "2011-01-01T00:00:00",
          "2010-01-01T00:00:00",
          "2009-01-01T00:00:00",
          "2008-01-01T00:00:00",
          "2007-01-01T00:00:00",
          "2006-01-01T00:00:00",
          "2005-01-01T00:00:00",
          "2004-01-01T00:00:00",
          "2003-01-01T00:00:00",
          "2002-01-01T00:00:00",
          "2001-01-01T00:00:00",
          "2000-01-01T00:00:00"
         ],
         "xaxis": "x",
         "y": [
          70.15,
          70.91,
          70.71,
          70.467,
          70.117,
          69.636,
          69.074,
          68.46,
          67.887,
          67.359,
          66.909,
          66.513,
          66.149,
          65.788,
          65.412,
          64.996,
          64.524,
          64.094,
          63.616,
          63.091,
          62.669
         ],
         "yaxis": "y"
        },
        {
         "hovertemplate": "country=United States<br>date=%{x}<br>Life Expectancy at Birth=%{y}<extra></extra>",
         "legendgroup": "United States",
         "line": {
          "color": "#ab63fa",
          "dash": "solid"
         },
         "marker": {
          "symbol": "circle"
         },
         "mode": "lines",
         "name": "United States",
         "orientation": "v",
         "showlegend": true,
         "type": "scatter",
         "x": [
          "2020-01-01T00:00:00",
          "2019-01-01T00:00:00",
          "2018-01-01T00:00:00",
          "2017-01-01T00:00:00",
          "2016-01-01T00:00:00",
          "2015-01-01T00:00:00",
          "2014-01-01T00:00:00",
          "2013-01-01T00:00:00",
          "2012-01-01T00:00:00",
          "2011-01-01T00:00:00",
          "2010-01-01T00:00:00",
          "2009-01-01T00:00:00",
          "2008-01-01T00:00:00",
          "2007-01-01T00:00:00",
          "2006-01-01T00:00:00",
          "2005-01-01T00:00:00",
          "2004-01-01T00:00:00",
          "2003-01-01T00:00:00",
          "2002-01-01T00:00:00",
          "2001-01-01T00:00:00",
          "2000-01-01T00:00:00"
         ],
         "xaxis": "x",
         "y": [
          76.9804878048781,
          78.7878048780488,
          78.6390243902439,
          78.5390243902439,
          78.5390243902439,
          78.690243902439,
          78.8414634146341,
          78.7414634146342,
          78.7414634146342,
          78.6414634146341,
          78.5414634146342,
          78.390243902439,
          78.0390243902439,
          77.9878048780488,
          77.6878048780488,
          77.4878048780488,
          77.4878048780488,
          77.0365853658537,
          76.9365853658537,
          76.8365853658537,
          76.6365853658537
         ],
         "yaxis": "y"
        }
       ],
       "layout": {
        "legend": {
         "title": {
          "text": "country"
         },
         "tracegroupgap": 0
        },
        "template": {
         "data": {
          "bar": [
           {
            "error_x": {
             "color": "#2a3f5f"
            },
            "error_y": {
             "color": "#2a3f5f"
            },
            "marker": {
             "line": {
              "color": "#E5ECF6",
              "width": 0.5
             },
             "pattern": {
              "fillmode": "overlay",
              "size": 10,
              "solidity": 0.2
             }
            },
            "type": "bar"
           }
          ],
          "barpolar": [
           {
            "marker": {
             "line": {
              "color": "#E5ECF6",
              "width": 0.5
             },
             "pattern": {
              "fillmode": "overlay",
              "size": 10,
              "solidity": 0.2
             }
            },
            "type": "barpolar"
           }
          ],
          "carpet": [
           {
            "aaxis": {
             "endlinecolor": "#2a3f5f",
             "gridcolor": "white",
             "linecolor": "white",
             "minorgridcolor": "white",
             "startlinecolor": "#2a3f5f"
            },
            "baxis": {
             "endlinecolor": "#2a3f5f",
             "gridcolor": "white",
             "linecolor": "white",
             "minorgridcolor": "white",
             "startlinecolor": "#2a3f5f"
            },
            "type": "carpet"
           }
          ],
          "choropleth": [
           {
            "colorbar": {
             "outlinewidth": 0,
             "ticks": ""
            },
            "type": "choropleth"
           }
          ],
          "contour": [
           {
            "colorbar": {
             "outlinewidth": 0,
             "ticks": ""
            },
            "colorscale": [
             [
              0,
              "#0d0887"
             ],
             [
              0.1111111111111111,
              "#46039f"
             ],
             [
              0.2222222222222222,
              "#7201a8"
             ],
             [
              0.3333333333333333,
              "#9c179e"
             ],
             [
              0.4444444444444444,
              "#bd3786"
             ],
             [
              0.5555555555555556,
              "#d8576b"
             ],
             [
              0.6666666666666666,
              "#ed7953"
             ],
             [
              0.7777777777777778,
              "#fb9f3a"
             ],
             [
              0.8888888888888888,
              "#fdca26"
             ],
             [
              1,
              "#f0f921"
             ]
            ],
            "type": "contour"
           }
          ],
          "contourcarpet": [
           {
            "colorbar": {
             "outlinewidth": 0,
             "ticks": ""
            },
            "type": "contourcarpet"
           }
          ],
          "heatmap": [
           {
            "colorbar": {
             "outlinewidth": 0,
             "ticks": ""
            },
            "colorscale": [
             [
              0,
              "#0d0887"
             ],
             [
              0.1111111111111111,
              "#46039f"
             ],
             [
              0.2222222222222222,
              "#7201a8"
             ],
             [
              0.3333333333333333,
              "#9c179e"
             ],
             [
              0.4444444444444444,
              "#bd3786"
             ],
             [
              0.5555555555555556,
              "#d8576b"
             ],
             [
              0.6666666666666666,
              "#ed7953"
             ],
             [
              0.7777777777777778,
              "#fb9f3a"
             ],
             [
              0.8888888888888888,
              "#fdca26"
             ],
             [
              1,
              "#f0f921"
             ]
            ],
            "type": "heatmap"
           }
          ],
          "heatmapgl": [
           {
            "colorbar": {
             "outlinewidth": 0,
             "ticks": ""
            },
            "colorscale": [
             [
              0,
              "#0d0887"
             ],
             [
              0.1111111111111111,
              "#46039f"
             ],
             [
              0.2222222222222222,
              "#7201a8"
             ],
             [
              0.3333333333333333,
              "#9c179e"
             ],
             [
              0.4444444444444444,
              "#bd3786"
             ],
             [
              0.5555555555555556,
              "#d8576b"
             ],
             [
              0.6666666666666666,
              "#ed7953"
             ],
             [
              0.7777777777777778,
              "#fb9f3a"
             ],
             [
              0.8888888888888888,
              "#fdca26"
             ],
             [
              1,
              "#f0f921"
             ]
            ],
            "type": "heatmapgl"
           }
          ],
          "histogram": [
           {
            "marker": {
             "pattern": {
              "fillmode": "overlay",
              "size": 10,
              "solidity": 0.2
             }
            },
            "type": "histogram"
           }
          ],
          "histogram2d": [
           {
            "colorbar": {
             "outlinewidth": 0,
             "ticks": ""
            },
            "colorscale": [
             [
              0,
              "#0d0887"
             ],
             [
              0.1111111111111111,
              "#46039f"
             ],
             [
              0.2222222222222222,
              "#7201a8"
             ],
             [
              0.3333333333333333,
              "#9c179e"
             ],
             [
              0.4444444444444444,
              "#bd3786"
             ],
             [
              0.5555555555555556,
              "#d8576b"
             ],
             [
              0.6666666666666666,
              "#ed7953"
             ],
             [
              0.7777777777777778,
              "#fb9f3a"
             ],
             [
              0.8888888888888888,
              "#fdca26"
             ],
             [
              1,
              "#f0f921"
             ]
            ],
            "type": "histogram2d"
           }
          ],
          "histogram2dcontour": [
           {
            "colorbar": {
             "outlinewidth": 0,
             "ticks": ""
            },
            "colorscale": [
             [
              0,
              "#0d0887"
             ],
             [
              0.1111111111111111,
              "#46039f"
             ],
             [
              0.2222222222222222,
              "#7201a8"
             ],
             [
              0.3333333333333333,
              "#9c179e"
             ],
             [
              0.4444444444444444,
              "#bd3786"
             ],
             [
              0.5555555555555556,
              "#d8576b"
             ],
             [
              0.6666666666666666,
              "#ed7953"
             ],
             [
              0.7777777777777778,
              "#fb9f3a"
             ],
             [
              0.8888888888888888,
              "#fdca26"
             ],
             [
              1,
              "#f0f921"
             ]
            ],
            "type": "histogram2dcontour"
           }
          ],
          "mesh3d": [
           {
            "colorbar": {
             "outlinewidth": 0,
             "ticks": ""
            },
            "type": "mesh3d"
           }
          ],
          "parcoords": [
           {
            "line": {
             "colorbar": {
              "outlinewidth": 0,
              "ticks": ""
             }
            },
            "type": "parcoords"
           }
          ],
          "pie": [
           {
            "automargin": true,
            "type": "pie"
           }
          ],
          "scatter": [
           {
            "fillpattern": {
             "fillmode": "overlay",
             "size": 10,
             "solidity": 0.2
            },
            "type": "scatter"
           }
          ],
          "scatter3d": [
           {
            "line": {
             "colorbar": {
              "outlinewidth": 0,
              "ticks": ""
             }
            },
            "marker": {
             "colorbar": {
              "outlinewidth": 0,
              "ticks": ""
             }
            },
            "type": "scatter3d"
           }
          ],
          "scattercarpet": [
           {
            "marker": {
             "colorbar": {
              "outlinewidth": 0,
              "ticks": ""
             }
            },
            "type": "scattercarpet"
           }
          ],
          "scattergeo": [
           {
            "marker": {
             "colorbar": {
              "outlinewidth": 0,
              "ticks": ""
             }
            },
            "type": "scattergeo"
           }
          ],
          "scattergl": [
           {
            "marker": {
             "colorbar": {
              "outlinewidth": 0,
              "ticks": ""
             }
            },
            "type": "scattergl"
           }
          ],
          "scattermapbox": [
           {
            "marker": {
             "colorbar": {
              "outlinewidth": 0,
              "ticks": ""
             }
            },
            "type": "scattermapbox"
           }
          ],
          "scatterpolar": [
           {
            "marker": {
             "colorbar": {
              "outlinewidth": 0,
              "ticks": ""
             }
            },
            "type": "scatterpolar"
           }
          ],
          "scatterpolargl": [
           {
            "marker": {
             "colorbar": {
              "outlinewidth": 0,
              "ticks": ""
             }
            },
            "type": "scatterpolargl"
           }
          ],
          "scatterternary": [
           {
            "marker": {
             "colorbar": {
              "outlinewidth": 0,
              "ticks": ""
             }
            },
            "type": "scatterternary"
           }
          ],
          "surface": [
           {
            "colorbar": {
             "outlinewidth": 0,
             "ticks": ""
            },
            "colorscale": [
             [
              0,
              "#0d0887"
             ],
             [
              0.1111111111111111,
              "#46039f"
             ],
             [
              0.2222222222222222,
              "#7201a8"
             ],
             [
              0.3333333333333333,
              "#9c179e"
             ],
             [
              0.4444444444444444,
              "#bd3786"
             ],
             [
              0.5555555555555556,
              "#d8576b"
             ],
             [
              0.6666666666666666,
              "#ed7953"
             ],
             [
              0.7777777777777778,
              "#fb9f3a"
             ],
             [
              0.8888888888888888,
              "#fdca26"
             ],
             [
              1,
              "#f0f921"
             ]
            ],
            "type": "surface"
           }
          ],
          "table": [
           {
            "cells": {
             "fill": {
              "color": "#EBF0F8"
             },
             "line": {
              "color": "white"
             }
            },
            "header": {
             "fill": {
              "color": "#C8D4E3"
             },
             "line": {
              "color": "white"
             }
            },
            "type": "table"
           }
          ]
         },
         "layout": {
          "annotationdefaults": {
           "arrowcolor": "#2a3f5f",
           "arrowhead": 0,
           "arrowwidth": 1
          },
          "autotypenumbers": "strict",
          "coloraxis": {
           "colorbar": {
            "outlinewidth": 0,
            "ticks": ""
           }
          },
          "colorscale": {
           "diverging": [
            [
             0,
             "#8e0152"
            ],
            [
             0.1,
             "#c51b7d"
            ],
            [
             0.2,
             "#de77ae"
            ],
            [
             0.3,
             "#f1b6da"
            ],
            [
             0.4,
             "#fde0ef"
            ],
            [
             0.5,
             "#f7f7f7"
            ],
            [
             0.6,
             "#e6f5d0"
            ],
            [
             0.7,
             "#b8e186"
            ],
            [
             0.8,
             "#7fbc41"
            ],
            [
             0.9,
             "#4d9221"
            ],
            [
             1,
             "#276419"
            ]
           ],
           "sequential": [
            [
             0,
             "#0d0887"
            ],
            [
             0.1111111111111111,
             "#46039f"
            ],
            [
             0.2222222222222222,
             "#7201a8"
            ],
            [
             0.3333333333333333,
             "#9c179e"
            ],
            [
             0.4444444444444444,
             "#bd3786"
            ],
            [
             0.5555555555555556,
             "#d8576b"
            ],
            [
             0.6666666666666666,
             "#ed7953"
            ],
            [
             0.7777777777777778,
             "#fb9f3a"
            ],
            [
             0.8888888888888888,
             "#fdca26"
            ],
            [
             1,
             "#f0f921"
            ]
           ],
           "sequentialminus": [
            [
             0,
             "#0d0887"
            ],
            [
             0.1111111111111111,
             "#46039f"
            ],
            [
             0.2222222222222222,
             "#7201a8"
            ],
            [
             0.3333333333333333,
             "#9c179e"
            ],
            [
             0.4444444444444444,
             "#bd3786"
            ],
            [
             0.5555555555555556,
             "#d8576b"
            ],
            [
             0.6666666666666666,
             "#ed7953"
            ],
            [
             0.7777777777777778,
             "#fb9f3a"
            ],
            [
             0.8888888888888888,
             "#fdca26"
            ],
            [
             1,
             "#f0f921"
            ]
           ]
          },
          "colorway": [
           "#636efa",
           "#EF553B",
           "#00cc96",
           "#ab63fa",
           "#FFA15A",
           "#19d3f3",
           "#FF6692",
           "#B6E880",
           "#FF97FF",
           "#FECB52"
          ],
          "font": {
           "color": "#2a3f5f"
          },
          "geo": {
           "bgcolor": "white",
           "lakecolor": "white",
           "landcolor": "#E5ECF6",
           "showlakes": true,
           "showland": true,
           "subunitcolor": "white"
          },
          "hoverlabel": {
           "align": "left"
          },
          "hovermode": "closest",
          "mapbox": {
           "style": "light"
          },
          "paper_bgcolor": "white",
          "plot_bgcolor": "#E5ECF6",
          "polar": {
           "angularaxis": {
            "gridcolor": "white",
            "linecolor": "white",
            "ticks": ""
           },
           "bgcolor": "#E5ECF6",
           "radialaxis": {
            "gridcolor": "white",
            "linecolor": "white",
            "ticks": ""
           }
          },
          "scene": {
           "xaxis": {
            "backgroundcolor": "#E5ECF6",
            "gridcolor": "white",
            "gridwidth": 2,
            "linecolor": "white",
            "showbackground": true,
            "ticks": "",
            "zerolinecolor": "white"
           },
           "yaxis": {
            "backgroundcolor": "#E5ECF6",
            "gridcolor": "white",
            "gridwidth": 2,
            "linecolor": "white",
            "showbackground": true,
            "ticks": "",
            "zerolinecolor": "white"
           },
           "zaxis": {
            "backgroundcolor": "#E5ECF6",
            "gridcolor": "white",
            "gridwidth": 2,
            "linecolor": "white",
            "showbackground": true,
            "ticks": "",
            "zerolinecolor": "white"
           }
          },
          "shapedefaults": {
           "line": {
            "color": "#2a3f5f"
           }
          },
          "ternary": {
           "aaxis": {
            "gridcolor": "white",
            "linecolor": "white",
            "ticks": ""
           },
           "baxis": {
            "gridcolor": "white",
            "linecolor": "white",
            "ticks": ""
           },
           "bgcolor": "#E5ECF6",
           "caxis": {
            "gridcolor": "white",
            "linecolor": "white",
            "ticks": ""
           }
          },
          "title": {
           "x": 0.05
          },
          "xaxis": {
           "automargin": true,
           "gridcolor": "white",
           "linecolor": "white",
           "ticks": "",
           "title": {
            "standoff": 15
           },
           "zerolinecolor": "white",
           "zerolinewidth": 2
          },
          "yaxis": {
           "automargin": true,
           "gridcolor": "white",
           "linecolor": "white",
           "ticks": "",
           "title": {
            "standoff": 15
           },
           "zerolinecolor": "white",
           "zerolinewidth": 2
          }
         }
        },
        "title": {
         "text": "Life Expectancy at Birth"
        },
        "xaxis": {
         "anchor": "y",
         "domain": [
          0,
          1
         ],
         "title": {
          "text": "date"
         }
        },
        "yaxis": {
         "anchor": "x",
         "domain": [
          0,
          1
         ],
         "title": {
          "text": "Life Expectancy at Birth"
         }
        }
       }
      }
     },
     "metadata": {},
     "output_type": "display_data"
    },
    {
     "data": {
      "application/vnd.plotly.v1+json": {
       "config": {
        "plotlyServerURL": "https://plot.ly"
       },
       "data": [
        {
         "hovertemplate": "country=Argentina<br>date=%{x}<br>Child Mortality=%{y}<extra></extra>",
         "legendgroup": "Argentina",
         "line": {
          "color": "#636efa",
          "dash": "solid"
         },
         "marker": {
          "symbol": "circle"
         },
         "mode": "lines",
         "name": "Argentina",
         "orientation": "v",
         "showlegend": true,
         "type": "scatter",
         "x": [
          "2020-01-01T00:00:00",
          "2019-01-01T00:00:00",
          "2018-01-01T00:00:00",
          "2017-01-01T00:00:00",
          "2016-01-01T00:00:00",
          "2015-01-01T00:00:00",
          "2014-01-01T00:00:00",
          "2013-01-01T00:00:00",
          "2012-01-01T00:00:00",
          "2011-01-01T00:00:00",
          "2010-01-01T00:00:00",
          "2009-01-01T00:00:00",
          "2008-01-01T00:00:00",
          "2007-01-01T00:00:00",
          "2006-01-01T00:00:00",
          "2005-01-01T00:00:00",
          "2004-01-01T00:00:00",
          "2003-01-01T00:00:00",
          "2002-01-01T00:00:00",
          "2001-01-01T00:00:00",
          "2000-01-01T00:00:00"
         ],
         "xaxis": "x",
         "y": [
          7.7,
          8.6,
          9.5,
          10.3,
          11,
          11.6,
          12.2,
          12.7,
          13.3,
          13.9,
          14.5,
          15,
          15.4,
          15.7,
          16.1,
          16.6,
          17.1,
          17.7,
          18.3,
          19,
          19.7
         ],
         "yaxis": "y"
        },
        {
         "hovertemplate": "country=Ethiopia<br>date=%{x}<br>Child Mortality=%{y}<extra></extra>",
         "legendgroup": "Ethiopia",
         "line": {
          "color": "#EF553B",
          "dash": "solid"
         },
         "marker": {
          "symbol": "circle"
         },
         "mode": "lines",
         "name": "Ethiopia",
         "orientation": "v",
         "showlegend": true,
         "type": "scatter",
         "x": [
          "2020-01-01T00:00:00",
          "2019-01-01T00:00:00",
          "2018-01-01T00:00:00",
          "2017-01-01T00:00:00",
          "2016-01-01T00:00:00",
          "2015-01-01T00:00:00",
          "2014-01-01T00:00:00",
          "2013-01-01T00:00:00",
          "2012-01-01T00:00:00",
          "2011-01-01T00:00:00",
          "2010-01-01T00:00:00",
          "2009-01-01T00:00:00",
          "2008-01-01T00:00:00",
          "2007-01-01T00:00:00",
          "2006-01-01T00:00:00",
          "2005-01-01T00:00:00",
          "2004-01-01T00:00:00",
          "2003-01-01T00:00:00",
          "2002-01-01T00:00:00",
          "2001-01-01T00:00:00",
          "2000-01-01T00:00:00"
         ],
         "xaxis": "x",
         "y": [
          48.7,
          50.9,
          53.2,
          56,
          59,
          62.4,
          65.9,
          69.6,
          73.6,
          77.7,
          82.1,
          86.7,
          91.7,
          97.1,
          102.8,
          108.9,
          115.3,
          121.7,
          128.1,
          134.4,
          140.5
         ],
         "yaxis": "y"
        },
        {
         "hovertemplate": "country=India<br>date=%{x}<br>Child Mortality=%{y}<extra></extra>",
         "legendgroup": "India",
         "line": {
          "color": "#00cc96",
          "dash": "solid"
         },
         "marker": {
          "symbol": "circle"
         },
         "mode": "lines",
         "name": "India",
         "orientation": "v",
         "showlegend": true,
         "type": "scatter",
         "x": [
          "2020-01-01T00:00:00",
          "2019-01-01T00:00:00",
          "2018-01-01T00:00:00",
          "2017-01-01T00:00:00",
          "2016-01-01T00:00:00",
          "2015-01-01T00:00:00",
          "2014-01-01T00:00:00",
          "2013-01-01T00:00:00",
          "2012-01-01T00:00:00",
          "2011-01-01T00:00:00",
          "2010-01-01T00:00:00",
          "2009-01-01T00:00:00",
          "2008-01-01T00:00:00",
          "2007-01-01T00:00:00",
          "2006-01-01T00:00:00",
          "2005-01-01T00:00:00",
          "2004-01-01T00:00:00",
          "2003-01-01T00:00:00",
          "2002-01-01T00:00:00",
          "2001-01-01T00:00:00",
          "2000-01-01T00:00:00"
         ],
         "xaxis": "x",
         "y": [
          32.4,
          34.3,
          36.4,
          38.7,
          41,
          43.6,
          46.2,
          49.1,
          52,
          55,
          58.1,
          61.3,
          64.5,
          67.8,
          71.1,
          74.4,
          77.7,
          81.1,
          84.5,
          88,
          91.6
         ],
         "yaxis": "y"
        },
        {
         "hovertemplate": "country=United States<br>date=%{x}<br>Child Mortality=%{y}<extra></extra>",
         "legendgroup": "United States",
         "line": {
          "color": "#ab63fa",
          "dash": "solid"
         },
         "marker": {
          "symbol": "circle"
         },
         "mode": "lines",
         "name": "United States",
         "orientation": "v",
         "showlegend": true,
         "type": "scatter",
         "x": [
          "2020-01-01T00:00:00",
          "2019-01-01T00:00:00",
          "2018-01-01T00:00:00",
          "2017-01-01T00:00:00",
          "2016-01-01T00:00:00",
          "2015-01-01T00:00:00",
          "2014-01-01T00:00:00",
          "2013-01-01T00:00:00",
          "2012-01-01T00:00:00",
          "2011-01-01T00:00:00",
          "2010-01-01T00:00:00",
          "2009-01-01T00:00:00",
          "2008-01-01T00:00:00",
          "2007-01-01T00:00:00",
          "2006-01-01T00:00:00",
          "2005-01-01T00:00:00",
          "2004-01-01T00:00:00",
          "2003-01-01T00:00:00",
          "2002-01-01T00:00:00",
          "2001-01-01T00:00:00",
          "2000-01-01T00:00:00"
         ],
         "xaxis": "x",
         "y": [
          6.3,
          6.4,
          6.5,
          6.6,
          6.7,
          6.8,
          6.9,
          7,
          7.1,
          7.2,
          7.3,
          7.5,
          7.6,
          7.7,
          7.9,
          8,
          8.1,
          8.1,
          8.2,
          8.3,
          8.4
         ],
         "yaxis": "y"
        }
       ],
       "layout": {
        "legend": {
         "title": {
          "text": "country"
         },
         "tracegroupgap": 0
        },
        "template": {
         "data": {
          "bar": [
           {
            "error_x": {
             "color": "#2a3f5f"
            },
            "error_y": {
             "color": "#2a3f5f"
            },
            "marker": {
             "line": {
              "color": "#E5ECF6",
              "width": 0.5
             },
             "pattern": {
              "fillmode": "overlay",
              "size": 10,
              "solidity": 0.2
             }
            },
            "type": "bar"
           }
          ],
          "barpolar": [
           {
            "marker": {
             "line": {
              "color": "#E5ECF6",
              "width": 0.5
             },
             "pattern": {
              "fillmode": "overlay",
              "size": 10,
              "solidity": 0.2
             }
            },
            "type": "barpolar"
           }
          ],
          "carpet": [
           {
            "aaxis": {
             "endlinecolor": "#2a3f5f",
             "gridcolor": "white",
             "linecolor": "white",
             "minorgridcolor": "white",
             "startlinecolor": "#2a3f5f"
            },
            "baxis": {
             "endlinecolor": "#2a3f5f",
             "gridcolor": "white",
             "linecolor": "white",
             "minorgridcolor": "white",
             "startlinecolor": "#2a3f5f"
            },
            "type": "carpet"
           }
          ],
          "choropleth": [
           {
            "colorbar": {
             "outlinewidth": 0,
             "ticks": ""
            },
            "type": "choropleth"
           }
          ],
          "contour": [
           {
            "colorbar": {
             "outlinewidth": 0,
             "ticks": ""
            },
            "colorscale": [
             [
              0,
              "#0d0887"
             ],
             [
              0.1111111111111111,
              "#46039f"
             ],
             [
              0.2222222222222222,
              "#7201a8"
             ],
             [
              0.3333333333333333,
              "#9c179e"
             ],
             [
              0.4444444444444444,
              "#bd3786"
             ],
             [
              0.5555555555555556,
              "#d8576b"
             ],
             [
              0.6666666666666666,
              "#ed7953"
             ],
             [
              0.7777777777777778,
              "#fb9f3a"
             ],
             [
              0.8888888888888888,
              "#fdca26"
             ],
             [
              1,
              "#f0f921"
             ]
            ],
            "type": "contour"
           }
          ],
          "contourcarpet": [
           {
            "colorbar": {
             "outlinewidth": 0,
             "ticks": ""
            },
            "type": "contourcarpet"
           }
          ],
          "heatmap": [
           {
            "colorbar": {
             "outlinewidth": 0,
             "ticks": ""
            },
            "colorscale": [
             [
              0,
              "#0d0887"
             ],
             [
              0.1111111111111111,
              "#46039f"
             ],
             [
              0.2222222222222222,
              "#7201a8"
             ],
             [
              0.3333333333333333,
              "#9c179e"
             ],
             [
              0.4444444444444444,
              "#bd3786"
             ],
             [
              0.5555555555555556,
              "#d8576b"
             ],
             [
              0.6666666666666666,
              "#ed7953"
             ],
             [
              0.7777777777777778,
              "#fb9f3a"
             ],
             [
              0.8888888888888888,
              "#fdca26"
             ],
             [
              1,
              "#f0f921"
             ]
            ],
            "type": "heatmap"
           }
          ],
          "heatmapgl": [
           {
            "colorbar": {
             "outlinewidth": 0,
             "ticks": ""
            },
            "colorscale": [
             [
              0,
              "#0d0887"
             ],
             [
              0.1111111111111111,
              "#46039f"
             ],
             [
              0.2222222222222222,
              "#7201a8"
             ],
             [
              0.3333333333333333,
              "#9c179e"
             ],
             [
              0.4444444444444444,
              "#bd3786"
             ],
             [
              0.5555555555555556,
              "#d8576b"
             ],
             [
              0.6666666666666666,
              "#ed7953"
             ],
             [
              0.7777777777777778,
              "#fb9f3a"
             ],
             [
              0.8888888888888888,
              "#fdca26"
             ],
             [
              1,
              "#f0f921"
             ]
            ],
            "type": "heatmapgl"
           }
          ],
          "histogram": [
           {
            "marker": {
             "pattern": {
              "fillmode": "overlay",
              "size": 10,
              "solidity": 0.2
             }
            },
            "type": "histogram"
           }
          ],
          "histogram2d": [
           {
            "colorbar": {
             "outlinewidth": 0,
             "ticks": ""
            },
            "colorscale": [
             [
              0,
              "#0d0887"
             ],
             [
              0.1111111111111111,
              "#46039f"
             ],
             [
              0.2222222222222222,
              "#7201a8"
             ],
             [
              0.3333333333333333,
              "#9c179e"
             ],
             [
              0.4444444444444444,
              "#bd3786"
             ],
             [
              0.5555555555555556,
              "#d8576b"
             ],
             [
              0.6666666666666666,
              "#ed7953"
             ],
             [
              0.7777777777777778,
              "#fb9f3a"
             ],
             [
              0.8888888888888888,
              "#fdca26"
             ],
             [
              1,
              "#f0f921"
             ]
            ],
            "type": "histogram2d"
           }
          ],
          "histogram2dcontour": [
           {
            "colorbar": {
             "outlinewidth": 0,
             "ticks": ""
            },
            "colorscale": [
             [
              0,
              "#0d0887"
             ],
             [
              0.1111111111111111,
              "#46039f"
             ],
             [
              0.2222222222222222,
              "#7201a8"
             ],
             [
              0.3333333333333333,
              "#9c179e"
             ],
             [
              0.4444444444444444,
              "#bd3786"
             ],
             [
              0.5555555555555556,
              "#d8576b"
             ],
             [
              0.6666666666666666,
              "#ed7953"
             ],
             [
              0.7777777777777778,
              "#fb9f3a"
             ],
             [
              0.8888888888888888,
              "#fdca26"
             ],
             [
              1,
              "#f0f921"
             ]
            ],
            "type": "histogram2dcontour"
           }
          ],
          "mesh3d": [
           {
            "colorbar": {
             "outlinewidth": 0,
             "ticks": ""
            },
            "type": "mesh3d"
           }
          ],
          "parcoords": [
           {
            "line": {
             "colorbar": {
              "outlinewidth": 0,
              "ticks": ""
             }
            },
            "type": "parcoords"
           }
          ],
          "pie": [
           {
            "automargin": true,
            "type": "pie"
           }
          ],
          "scatter": [
           {
            "fillpattern": {
             "fillmode": "overlay",
             "size": 10,
             "solidity": 0.2
            },
            "type": "scatter"
           }
          ],
          "scatter3d": [
           {
            "line": {
             "colorbar": {
              "outlinewidth": 0,
              "ticks": ""
             }
            },
            "marker": {
             "colorbar": {
              "outlinewidth": 0,
              "ticks": ""
             }
            },
            "type": "scatter3d"
           }
          ],
          "scattercarpet": [
           {
            "marker": {
             "colorbar": {
              "outlinewidth": 0,
              "ticks": ""
             }
            },
            "type": "scattercarpet"
           }
          ],
          "scattergeo": [
           {
            "marker": {
             "colorbar": {
              "outlinewidth": 0,
              "ticks": ""
             }
            },
            "type": "scattergeo"
           }
          ],
          "scattergl": [
           {
            "marker": {
             "colorbar": {
              "outlinewidth": 0,
              "ticks": ""
             }
            },
            "type": "scattergl"
           }
          ],
          "scattermapbox": [
           {
            "marker": {
             "colorbar": {
              "outlinewidth": 0,
              "ticks": ""
             }
            },
            "type": "scattermapbox"
           }
          ],
          "scatterpolar": [
           {
            "marker": {
             "colorbar": {
              "outlinewidth": 0,
              "ticks": ""
             }
            },
            "type": "scatterpolar"
           }
          ],
          "scatterpolargl": [
           {
            "marker": {
             "colorbar": {
              "outlinewidth": 0,
              "ticks": ""
             }
            },
            "type": "scatterpolargl"
           }
          ],
          "scatterternary": [
           {
            "marker": {
             "colorbar": {
              "outlinewidth": 0,
              "ticks": ""
             }
            },
            "type": "scatterternary"
           }
          ],
          "surface": [
           {
            "colorbar": {
             "outlinewidth": 0,
             "ticks": ""
            },
            "colorscale": [
             [
              0,
              "#0d0887"
             ],
             [
              0.1111111111111111,
              "#46039f"
             ],
             [
              0.2222222222222222,
              "#7201a8"
             ],
             [
              0.3333333333333333,
              "#9c179e"
             ],
             [
              0.4444444444444444,
              "#bd3786"
             ],
             [
              0.5555555555555556,
              "#d8576b"
             ],
             [
              0.6666666666666666,
              "#ed7953"
             ],
             [
              0.7777777777777778,
              "#fb9f3a"
             ],
             [
              0.8888888888888888,
              "#fdca26"
             ],
             [
              1,
              "#f0f921"
             ]
            ],
            "type": "surface"
           }
          ],
          "table": [
           {
            "cells": {
             "fill": {
              "color": "#EBF0F8"
             },
             "line": {
              "color": "white"
             }
            },
            "header": {
             "fill": {
              "color": "#C8D4E3"
             },
             "line": {
              "color": "white"
             }
            },
            "type": "table"
           }
          ]
         },
         "layout": {
          "annotationdefaults": {
           "arrowcolor": "#2a3f5f",
           "arrowhead": 0,
           "arrowwidth": 1
          },
          "autotypenumbers": "strict",
          "coloraxis": {
           "colorbar": {
            "outlinewidth": 0,
            "ticks": ""
           }
          },
          "colorscale": {
           "diverging": [
            [
             0,
             "#8e0152"
            ],
            [
             0.1,
             "#c51b7d"
            ],
            [
             0.2,
             "#de77ae"
            ],
            [
             0.3,
             "#f1b6da"
            ],
            [
             0.4,
             "#fde0ef"
            ],
            [
             0.5,
             "#f7f7f7"
            ],
            [
             0.6,
             "#e6f5d0"
            ],
            [
             0.7,
             "#b8e186"
            ],
            [
             0.8,
             "#7fbc41"
            ],
            [
             0.9,
             "#4d9221"
            ],
            [
             1,
             "#276419"
            ]
           ],
           "sequential": [
            [
             0,
             "#0d0887"
            ],
            [
             0.1111111111111111,
             "#46039f"
            ],
            [
             0.2222222222222222,
             "#7201a8"
            ],
            [
             0.3333333333333333,
             "#9c179e"
            ],
            [
             0.4444444444444444,
             "#bd3786"
            ],
            [
             0.5555555555555556,
             "#d8576b"
            ],
            [
             0.6666666666666666,
             "#ed7953"
            ],
            [
             0.7777777777777778,
             "#fb9f3a"
            ],
            [
             0.8888888888888888,
             "#fdca26"
            ],
            [
             1,
             "#f0f921"
            ]
           ],
           "sequentialminus": [
            [
             0,
             "#0d0887"
            ],
            [
             0.1111111111111111,
             "#46039f"
            ],
            [
             0.2222222222222222,
             "#7201a8"
            ],
            [
             0.3333333333333333,
             "#9c179e"
            ],
            [
             0.4444444444444444,
             "#bd3786"
            ],
            [
             0.5555555555555556,
             "#d8576b"
            ],
            [
             0.6666666666666666,
             "#ed7953"
            ],
            [
             0.7777777777777778,
             "#fb9f3a"
            ],
            [
             0.8888888888888888,
             "#fdca26"
            ],
            [
             1,
             "#f0f921"
            ]
           ]
          },
          "colorway": [
           "#636efa",
           "#EF553B",
           "#00cc96",
           "#ab63fa",
           "#FFA15A",
           "#19d3f3",
           "#FF6692",
           "#B6E880",
           "#FF97FF",
           "#FECB52"
          ],
          "font": {
           "color": "#2a3f5f"
          },
          "geo": {
           "bgcolor": "white",
           "lakecolor": "white",
           "landcolor": "#E5ECF6",
           "showlakes": true,
           "showland": true,
           "subunitcolor": "white"
          },
          "hoverlabel": {
           "align": "left"
          },
          "hovermode": "closest",
          "mapbox": {
           "style": "light"
          },
          "paper_bgcolor": "white",
          "plot_bgcolor": "#E5ECF6",
          "polar": {
           "angularaxis": {
            "gridcolor": "white",
            "linecolor": "white",
            "ticks": ""
           },
           "bgcolor": "#E5ECF6",
           "radialaxis": {
            "gridcolor": "white",
            "linecolor": "white",
            "ticks": ""
           }
          },
          "scene": {
           "xaxis": {
            "backgroundcolor": "#E5ECF6",
            "gridcolor": "white",
            "gridwidth": 2,
            "linecolor": "white",
            "showbackground": true,
            "ticks": "",
            "zerolinecolor": "white"
           },
           "yaxis": {
            "backgroundcolor": "#E5ECF6",
            "gridcolor": "white",
            "gridwidth": 2,
            "linecolor": "white",
            "showbackground": true,
            "ticks": "",
            "zerolinecolor": "white"
           },
           "zaxis": {
            "backgroundcolor": "#E5ECF6",
            "gridcolor": "white",
            "gridwidth": 2,
            "linecolor": "white",
            "showbackground": true,
            "ticks": "",
            "zerolinecolor": "white"
           }
          },
          "shapedefaults": {
           "line": {
            "color": "#2a3f5f"
           }
          },
          "ternary": {
           "aaxis": {
            "gridcolor": "white",
            "linecolor": "white",
            "ticks": ""
           },
           "baxis": {
            "gridcolor": "white",
            "linecolor": "white",
            "ticks": ""
           },
           "bgcolor": "#E5ECF6",
           "caxis": {
            "gridcolor": "white",
            "linecolor": "white",
            "ticks": ""
           }
          },
          "title": {
           "x": 0.05
          },
          "xaxis": {
           "automargin": true,
           "gridcolor": "white",
           "linecolor": "white",
           "ticks": "",
           "title": {
            "standoff": 15
           },
           "zerolinecolor": "white",
           "zerolinewidth": 2
          },
          "yaxis": {
           "automargin": true,
           "gridcolor": "white",
           "linecolor": "white",
           "ticks": "",
           "title": {
            "standoff": 15
           },
           "zerolinecolor": "white",
           "zerolinewidth": 2
          }
         }
        },
        "title": {
         "text": "Child Mortality"
        },
        "xaxis": {
         "anchor": "y",
         "domain": [
          0,
          1
         ],
         "title": {
          "text": "date"
         }
        },
        "yaxis": {
         "anchor": "x",
         "domain": [
          0,
          1
         ],
         "title": {
          "text": "Child Mortality"
         }
        }
       }
      }
     },
     "metadata": {},
     "output_type": "display_data"
    },
    {
     "data": {
      "application/vnd.plotly.v1+json": {
       "config": {
        "plotlyServerURL": "https://plot.ly"
       },
       "data": [
        {
         "hovertemplate": "country=Argentina<br>date=%{x}<br>Maternal Mortality Rate=%{y}<extra></extra>",
         "legendgroup": "Argentina",
         "line": {
          "color": "#636efa",
          "dash": "solid"
         },
         "marker": {
          "symbol": "circle"
         },
         "mode": "lines",
         "name": "Argentina",
         "orientation": "v",
         "showlegend": true,
         "type": "scatter",
         "x": [
          "2020-01-01T00:00:00",
          "2019-01-01T00:00:00",
          "2018-01-01T00:00:00",
          "2017-01-01T00:00:00",
          "2016-01-01T00:00:00",
          "2015-01-01T00:00:00",
          "2014-01-01T00:00:00",
          "2013-01-01T00:00:00",
          "2012-01-01T00:00:00",
          "2011-01-01T00:00:00",
          "2010-01-01T00:00:00",
          "2009-01-01T00:00:00",
          "2008-01-01T00:00:00",
          "2007-01-01T00:00:00",
          "2006-01-01T00:00:00",
          "2005-01-01T00:00:00",
          "2004-01-01T00:00:00",
          "2003-01-01T00:00:00",
          "2002-01-01T00:00:00",
          "2001-01-01T00:00:00",
          "2000-01-01T00:00:00"
         ],
         "xaxis": "x",
         "y": [
          45,
          33,
          34,
          38,
          40,
          39,
          42,
          43,
          45,
          50,
          55,
          57,
          59,
          63,
          61,
          63,
          73,
          79,
          71,
          72,
          72
         ],
         "yaxis": "y"
        },
        {
         "hovertemplate": "country=Ethiopia<br>date=%{x}<br>Maternal Mortality Rate=%{y}<extra></extra>",
         "legendgroup": "Ethiopia",
         "line": {
          "color": "#EF553B",
          "dash": "solid"
         },
         "marker": {
          "symbol": "circle"
         },
         "mode": "lines",
         "name": "Ethiopia",
         "orientation": "v",
         "showlegend": true,
         "type": "scatter",
         "x": [
          "2020-01-01T00:00:00",
          "2019-01-01T00:00:00",
          "2018-01-01T00:00:00",
          "2017-01-01T00:00:00",
          "2016-01-01T00:00:00",
          "2015-01-01T00:00:00",
          "2014-01-01T00:00:00",
          "2013-01-01T00:00:00",
          "2012-01-01T00:00:00",
          "2011-01-01T00:00:00",
          "2010-01-01T00:00:00",
          "2009-01-01T00:00:00",
          "2008-01-01T00:00:00",
          "2007-01-01T00:00:00",
          "2006-01-01T00:00:00",
          "2005-01-01T00:00:00",
          "2004-01-01T00:00:00",
          "2003-01-01T00:00:00",
          "2002-01-01T00:00:00",
          "2001-01-01T00:00:00",
          "2000-01-01T00:00:00"
         ],
         "xaxis": "x",
         "y": [
          267,
          294,
          312,
          348,
          356,
          399,
          447,
          498,
          543,
          603,
          635,
          684,
          725,
          780,
          814,
          880,
          900,
          906,
          960,
          955,
          953
         ],
         "yaxis": "y"
        },
        {
         "hovertemplate": "country=India<br>date=%{x}<br>Maternal Mortality Rate=%{y}<extra></extra>",
         "legendgroup": "India",
         "line": {
          "color": "#00cc96",
          "dash": "solid"
         },
         "marker": {
          "symbol": "circle"
         },
         "mode": "lines",
         "name": "India",
         "orientation": "v",
         "showlegend": true,
         "type": "scatter",
         "x": [
          "2020-01-01T00:00:00",
          "2019-01-01T00:00:00",
          "2018-01-01T00:00:00",
          "2017-01-01T00:00:00",
          "2016-01-01T00:00:00",
          "2015-01-01T00:00:00",
          "2014-01-01T00:00:00",
          "2013-01-01T00:00:00",
          "2012-01-01T00:00:00",
          "2011-01-01T00:00:00",
          "2010-01-01T00:00:00",
          "2009-01-01T00:00:00",
          "2008-01-01T00:00:00",
          "2007-01-01T00:00:00",
          "2006-01-01T00:00:00",
          "2005-01-01T00:00:00",
          "2004-01-01T00:00:00",
          "2003-01-01T00:00:00",
          "2002-01-01T00:00:00",
          "2001-01-01T00:00:00",
          "2000-01-01T00:00:00"
         ],
         "xaxis": "x",
         "y": [
          103,
          116,
          116,
          119,
          121,
          128,
          135,
          154,
          162,
          170,
          179,
          207,
          221,
          234,
          248,
          286,
          301,
          315,
          329,
          371,
          384
         ],
         "yaxis": "y"
        },
        {
         "hovertemplate": "country=United States<br>date=%{x}<br>Maternal Mortality Rate=%{y}<extra></extra>",
         "legendgroup": "United States",
         "line": {
          "color": "#ab63fa",
          "dash": "solid"
         },
         "marker": {
          "symbol": "circle"
         },
         "mode": "lines",
         "name": "United States",
         "orientation": "v",
         "showlegend": true,
         "type": "scatter",
         "x": [
          "2020-01-01T00:00:00",
          "2019-01-01T00:00:00",
          "2018-01-01T00:00:00",
          "2017-01-01T00:00:00",
          "2016-01-01T00:00:00",
          "2015-01-01T00:00:00",
          "2014-01-01T00:00:00",
          "2013-01-01T00:00:00",
          "2012-01-01T00:00:00",
          "2011-01-01T00:00:00",
          "2010-01-01T00:00:00",
          "2009-01-01T00:00:00",
          "2008-01-01T00:00:00",
          "2007-01-01T00:00:00",
          "2006-01-01T00:00:00",
          "2005-01-01T00:00:00",
          "2004-01-01T00:00:00",
          "2003-01-01T00:00:00",
          "2002-01-01T00:00:00",
          "2001-01-01T00:00:00",
          "2000-01-01T00:00:00"
         ],
         "xaxis": "x",
         "y": [
          21,
          20,
          19,
          19,
          18,
          17,
          17,
          16,
          16,
          15,
          14,
          15,
          14,
          13,
          13,
          13,
          13,
          13,
          13,
          13,
          12
         ],
         "yaxis": "y"
        }
       ],
       "layout": {
        "legend": {
         "title": {
          "text": "country"
         },
         "tracegroupgap": 0
        },
        "template": {
         "data": {
          "bar": [
           {
            "error_x": {
             "color": "#2a3f5f"
            },
            "error_y": {
             "color": "#2a3f5f"
            },
            "marker": {
             "line": {
              "color": "#E5ECF6",
              "width": 0.5
             },
             "pattern": {
              "fillmode": "overlay",
              "size": 10,
              "solidity": 0.2
             }
            },
            "type": "bar"
           }
          ],
          "barpolar": [
           {
            "marker": {
             "line": {
              "color": "#E5ECF6",
              "width": 0.5
             },
             "pattern": {
              "fillmode": "overlay",
              "size": 10,
              "solidity": 0.2
             }
            },
            "type": "barpolar"
           }
          ],
          "carpet": [
           {
            "aaxis": {
             "endlinecolor": "#2a3f5f",
             "gridcolor": "white",
             "linecolor": "white",
             "minorgridcolor": "white",
             "startlinecolor": "#2a3f5f"
            },
            "baxis": {
             "endlinecolor": "#2a3f5f",
             "gridcolor": "white",
             "linecolor": "white",
             "minorgridcolor": "white",
             "startlinecolor": "#2a3f5f"
            },
            "type": "carpet"
           }
          ],
          "choropleth": [
           {
            "colorbar": {
             "outlinewidth": 0,
             "ticks": ""
            },
            "type": "choropleth"
           }
          ],
          "contour": [
           {
            "colorbar": {
             "outlinewidth": 0,
             "ticks": ""
            },
            "colorscale": [
             [
              0,
              "#0d0887"
             ],
             [
              0.1111111111111111,
              "#46039f"
             ],
             [
              0.2222222222222222,
              "#7201a8"
             ],
             [
              0.3333333333333333,
              "#9c179e"
             ],
             [
              0.4444444444444444,
              "#bd3786"
             ],
             [
              0.5555555555555556,
              "#d8576b"
             ],
             [
              0.6666666666666666,
              "#ed7953"
             ],
             [
              0.7777777777777778,
              "#fb9f3a"
             ],
             [
              0.8888888888888888,
              "#fdca26"
             ],
             [
              1,
              "#f0f921"
             ]
            ],
            "type": "contour"
           }
          ],
          "contourcarpet": [
           {
            "colorbar": {
             "outlinewidth": 0,
             "ticks": ""
            },
            "type": "contourcarpet"
           }
          ],
          "heatmap": [
           {
            "colorbar": {
             "outlinewidth": 0,
             "ticks": ""
            },
            "colorscale": [
             [
              0,
              "#0d0887"
             ],
             [
              0.1111111111111111,
              "#46039f"
             ],
             [
              0.2222222222222222,
              "#7201a8"
             ],
             [
              0.3333333333333333,
              "#9c179e"
             ],
             [
              0.4444444444444444,
              "#bd3786"
             ],
             [
              0.5555555555555556,
              "#d8576b"
             ],
             [
              0.6666666666666666,
              "#ed7953"
             ],
             [
              0.7777777777777778,
              "#fb9f3a"
             ],
             [
              0.8888888888888888,
              "#fdca26"
             ],
             [
              1,
              "#f0f921"
             ]
            ],
            "type": "heatmap"
           }
          ],
          "heatmapgl": [
           {
            "colorbar": {
             "outlinewidth": 0,
             "ticks": ""
            },
            "colorscale": [
             [
              0,
              "#0d0887"
             ],
             [
              0.1111111111111111,
              "#46039f"
             ],
             [
              0.2222222222222222,
              "#7201a8"
             ],
             [
              0.3333333333333333,
              "#9c179e"
             ],
             [
              0.4444444444444444,
              "#bd3786"
             ],
             [
              0.5555555555555556,
              "#d8576b"
             ],
             [
              0.6666666666666666,
              "#ed7953"
             ],
             [
              0.7777777777777778,
              "#fb9f3a"
             ],
             [
              0.8888888888888888,
              "#fdca26"
             ],
             [
              1,
              "#f0f921"
             ]
            ],
            "type": "heatmapgl"
           }
          ],
          "histogram": [
           {
            "marker": {
             "pattern": {
              "fillmode": "overlay",
              "size": 10,
              "solidity": 0.2
             }
            },
            "type": "histogram"
           }
          ],
          "histogram2d": [
           {
            "colorbar": {
             "outlinewidth": 0,
             "ticks": ""
            },
            "colorscale": [
             [
              0,
              "#0d0887"
             ],
             [
              0.1111111111111111,
              "#46039f"
             ],
             [
              0.2222222222222222,
              "#7201a8"
             ],
             [
              0.3333333333333333,
              "#9c179e"
             ],
             [
              0.4444444444444444,
              "#bd3786"
             ],
             [
              0.5555555555555556,
              "#d8576b"
             ],
             [
              0.6666666666666666,
              "#ed7953"
             ],
             [
              0.7777777777777778,
              "#fb9f3a"
             ],
             [
              0.8888888888888888,
              "#fdca26"
             ],
             [
              1,
              "#f0f921"
             ]
            ],
            "type": "histogram2d"
           }
          ],
          "histogram2dcontour": [
           {
            "colorbar": {
             "outlinewidth": 0,
             "ticks": ""
            },
            "colorscale": [
             [
              0,
              "#0d0887"
             ],
             [
              0.1111111111111111,
              "#46039f"
             ],
             [
              0.2222222222222222,
              "#7201a8"
             ],
             [
              0.3333333333333333,
              "#9c179e"
             ],
             [
              0.4444444444444444,
              "#bd3786"
             ],
             [
              0.5555555555555556,
              "#d8576b"
             ],
             [
              0.6666666666666666,
              "#ed7953"
             ],
             [
              0.7777777777777778,
              "#fb9f3a"
             ],
             [
              0.8888888888888888,
              "#fdca26"
             ],
             [
              1,
              "#f0f921"
             ]
            ],
            "type": "histogram2dcontour"
           }
          ],
          "mesh3d": [
           {
            "colorbar": {
             "outlinewidth": 0,
             "ticks": ""
            },
            "type": "mesh3d"
           }
          ],
          "parcoords": [
           {
            "line": {
             "colorbar": {
              "outlinewidth": 0,
              "ticks": ""
             }
            },
            "type": "parcoords"
           }
          ],
          "pie": [
           {
            "automargin": true,
            "type": "pie"
           }
          ],
          "scatter": [
           {
            "fillpattern": {
             "fillmode": "overlay",
             "size": 10,
             "solidity": 0.2
            },
            "type": "scatter"
           }
          ],
          "scatter3d": [
           {
            "line": {
             "colorbar": {
              "outlinewidth": 0,
              "ticks": ""
             }
            },
            "marker": {
             "colorbar": {
              "outlinewidth": 0,
              "ticks": ""
             }
            },
            "type": "scatter3d"
           }
          ],
          "scattercarpet": [
           {
            "marker": {
             "colorbar": {
              "outlinewidth": 0,
              "ticks": ""
             }
            },
            "type": "scattercarpet"
           }
          ],
          "scattergeo": [
           {
            "marker": {
             "colorbar": {
              "outlinewidth": 0,
              "ticks": ""
             }
            },
            "type": "scattergeo"
           }
          ],
          "scattergl": [
           {
            "marker": {
             "colorbar": {
              "outlinewidth": 0,
              "ticks": ""
             }
            },
            "type": "scattergl"
           }
          ],
          "scattermapbox": [
           {
            "marker": {
             "colorbar": {
              "outlinewidth": 0,
              "ticks": ""
             }
            },
            "type": "scattermapbox"
           }
          ],
          "scatterpolar": [
           {
            "marker": {
             "colorbar": {
              "outlinewidth": 0,
              "ticks": ""
             }
            },
            "type": "scatterpolar"
           }
          ],
          "scatterpolargl": [
           {
            "marker": {
             "colorbar": {
              "outlinewidth": 0,
              "ticks": ""
             }
            },
            "type": "scatterpolargl"
           }
          ],
          "scatterternary": [
           {
            "marker": {
             "colorbar": {
              "outlinewidth": 0,
              "ticks": ""
             }
            },
            "type": "scatterternary"
           }
          ],
          "surface": [
           {
            "colorbar": {
             "outlinewidth": 0,
             "ticks": ""
            },
            "colorscale": [
             [
              0,
              "#0d0887"
             ],
             [
              0.1111111111111111,
              "#46039f"
             ],
             [
              0.2222222222222222,
              "#7201a8"
             ],
             [
              0.3333333333333333,
              "#9c179e"
             ],
             [
              0.4444444444444444,
              "#bd3786"
             ],
             [
              0.5555555555555556,
              "#d8576b"
             ],
             [
              0.6666666666666666,
              "#ed7953"
             ],
             [
              0.7777777777777778,
              "#fb9f3a"
             ],
             [
              0.8888888888888888,
              "#fdca26"
             ],
             [
              1,
              "#f0f921"
             ]
            ],
            "type": "surface"
           }
          ],
          "table": [
           {
            "cells": {
             "fill": {
              "color": "#EBF0F8"
             },
             "line": {
              "color": "white"
             }
            },
            "header": {
             "fill": {
              "color": "#C8D4E3"
             },
             "line": {
              "color": "white"
             }
            },
            "type": "table"
           }
          ]
         },
         "layout": {
          "annotationdefaults": {
           "arrowcolor": "#2a3f5f",
           "arrowhead": 0,
           "arrowwidth": 1
          },
          "autotypenumbers": "strict",
          "coloraxis": {
           "colorbar": {
            "outlinewidth": 0,
            "ticks": ""
           }
          },
          "colorscale": {
           "diverging": [
            [
             0,
             "#8e0152"
            ],
            [
             0.1,
             "#c51b7d"
            ],
            [
             0.2,
             "#de77ae"
            ],
            [
             0.3,
             "#f1b6da"
            ],
            [
             0.4,
             "#fde0ef"
            ],
            [
             0.5,
             "#f7f7f7"
            ],
            [
             0.6,
             "#e6f5d0"
            ],
            [
             0.7,
             "#b8e186"
            ],
            [
             0.8,
             "#7fbc41"
            ],
            [
             0.9,
             "#4d9221"
            ],
            [
             1,
             "#276419"
            ]
           ],
           "sequential": [
            [
             0,
             "#0d0887"
            ],
            [
             0.1111111111111111,
             "#46039f"
            ],
            [
             0.2222222222222222,
             "#7201a8"
            ],
            [
             0.3333333333333333,
             "#9c179e"
            ],
            [
             0.4444444444444444,
             "#bd3786"
            ],
            [
             0.5555555555555556,
             "#d8576b"
            ],
            [
             0.6666666666666666,
             "#ed7953"
            ],
            [
             0.7777777777777778,
             "#fb9f3a"
            ],
            [
             0.8888888888888888,
             "#fdca26"
            ],
            [
             1,
             "#f0f921"
            ]
           ],
           "sequentialminus": [
            [
             0,
             "#0d0887"
            ],
            [
             0.1111111111111111,
             "#46039f"
            ],
            [
             0.2222222222222222,
             "#7201a8"
            ],
            [
             0.3333333333333333,
             "#9c179e"
            ],
            [
             0.4444444444444444,
             "#bd3786"
            ],
            [
             0.5555555555555556,
             "#d8576b"
            ],
            [
             0.6666666666666666,
             "#ed7953"
            ],
            [
             0.7777777777777778,
             "#fb9f3a"
            ],
            [
             0.8888888888888888,
             "#fdca26"
            ],
            [
             1,
             "#f0f921"
            ]
           ]
          },
          "colorway": [
           "#636efa",
           "#EF553B",
           "#00cc96",
           "#ab63fa",
           "#FFA15A",
           "#19d3f3",
           "#FF6692",
           "#B6E880",
           "#FF97FF",
           "#FECB52"
          ],
          "font": {
           "color": "#2a3f5f"
          },
          "geo": {
           "bgcolor": "white",
           "lakecolor": "white",
           "landcolor": "#E5ECF6",
           "showlakes": true,
           "showland": true,
           "subunitcolor": "white"
          },
          "hoverlabel": {
           "align": "left"
          },
          "hovermode": "closest",
          "mapbox": {
           "style": "light"
          },
          "paper_bgcolor": "white",
          "plot_bgcolor": "#E5ECF6",
          "polar": {
           "angularaxis": {
            "gridcolor": "white",
            "linecolor": "white",
            "ticks": ""
           },
           "bgcolor": "#E5ECF6",
           "radialaxis": {
            "gridcolor": "white",
            "linecolor": "white",
            "ticks": ""
           }
          },
          "scene": {
           "xaxis": {
            "backgroundcolor": "#E5ECF6",
            "gridcolor": "white",
            "gridwidth": 2,
            "linecolor": "white",
            "showbackground": true,
            "ticks": "",
            "zerolinecolor": "white"
           },
           "yaxis": {
            "backgroundcolor": "#E5ECF6",
            "gridcolor": "white",
            "gridwidth": 2,
            "linecolor": "white",
            "showbackground": true,
            "ticks": "",
            "zerolinecolor": "white"
           },
           "zaxis": {
            "backgroundcolor": "#E5ECF6",
            "gridcolor": "white",
            "gridwidth": 2,
            "linecolor": "white",
            "showbackground": true,
            "ticks": "",
            "zerolinecolor": "white"
           }
          },
          "shapedefaults": {
           "line": {
            "color": "#2a3f5f"
           }
          },
          "ternary": {
           "aaxis": {
            "gridcolor": "white",
            "linecolor": "white",
            "ticks": ""
           },
           "baxis": {
            "gridcolor": "white",
            "linecolor": "white",
            "ticks": ""
           },
           "bgcolor": "#E5ECF6",
           "caxis": {
            "gridcolor": "white",
            "linecolor": "white",
            "ticks": ""
           }
          },
          "title": {
           "x": 0.05
          },
          "xaxis": {
           "automargin": true,
           "gridcolor": "white",
           "linecolor": "white",
           "ticks": "",
           "title": {
            "standoff": 15
           },
           "zerolinecolor": "white",
           "zerolinewidth": 2
          },
          "yaxis": {
           "automargin": true,
           "gridcolor": "white",
           "linecolor": "white",
           "ticks": "",
           "title": {
            "standoff": 15
           },
           "zerolinecolor": "white",
           "zerolinewidth": 2
          }
         }
        },
        "title": {
         "text": "Maternal Mortality Rate"
        },
        "xaxis": {
         "anchor": "y",
         "domain": [
          0,
          1
         ],
         "title": {
          "text": "date"
         }
        },
        "yaxis": {
         "anchor": "x",
         "domain": [
          0,
          1
         ],
         "title": {
          "text": "Maternal Mortality Rate"
         }
        }
       }
      }
     },
     "metadata": {},
     "output_type": "display_data"
    }
   ],
   "source": [
    "#GDP per capita\n",
    "fig1 = px.line(df_gdp_filtered, x = 'date', y = 'gdppc', color = 'country', title = 'GDP per Capita')\n",
    "\n",
    "#Health expenditure as a percentae of GDP\n",
    "fig2 = px.line(df_health_filtered, x = 'date', y = 'Health Expenditure as a Percentage of GDP', color = 'country', title = 'Health Expenditure as a Percentage of GDP')\n",
    "\n",
    "#Immunization\n",
    "fig3 = px.line(df_health_filtered, x = 'date', y = 'Immunization', color = 'country', title = 'Immunization')\n",
    "\n",
    "#Life Expectancy at Birth\n",
    "fig4 = px.line(df_life_exp_filtered, x = 'date', y = 'Life Expectancy at Birth', color = 'country', title = 'Life Expectancy at Birth')\n",
    "\n",
    "#Child Mortality\n",
    "fig5 = px.line(df_life_exp_filtered, x = 'date', y = 'Child Mortality', color = 'country', title = 'Child Mortality')\n",
    "\n",
    "# Maternal Mortality Rate\n",
    "fig6 = px.line(df_immuni_childmortality_filtered, x = 'date', y = 'Maternal Mortality Rate', color = 'country', title = 'Maternal Mortality Rate')\n",
    "\n",
    "fig1.show()\n",
    "fig2.show()\n",
    "fig3.show()\n",
    "fig4.show()\n",
    "fig5.show()\n",
    "fig6.show()"
   ]
  },
  {
   "cell_type": "code",
   "execution_count": 43,
   "metadata": {},
   "outputs": [
    {
     "data": {
      "text/plain": [
       "'hello'"
      ]
     },
     "execution_count": 43,
     "metadata": {},
     "output_type": "execute_result"
    }
   ],
   "source": [
    "'hello'"
   ]
  },
  {
   "cell_type": "code",
   "execution_count": 44,
   "metadata": {},
   "outputs": [
    {
     "name": "stdout",
     "output_type": "stream",
     "text": [
      "this is a test\n"
     ]
    }
   ],
   "source": [
    "print('this is a test')"
   ]
  },
  {
   "cell_type": "code",
   "execution_count": 45,
   "metadata": {},
   "outputs": [
    {
     "name": "stdout",
     "output_type": "stream",
     "text": [
      "tet\n"
     ]
    }
   ],
   "source": [
    "print('tet')"
   ]
  },
  {
   "cell_type": "code",
   "execution_count": null,
   "metadata": {},
   "outputs": [],
   "source": []
  }
 ],
 "metadata": {
  "kernelspec": {
   "display_name": "Python 3",
   "language": "python",
   "name": "python3"
  },
  "language_info": {
   "codemirror_mode": {
    "name": "ipython",
    "version": 3
   },
   "file_extension": ".py",
   "mimetype": "text/x-python",
   "name": "python",
   "nbconvert_exporter": "python",
   "pygments_lexer": "ipython3",
   "version": "3.10.7"
  }
 },
 "nbformat": 4,
 "nbformat_minor": 2
}
